{
 "cells": [
  {
   "cell_type": "markdown",
   "metadata": {
    "deletable": false,
    "editable": false
   },
   "source": [
    "Copyright 2020 Andrew M. Olney and made available under [CC BY-SA](https://creativecommons.org/licenses/by-sa/4.0) for text and [Apache-2.0](http://www.apache.org/licenses/LICENSE-2.0) for code.\n"
   ]
  },
  {
   "cell_type": "markdown",
   "metadata": {},
   "source": [
    "# $K$-Nearest Neighbor Regression: Problem solving"
   ]
  },
  {
   "cell_type": "markdown",
   "metadata": {},
   "source": [
    "In this session, we will look at another dataset, `mpg`, that examines the performance of cars from the 1970s.\n",
    "The variables in it are:\n",
    "\n",
    "| Variable | Description                              |\n",
    "|----------|:------------------------------------------|\n",
    "| mpg      | Miles/(US) gallon                        |\n",
    "| cyl      | Number of cylinders                      |\n",
    "| disp     | Displacement (cu.in.)                    |\n",
    "| hp       | Gross horsepower                         |\n",
    "| drat     | Rear axle ratio                          |\n",
    "| wt       | Weight (1000 lbs)                        |\n",
    "| qsec     | 1/4 mile time                            |\n",
    "| vs       | Engine (0 = V-shaped, 1 = straight)      |\n",
    "| am       | Transmission (0 = automatic, 1 = manual) |\n",
    "| gear     | Number of forward gears                  |\n",
    "| carb     | Number of carburetors                    | \n",
    "| **name**     | **Name of car model**|\n",
    "\n",
    "<div style=\"text-align:center;font-size: smaller\">\n",
    "    <b>Source:</b> This dataset was taken from the StatLib library which is maintained at Carnegie Mellon University.\n",
    "</div>"
   ]
  },
  {
   "cell_type": "markdown",
   "metadata": {},
   "source": [
    "The last variable, `name` is not data but rather an ID.\n",
    "\n",
    "For this session, we are interested in predicting `mpg`.\n",
    "\n",
    "**QUESTION:**\n",
    "\n",
    "What makes name an ID?"
   ]
  },
  {
   "cell_type": "markdown",
   "metadata": {},
   "source": [
    "**ANSWER: (click here to edit)**\n",
    "\n",
    "*`name` is different for every datapoint; no two rows have the same name.*"
   ]
  },
  {
   "cell_type": "markdown",
   "metadata": {},
   "source": [
    "## Load the data\n",
    "\n",
    "Start by importing `pandas`."
   ]
  },
  {
   "cell_type": "code",
   "execution_count": 1,
   "metadata": {},
   "outputs": [],
   "source": [
    "import pandas as pd\n",
    "\n",
    "#<xml xmlns=\"https://developers.google.com/blockly/xml\"><variables><variable id=\"A]5Vf/x,=8dk=KKk3OrJ\">pd</variable></variables><block type=\"importAs_Python\" id=\"/k@:}OLWtAh)hpx[.2^]\" x=\"150\" y=\"308\"><field name=\"libraryName\">pandas</field><field name=\"libraryAlias\" id=\"A]5Vf/x,=8dk=KKk3OrJ\">pd</field></block></xml>"
   ]
  },
  {
   "cell_type": "markdown",
   "metadata": {},
   "source": [
    "Load a dataframe with `\"datasets/mpg-nona.csv\"` but tell `pandas` to treat `name` as an ID.\n",
    "\n",
    "Hint: `read_csv` using a list containing the filename and `index_col=\"name\"`."
   ]
  },
  {
   "cell_type": "code",
   "execution_count": 2,
   "metadata": {},
   "outputs": [
    {
     "data": {
      "text/html": [
       "<div>\n",
       "<style scoped>\n",
       "    .dataframe tbody tr th:only-of-type {\n",
       "        vertical-align: middle;\n",
       "    }\n",
       "\n",
       "    .dataframe tbody tr th {\n",
       "        vertical-align: top;\n",
       "    }\n",
       "\n",
       "    .dataframe thead th {\n",
       "        text-align: right;\n",
       "    }\n",
       "</style>\n",
       "<table border=\"1\" class=\"dataframe\">\n",
       "  <thead>\n",
       "    <tr style=\"text-align: right;\">\n",
       "      <th></th>\n",
       "      <th>mpg</th>\n",
       "      <th>cylinders</th>\n",
       "      <th>displacement</th>\n",
       "      <th>horsepower</th>\n",
       "      <th>weight</th>\n",
       "      <th>acceleration</th>\n",
       "      <th>model_year</th>\n",
       "      <th>origin</th>\n",
       "    </tr>\n",
       "    <tr>\n",
       "      <th>name</th>\n",
       "      <th></th>\n",
       "      <th></th>\n",
       "      <th></th>\n",
       "      <th></th>\n",
       "      <th></th>\n",
       "      <th></th>\n",
       "      <th></th>\n",
       "      <th></th>\n",
       "    </tr>\n",
       "  </thead>\n",
       "  <tbody>\n",
       "    <tr>\n",
       "      <th>chevrolet chevelle malibu</th>\n",
       "      <td>18.0</td>\n",
       "      <td>8</td>\n",
       "      <td>307.0</td>\n",
       "      <td>130</td>\n",
       "      <td>3504</td>\n",
       "      <td>12.0</td>\n",
       "      <td>70</td>\n",
       "      <td>1</td>\n",
       "    </tr>\n",
       "    <tr>\n",
       "      <th>buick skylark 320</th>\n",
       "      <td>15.0</td>\n",
       "      <td>8</td>\n",
       "      <td>350.0</td>\n",
       "      <td>165</td>\n",
       "      <td>3693</td>\n",
       "      <td>11.5</td>\n",
       "      <td>70</td>\n",
       "      <td>1</td>\n",
       "    </tr>\n",
       "    <tr>\n",
       "      <th>plymouth satellite</th>\n",
       "      <td>18.0</td>\n",
       "      <td>8</td>\n",
       "      <td>318.0</td>\n",
       "      <td>150</td>\n",
       "      <td>3436</td>\n",
       "      <td>11.0</td>\n",
       "      <td>70</td>\n",
       "      <td>1</td>\n",
       "    </tr>\n",
       "    <tr>\n",
       "      <th>amc rebel sst</th>\n",
       "      <td>16.0</td>\n",
       "      <td>8</td>\n",
       "      <td>304.0</td>\n",
       "      <td>150</td>\n",
       "      <td>3433</td>\n",
       "      <td>12.0</td>\n",
       "      <td>70</td>\n",
       "      <td>1</td>\n",
       "    </tr>\n",
       "    <tr>\n",
       "      <th>ford torino</th>\n",
       "      <td>17.0</td>\n",
       "      <td>8</td>\n",
       "      <td>302.0</td>\n",
       "      <td>140</td>\n",
       "      <td>3449</td>\n",
       "      <td>10.5</td>\n",
       "      <td>70</td>\n",
       "      <td>1</td>\n",
       "    </tr>\n",
       "    <tr>\n",
       "      <th>...</th>\n",
       "      <td>...</td>\n",
       "      <td>...</td>\n",
       "      <td>...</td>\n",
       "      <td>...</td>\n",
       "      <td>...</td>\n",
       "      <td>...</td>\n",
       "      <td>...</td>\n",
       "      <td>...</td>\n",
       "    </tr>\n",
       "    <tr>\n",
       "      <th>ford mustang gl</th>\n",
       "      <td>27.0</td>\n",
       "      <td>4</td>\n",
       "      <td>140.0</td>\n",
       "      <td>86</td>\n",
       "      <td>2790</td>\n",
       "      <td>15.6</td>\n",
       "      <td>82</td>\n",
       "      <td>1</td>\n",
       "    </tr>\n",
       "    <tr>\n",
       "      <th>vw pickup</th>\n",
       "      <td>44.0</td>\n",
       "      <td>4</td>\n",
       "      <td>97.0</td>\n",
       "      <td>52</td>\n",
       "      <td>2130</td>\n",
       "      <td>24.6</td>\n",
       "      <td>82</td>\n",
       "      <td>2</td>\n",
       "    </tr>\n",
       "    <tr>\n",
       "      <th>dodge rampage</th>\n",
       "      <td>32.0</td>\n",
       "      <td>4</td>\n",
       "      <td>135.0</td>\n",
       "      <td>84</td>\n",
       "      <td>2295</td>\n",
       "      <td>11.6</td>\n",
       "      <td>82</td>\n",
       "      <td>1</td>\n",
       "    </tr>\n",
       "    <tr>\n",
       "      <th>ford ranger</th>\n",
       "      <td>28.0</td>\n",
       "      <td>4</td>\n",
       "      <td>120.0</td>\n",
       "      <td>79</td>\n",
       "      <td>2625</td>\n",
       "      <td>18.6</td>\n",
       "      <td>82</td>\n",
       "      <td>1</td>\n",
       "    </tr>\n",
       "    <tr>\n",
       "      <th>chevy s-10</th>\n",
       "      <td>31.0</td>\n",
       "      <td>4</td>\n",
       "      <td>119.0</td>\n",
       "      <td>82</td>\n",
       "      <td>2720</td>\n",
       "      <td>19.4</td>\n",
       "      <td>82</td>\n",
       "      <td>1</td>\n",
       "    </tr>\n",
       "  </tbody>\n",
       "</table>\n",
       "<p>392 rows × 8 columns</p>\n",
       "</div>"
      ],
      "text/plain": [
       "                            mpg  cylinders  ...  model_year  origin\n",
       "name                                        ...                    \n",
       "chevrolet chevelle malibu  18.0          8  ...          70       1\n",
       "buick skylark 320          15.0          8  ...          70       1\n",
       "plymouth satellite         18.0          8  ...          70       1\n",
       "amc rebel sst              16.0          8  ...          70       1\n",
       "ford torino                17.0          8  ...          70       1\n",
       "...                         ...        ...  ...         ...     ...\n",
       "ford mustang gl            27.0          4  ...          82       1\n",
       "vw pickup                  44.0          4  ...          82       2\n",
       "dodge rampage              32.0          4  ...          82       1\n",
       "ford ranger                28.0          4  ...          82       1\n",
       "chevy s-10                 31.0          4  ...          82       1\n",
       "\n",
       "[392 rows x 8 columns]"
      ]
     },
     "execution_count": 2,
     "metadata": {},
     "output_type": "execute_result"
    }
   ],
   "source": [
    "dataframe = pd.read_csv('datasets/mpg-nona.csv', index_col=\"name\")\n",
    "\n",
    "dataframe\n",
    "\n",
    "#<xml xmlns=\"https://developers.google.com/blockly/xml\"><variables><variable id=\"VTUXry!oy6r;Pw3p@}ta\">dataframe</variable><variable id=\"A]5Vf/x,=8dk=KKk3OrJ\">pd</variable></variables><block type=\"variables_set\" id=\"FJGldw(qFp?V=E]uaN)4\" x=\"31\" y=\"222\"><field name=\"VAR\" id=\"VTUXry!oy6r;Pw3p@}ta\">dataframe</field><value name=\"VALUE\"><block type=\"varDoMethod_Python\" id=\"4s18v%0iqE%_l@{fLYCo\"><field name=\"VAR\" id=\"A]5Vf/x,=8dk=KKk3OrJ\">pd</field><field name=\"MEMBER\">read_csv</field><data>pd:read_csv</data><value name=\"INPUT\"><block type=\"lists_create_with\" id=\"$OX?KBNM:N3p7T5~yRpK\"><mutation items=\"2\"></mutation><value name=\"ADD0\"><block type=\"text\" id=\"tN4Jmaffy/={ZFo;uu;W\"><field name=\"TEXT\">datasets/mpg-nona.csv</field></block></value><value name=\"ADD1\"><block type=\"dummyOutputCodeBlock_Python\" id=\"UrK66ck~y}1(yF=s9A(T\"><field name=\"CODE\">index_col=\"name\"</field></block></value></block></value></block></value></block><block type=\"variables_get\" id=\"yN6MT1B[)Pk)cEECN_YZ\" x=\"31\" y=\"286\"><field name=\"VAR\" id=\"VTUXry!oy6r;Pw3p@}ta\">dataframe</field></block></xml>"
   ]
  },
  {
   "cell_type": "markdown",
   "metadata": {},
   "source": [
    "**QUESTION:**\n",
    "\n",
    "If we had kept `name` as a variable, what do you think would have happened?"
   ]
  },
  {
   "cell_type": "markdown",
   "metadata": {},
   "source": [
    "**ANSWER: (click here to edit)**\n",
    "\n",
    "*KNN would not be able to calculate the distance between names, and would have thrown an error*"
   ]
  },
  {
   "cell_type": "markdown",
   "metadata": {},
   "source": [
    "## Prepare train/test sets\n",
    "\n",
    "Create a new dataframe without `mpg` (i.e, using `drop`) to use as your `X`."
   ]
  },
  {
   "cell_type": "code",
   "execution_count": 3,
   "metadata": {},
   "outputs": [
    {
     "data": {
      "text/html": [
       "<div>\n",
       "<style scoped>\n",
       "    .dataframe tbody tr th:only-of-type {\n",
       "        vertical-align: middle;\n",
       "    }\n",
       "\n",
       "    .dataframe tbody tr th {\n",
       "        vertical-align: top;\n",
       "    }\n",
       "\n",
       "    .dataframe thead th {\n",
       "        text-align: right;\n",
       "    }\n",
       "</style>\n",
       "<table border=\"1\" class=\"dataframe\">\n",
       "  <thead>\n",
       "    <tr style=\"text-align: right;\">\n",
       "      <th></th>\n",
       "      <th>cylinders</th>\n",
       "      <th>displacement</th>\n",
       "      <th>horsepower</th>\n",
       "      <th>weight</th>\n",
       "      <th>acceleration</th>\n",
       "      <th>model_year</th>\n",
       "      <th>origin</th>\n",
       "    </tr>\n",
       "    <tr>\n",
       "      <th>name</th>\n",
       "      <th></th>\n",
       "      <th></th>\n",
       "      <th></th>\n",
       "      <th></th>\n",
       "      <th></th>\n",
       "      <th></th>\n",
       "      <th></th>\n",
       "    </tr>\n",
       "  </thead>\n",
       "  <tbody>\n",
       "    <tr>\n",
       "      <th>chevrolet chevelle malibu</th>\n",
       "      <td>8</td>\n",
       "      <td>307.0</td>\n",
       "      <td>130</td>\n",
       "      <td>3504</td>\n",
       "      <td>12.0</td>\n",
       "      <td>70</td>\n",
       "      <td>1</td>\n",
       "    </tr>\n",
       "    <tr>\n",
       "      <th>buick skylark 320</th>\n",
       "      <td>8</td>\n",
       "      <td>350.0</td>\n",
       "      <td>165</td>\n",
       "      <td>3693</td>\n",
       "      <td>11.5</td>\n",
       "      <td>70</td>\n",
       "      <td>1</td>\n",
       "    </tr>\n",
       "    <tr>\n",
       "      <th>plymouth satellite</th>\n",
       "      <td>8</td>\n",
       "      <td>318.0</td>\n",
       "      <td>150</td>\n",
       "      <td>3436</td>\n",
       "      <td>11.0</td>\n",
       "      <td>70</td>\n",
       "      <td>1</td>\n",
       "    </tr>\n",
       "    <tr>\n",
       "      <th>amc rebel sst</th>\n",
       "      <td>8</td>\n",
       "      <td>304.0</td>\n",
       "      <td>150</td>\n",
       "      <td>3433</td>\n",
       "      <td>12.0</td>\n",
       "      <td>70</td>\n",
       "      <td>1</td>\n",
       "    </tr>\n",
       "    <tr>\n",
       "      <th>ford torino</th>\n",
       "      <td>8</td>\n",
       "      <td>302.0</td>\n",
       "      <td>140</td>\n",
       "      <td>3449</td>\n",
       "      <td>10.5</td>\n",
       "      <td>70</td>\n",
       "      <td>1</td>\n",
       "    </tr>\n",
       "    <tr>\n",
       "      <th>...</th>\n",
       "      <td>...</td>\n",
       "      <td>...</td>\n",
       "      <td>...</td>\n",
       "      <td>...</td>\n",
       "      <td>...</td>\n",
       "      <td>...</td>\n",
       "      <td>...</td>\n",
       "    </tr>\n",
       "    <tr>\n",
       "      <th>ford mustang gl</th>\n",
       "      <td>4</td>\n",
       "      <td>140.0</td>\n",
       "      <td>86</td>\n",
       "      <td>2790</td>\n",
       "      <td>15.6</td>\n",
       "      <td>82</td>\n",
       "      <td>1</td>\n",
       "    </tr>\n",
       "    <tr>\n",
       "      <th>vw pickup</th>\n",
       "      <td>4</td>\n",
       "      <td>97.0</td>\n",
       "      <td>52</td>\n",
       "      <td>2130</td>\n",
       "      <td>24.6</td>\n",
       "      <td>82</td>\n",
       "      <td>2</td>\n",
       "    </tr>\n",
       "    <tr>\n",
       "      <th>dodge rampage</th>\n",
       "      <td>4</td>\n",
       "      <td>135.0</td>\n",
       "      <td>84</td>\n",
       "      <td>2295</td>\n",
       "      <td>11.6</td>\n",
       "      <td>82</td>\n",
       "      <td>1</td>\n",
       "    </tr>\n",
       "    <tr>\n",
       "      <th>ford ranger</th>\n",
       "      <td>4</td>\n",
       "      <td>120.0</td>\n",
       "      <td>79</td>\n",
       "      <td>2625</td>\n",
       "      <td>18.6</td>\n",
       "      <td>82</td>\n",
       "      <td>1</td>\n",
       "    </tr>\n",
       "    <tr>\n",
       "      <th>chevy s-10</th>\n",
       "      <td>4</td>\n",
       "      <td>119.0</td>\n",
       "      <td>82</td>\n",
       "      <td>2720</td>\n",
       "      <td>19.4</td>\n",
       "      <td>82</td>\n",
       "      <td>1</td>\n",
       "    </tr>\n",
       "  </tbody>\n",
       "</table>\n",
       "<p>392 rows × 7 columns</p>\n",
       "</div>"
      ],
      "text/plain": [
       "                           cylinders  displacement  ...  model_year  origin\n",
       "name                                                ...                    \n",
       "chevrolet chevelle malibu          8         307.0  ...          70       1\n",
       "buick skylark 320                  8         350.0  ...          70       1\n",
       "plymouth satellite                 8         318.0  ...          70       1\n",
       "amc rebel sst                      8         304.0  ...          70       1\n",
       "ford torino                        8         302.0  ...          70       1\n",
       "...                              ...           ...  ...         ...     ...\n",
       "ford mustang gl                    4         140.0  ...          82       1\n",
       "vw pickup                          4          97.0  ...          82       2\n",
       "dodge rampage                      4         135.0  ...          82       1\n",
       "ford ranger                        4         120.0  ...          82       1\n",
       "chevy s-10                         4         119.0  ...          82       1\n",
       "\n",
       "[392 rows x 7 columns]"
      ]
     },
     "execution_count": 3,
     "metadata": {},
     "output_type": "execute_result"
    }
   ],
   "source": [
    "X = dataframe.drop(columns=[\"mpg\"])\n",
    "\n",
    "X\n",
    "\n",
    "#<xml xmlns=\"https://developers.google.com/blockly/xml\"><variables><variable id=\"38`.ch!I]C.RvHhzizWA\">X</variable><variable id=\"VTUXry!oy6r;Pw3p@}ta\">dataframe</variable></variables><block type=\"variables_set\" id=\"j12HEn?u}2$P-S)Ax6d(\" x=\"-16\" y=\"265\"><field name=\"VAR\" id=\"38`.ch!I]C.RvHhzizWA\">X</field><value name=\"VALUE\"><block type=\"varDoMethod_Python\" id=\"PMH^/O2y?rD(Y}r-N6eY\"><field name=\"VAR\" id=\"VTUXry!oy6r;Pw3p@}ta\">dataframe</field><field name=\"MEMBER\">drop</field><data>dataframe:drop</data><value name=\"INPUT\"><block type=\"lists_create_with\" id=\"bGn#S3b1DV-0-egwl87D\"><mutation items=\"1\"></mutation><value name=\"ADD0\"><block type=\"dummyOutputCodeBlock_Python\" id=\"8N-YF(7ms%)oox.~Z;b/\"><field name=\"CODE\">columns=[\"mpg\"]</field></block></value></block></value></block></value></block><block type=\"variables_get\" id=\"*Q(nsPMh9xg`HceqC3eN\" x=\"-11\" y=\"350\"><field name=\"VAR\" id=\"38`.ch!I]C.RvHhzizWA\">X</field></block></xml>"
   ]
  },
  {
   "cell_type": "markdown",
   "metadata": {},
   "source": [
    "Create a new dataframe with *only* `mpg` to use as your `Y`."
   ]
  },
  {
   "cell_type": "code",
   "execution_count": 4,
   "metadata": {},
   "outputs": [
    {
     "data": {
      "text/html": [
       "<div>\n",
       "<style scoped>\n",
       "    .dataframe tbody tr th:only-of-type {\n",
       "        vertical-align: middle;\n",
       "    }\n",
       "\n",
       "    .dataframe tbody tr th {\n",
       "        vertical-align: top;\n",
       "    }\n",
       "\n",
       "    .dataframe thead th {\n",
       "        text-align: right;\n",
       "    }\n",
       "</style>\n",
       "<table border=\"1\" class=\"dataframe\">\n",
       "  <thead>\n",
       "    <tr style=\"text-align: right;\">\n",
       "      <th></th>\n",
       "      <th>mpg</th>\n",
       "    </tr>\n",
       "    <tr>\n",
       "      <th>name</th>\n",
       "      <th></th>\n",
       "    </tr>\n",
       "  </thead>\n",
       "  <tbody>\n",
       "    <tr>\n",
       "      <th>chevrolet chevelle malibu</th>\n",
       "      <td>18.0</td>\n",
       "    </tr>\n",
       "    <tr>\n",
       "      <th>buick skylark 320</th>\n",
       "      <td>15.0</td>\n",
       "    </tr>\n",
       "    <tr>\n",
       "      <th>plymouth satellite</th>\n",
       "      <td>18.0</td>\n",
       "    </tr>\n",
       "    <tr>\n",
       "      <th>amc rebel sst</th>\n",
       "      <td>16.0</td>\n",
       "    </tr>\n",
       "    <tr>\n",
       "      <th>ford torino</th>\n",
       "      <td>17.0</td>\n",
       "    </tr>\n",
       "    <tr>\n",
       "      <th>...</th>\n",
       "      <td>...</td>\n",
       "    </tr>\n",
       "    <tr>\n",
       "      <th>ford mustang gl</th>\n",
       "      <td>27.0</td>\n",
       "    </tr>\n",
       "    <tr>\n",
       "      <th>vw pickup</th>\n",
       "      <td>44.0</td>\n",
       "    </tr>\n",
       "    <tr>\n",
       "      <th>dodge rampage</th>\n",
       "      <td>32.0</td>\n",
       "    </tr>\n",
       "    <tr>\n",
       "      <th>ford ranger</th>\n",
       "      <td>28.0</td>\n",
       "    </tr>\n",
       "    <tr>\n",
       "      <th>chevy s-10</th>\n",
       "      <td>31.0</td>\n",
       "    </tr>\n",
       "  </tbody>\n",
       "</table>\n",
       "<p>392 rows × 1 columns</p>\n",
       "</div>"
      ],
      "text/plain": [
       "                            mpg\n",
       "name                           \n",
       "chevrolet chevelle malibu  18.0\n",
       "buick skylark 320          15.0\n",
       "plymouth satellite         18.0\n",
       "amc rebel sst              16.0\n",
       "ford torino                17.0\n",
       "...                         ...\n",
       "ford mustang gl            27.0\n",
       "vw pickup                  44.0\n",
       "dodge rampage              32.0\n",
       "ford ranger                28.0\n",
       "chevy s-10                 31.0\n",
       "\n",
       "[392 rows x 1 columns]"
      ]
     },
     "execution_count": 4,
     "metadata": {},
     "output_type": "execute_result"
    }
   ],
   "source": [
    "Y = dataframe[['mpg']]\n",
    "\n",
    "Y\n",
    "\n",
    "#<xml xmlns=\"https://developers.google.com/blockly/xml\"><variables><variable id=\"3jk=[q5uK1N4/6c%PY%;\">Y</variable><variable id=\"VTUXry!oy6r;Pw3p@}ta\">dataframe</variable></variables><block type=\"variables_set\" id=\"_:J1([xryT4i+F7k{#[%\" x=\"17\" y=\"175\"><field name=\"VAR\" id=\"3jk=[q5uK1N4/6c%PY%;\">Y</field><value name=\"VALUE\"><block type=\"indexer_Python\" id=\"22hOF=T:mHvJrMybHkPs\"><field name=\"VAR\" id=\"VTUXry!oy6r;Pw3p@}ta\">dataframe</field><value name=\"INDEX\"><block type=\"lists_create_with\" id=\"qT2G_{7q~*L;[5j:vtKq\"><mutation items=\"1\"></mutation><value name=\"ADD0\"><block type=\"text\" id=\"=UVLwuCW$1d9ZJ]6HF_,\"><field name=\"TEXT\">mpg</field></block></value></block></value></block></value></block><block type=\"variables_get\" id=\"pog__n6Jf{VK_sNEB)B$\" x=\"17\" y=\"239\"><field name=\"VAR\" id=\"3jk=[q5uK1N4/6c%PY%;\">Y</field></block></xml>"
   ]
  },
  {
   "cell_type": "markdown",
   "metadata": {},
   "source": [
    "The next step is to split `X` and `Y` into train and test sets. \n",
    "\n",
    "First do the import for splitting."
   ]
  },
  {
   "cell_type": "code",
   "execution_count": 5,
   "metadata": {},
   "outputs": [],
   "source": [
    "import sklearn.model_selection as model_selection\n",
    "\n",
    "#<xml xmlns=\"https://developers.google.com/blockly/xml\"><variables><variable id=\"uASGz64Zb$AOvQyV4pRj\">model_selection</variable></variables><block type=\"importAs_Python\" id=\"sN1YO5FEzpHyxb31@j,Z\" x=\"16\" y=\"10\"><field name=\"libraryName\">sklearn.model_selection</field><field name=\"libraryAlias\" id=\"uASGz64Zb$AOvQyV4pRj\">model_selection</field></block></xml>"
   ]
  },
  {
   "cell_type": "markdown",
   "metadata": {},
   "source": [
    "Now split the data."
   ]
  },
  {
   "cell_type": "code",
   "execution_count": 6,
   "metadata": {},
   "outputs": [],
   "source": [
    "splits = model_selection.train_test_split(X, Y, test_size=0.2)\n",
    "\n",
    "#<xml xmlns=\"https://developers.google.com/blockly/xml\"><variables><variable id=\"_ut$e0PL4OMi4o1MXTpw\">splits</variable><variable id=\"uASGz64Zb$AOvQyV4pRj\">model_selection</variable><variable id=\"38`.ch!I]C.RvHhzizWA\">X</variable><variable id=\"3jk=[q5uK1N4/6c%PY%;\">Y</variable></variables><block type=\"variables_set\" id=\"oTGRJ#{R!U^we@Bl@pkT\" x=\"31\" y=\"224\"><field name=\"VAR\" id=\"_ut$e0PL4OMi4o1MXTpw\">splits</field><value name=\"VALUE\"><block type=\"varDoMethod_Python\" id=\"f?j@ker(a#hJv;Nh)IGX\"><field name=\"VAR\" id=\"uASGz64Zb$AOvQyV4pRj\">model_selection</field><field name=\"MEMBER\">train_test_split</field><data>model_selection:train_test_split</data><value name=\"INPUT\"><block type=\"lists_create_with\" id=\"er6r2]}|nA;1;}VsM5I7\"><mutation items=\"3\"></mutation><value name=\"ADD0\"><block type=\"variables_get\" id=\".mm}`*H4)i%Eq5z={e-$\"><field name=\"VAR\" id=\"38`.ch!I]C.RvHhzizWA\">X</field></block></value><value name=\"ADD1\"><block type=\"variables_get\" id=\"I3dOV;CPBf^~E%BvgthZ\"><field name=\"VAR\" id=\"3jk=[q5uK1N4/6c%PY%;\">Y</field></block></value><value name=\"ADD2\"><block type=\"dummyOutputCodeBlock_Python\" id=\"@Hg?ib/!8fH$;f3pWJy2\"><field name=\"CODE\">test_size=0.2</field></block></value></block></value></block></value></block></xml>"
   ]
  },
  {
   "cell_type": "markdown",
   "metadata": {},
   "source": [
    "## KNN regression model\n",
    "\n",
    "Import the five libraries you need for:\n",
    "\n",
    "- KNN regression\n",
    "- Mean squared error\n",
    "- Ravel\n",
    "- Scale\n",
    "- Pipeline"
   ]
  },
  {
   "cell_type": "code",
   "execution_count": 7,
   "metadata": {},
   "outputs": [],
   "source": [
    "import sklearn.neighbors as neighbors\n",
    "import sklearn.metrics as metrics\n",
    "import numpy as np\n",
    "import sklearn.preprocessing as pp\n",
    "import sklearn.pipeline as pipe\n",
    "\n",
    "#<xml xmlns=\"https://developers.google.com/blockly/xml\"><variables><variable id=\"MvUG^P$o3=I*6/67?Rk:\">neighbors</variable><variable id=\")}+w@N9iB/j=:+PLkMv8\">metrics</variable><variable id=\"Zhzp)s*VL?V@ES3(j:*b\">np</variable><variable id=\".T`xqZHAu7r0$MQ4s=Yg\">pp</variable><variable id=\"=z9KfSBWpoDS,oj-?yx,\">pipe</variable></variables><block type=\"importAs_Python\" id=\"Jkis0rqxTm[rs0.yA(O7\" x=\"183\" y=\"249\"><field name=\"libraryName\">sklearn.neighbors</field><field name=\"libraryAlias\" id=\"MvUG^P$o3=I*6/67?Rk:\">neighbors</field><next><block type=\"importAs_Python\" id=\"*G_SVgZ;}hIr,Hi1~$Z6\"><field name=\"libraryName\">sklearn.metrics</field><field name=\"libraryAlias\" id=\")}+w@N9iB/j=:+PLkMv8\">metrics</field><next><block type=\"importAs_Python\" id=\"1ODp#_M`@7Fj/@US}H%#\"><field name=\"libraryName\">numpy</field><field name=\"libraryAlias\" id=\"Zhzp)s*VL?V@ES3(j:*b\">np</field><next><block type=\"importAs_Python\" id=\"/YAkt4vqDQp/.5;pPcY.\"><field name=\"libraryName\">sklearn.preprocessing</field><field name=\"libraryAlias\" id=\".T`xqZHAu7r0$MQ4s=Yg\">pp</field><next><block type=\"importAs_Python\" id=\"O15G]dI#1oM;`7^r@Pr,\"><field name=\"libraryName\">sklearn.pipeline</field><field name=\"libraryAlias\" id=\"=z9KfSBWpoDS,oj-?yx,\">pipe</field></block></next></block></next></block></next></block></next></block></xml>"
   ]
  },
  {
   "cell_type": "markdown",
   "metadata": {},
   "source": [
    "Create a pipeline with a scaler and KNN regression.\n",
    "Remember we need the scaler to put all our variables on the same scale."
   ]
  },
  {
   "cell_type": "code",
   "execution_count": 8,
   "metadata": {},
   "outputs": [],
   "source": [
    "std_clf = pipe.make_pipeline(pp.StandardScaler(), neighbors.KNeighborsRegressor(n_neighbors = 10))\n",
    "\n",
    "#<xml xmlns=\"https://developers.google.com/blockly/xml\"><variables><variable id=\"`P)`+jl|;h{.[r}{78q6\">std_clf</variable><variable id=\"=z9KfSBWpoDS,oj-?yx,\">pipe</variable><variable id=\"MvUG^P$o3=I*6/67?Rk:\">neighbors</variable><variable id=\".T`xqZHAu7r0$MQ4s=Yg\">pp</variable></variables><block type=\"variables_set\" id=\"}81D/tZY#o}$E:M}:u4x\" x=\"77\" y=\"398\"><field name=\"VAR\" id=\"`P)`+jl|;h{.[r}{78q6\">std_clf</field><value name=\"VALUE\"><block type=\"varDoMethod_Python\" id=\"(Noh/e~gvTM3-4|;g]s[\"><field name=\"VAR\" id=\"=z9KfSBWpoDS,oj-?yx,\">pipe</field><field name=\"MEMBER\">make_pipeline</field><data>pipe:make_pipeline</data><value name=\"INPUT\"><block type=\"lists_create_with\" id=\"(Q-}ch^M{g#1!2LN+l,@\"><mutation items=\"2\"></mutation><value name=\"ADD0\"><block type=\"varCreateObject_Python\" id=\"e9G_EPu`q{*0`$!~:jh~\"><field name=\"VAR\" id=\".T`xqZHAu7r0$MQ4s=Yg\">pp</field><field name=\"MEMBER\">StandardScaler</field><data>pp:StandardScaler</data></block></value><value name=\"ADD1\"><block type=\"varCreateObject_Python\" id=\"ar7keIh-Yv)+b+#Edsp_\"><field name=\"VAR\" id=\"MvUG^P$o3=I*6/67?Rk:\">neighbors</field><field name=\"MEMBER\">KNeighborsRegressor</field><data>neighbors:KNeighborsRegressor</data><value name=\"INPUT\"><block type=\"lists_create_with\" id=\"Fdc{)AkUpH{!v_dA{/89\"><mutation items=\"1\"></mutation><value name=\"ADD0\"><block type=\"dummyOutputCodeBlock_Python\" id=\"Q!`Pnb+=Gq!aL4Xa}S{z\"><field name=\"CODE\">n_neighbors = 10</field></block></value></block></value></block></value></block></value></block></value></block></xml>"
   ]
  },
  {
   "cell_type": "markdown",
   "metadata": {},
   "source": [
    "Train the KNN regression model using the pipeline (i.e. use `fit`)."
   ]
  },
  {
   "cell_type": "code",
   "execution_count": 9,
   "metadata": {},
   "outputs": [
    {
     "ename": "TypeError",
     "evalue": "_repr_mimebundle_() takes 1 positional argument but 3 were given",
     "output_type": "error",
     "traceback": [
      "\u001b[0;31m---------------------------------------------------------------------------\u001b[0m\n\u001b[0;31mTypeError\u001b[0m                                 Traceback (most recent call last)",
      "In  \u001b[0;34m[9]\u001b[0m:\nLine \u001b[0;34m1\u001b[0m:     std_clf.fit(splits[\u001b[34m0\u001b[39;49;00m], np.ravel(splits[\u001b[34m2\u001b[39;49;00m]))\n",
      "\u001b[0;31mTypeError\u001b[0m: _repr_mimebundle_() takes 1 positional argument but 3 were given\n\u001b[0;31m---------------------------------------------------------------------------\u001b[0m"
     ]
    }
   ],
   "source": [
    "std_clf.fit(splits[0], np.ravel(splits[2]))\n",
    "\n",
    "#<xml xmlns=\"https://developers.google.com/blockly/xml\"><variables><variable id=\"`P)`+jl|;h{.[r}{78q6\">std_clf</variable><variable id=\"Zhzp)s*VL?V@ES3(j:*b\">np</variable><variable id=\"_ut$e0PL4OMi4o1MXTpw\">splits</variable></variables><block type=\"varDoMethod_Python\" id=\"Z)$q-zn.KTC{+^l-wH6u\" x=\"259\" y=\"169\"><field name=\"VAR\" id=\"`P)`+jl|;h{.[r}{78q6\">std_clf</field><field name=\"MEMBER\">fit</field><data>std_clf:fit</data><value name=\"INPUT\"><block type=\"lists_create_with\" id=\"e_B;36VOJ^lH70V=aWY}\"><mutation items=\"2\"></mutation><value name=\"ADD0\"><block type=\"lists_getIndex\" id=\"C#,#1*rEm+]qEx?L1x[L\"><mutation statement=\"false\" at=\"true\"></mutation><field name=\"MODE\">GET</field><field name=\"WHERE\">FROM_START</field><value name=\"VALUE\"><block type=\"variables_get\" id=\"b_Sz{9#d7d=ystO|k?l_\"><field name=\"VAR\" id=\"_ut$e0PL4OMi4o1MXTpw\">splits</field></block></value><value name=\"AT\"><block type=\"math_number\" id=\":s{r1~S,,@.CSh#9`$R;\"><field name=\"NUM\">1</field></block></value></block></value><value name=\"ADD1\"><block type=\"varDoMethod_Python\" id=\"zYBlZ,!^P^%Ib5R@Ch.H\"><field name=\"VAR\" id=\"Zhzp)s*VL?V@ES3(j:*b\">np</field><field name=\"MEMBER\">ravel</field><data>np:ravel</data><value name=\"INPUT\"><block type=\"lists_create_with\" id=\"9s({WSn={~Ink.5O+6Cc\"><mutation items=\"1\"></mutation><value name=\"ADD0\"><block type=\"lists_getIndex\" id=\"^)UBt0jM;BnGmWeG7pw*\"><mutation statement=\"false\" at=\"true\"></mutation><field name=\"MODE\">GET</field><field name=\"WHERE\">FROM_START</field><value name=\"VALUE\"><block type=\"variables_get\" id=\"4Vo!*g]qQ=D}XtD2i39/\"><field name=\"VAR\" id=\"_ut$e0PL4OMi4o1MXTpw\">splits</field></block></value><value name=\"AT\"><block type=\"math_number\" id=\"RysCD3.C27sBxztz(T}2\"><field name=\"NUM\">3</field></block></value></block></value></block></value></block></value></block></value></block></xml>"
   ]
  },
  {
   "cell_type": "markdown",
   "metadata": {},
   "source": [
    "Predict the mpg using the test data."
   ]
  },
  {
   "cell_type": "code",
   "execution_count": 10,
   "metadata": {},
   "outputs": [
    {
     "data": {
      "text/plain": [
       "array([23.  , 15.7 , 25.6 , 13.9 , 18.9 , 24.9 , 13.9 , 25.8 , 32.31,\n",
       "       26.12, 17.47, 33.17, 17.54, 32.16, 36.02, 28.14, 23.72, 17.5 ,\n",
       "       17.36, 16.46, 14.5 , 13.75, 24.33, 31.19, 21.5 , 30.41, 18.13,\n",
       "       31.35, 32.57, 20.01, 19.4 , 25.95, 18.34, 19.53, 28.9 , 19.2 ,\n",
       "       14.8 , 13.7 , 13.1 , 30.53, 33.82, 29.06, 26.25, 32.77, 24.5 ,\n",
       "       14.7 , 24.  , 19.3 , 26.5 , 18.63, 14.3 , 26.3 , 13.2 , 36.29,\n",
       "       13.3 , 26.2 , 13.  , 25.6 , 13.7 , 19.73, 17.5 , 14.4 , 25.1 ,\n",
       "       19.27, 15.94, 16.06, 17.35, 33.97, 23.8 , 14.7 , 18.7 , 28.98,\n",
       "       20.09, 20.62, 32.44, 16.16, 19.56, 29.15, 29.07])"
      ]
     },
     "execution_count": 10,
     "metadata": {},
     "output_type": "execute_result"
    }
   ],
   "source": [
    "predictions = std_clf.predict(splits[1])\n",
    "\n",
    "predictions\n",
    "\n",
    "#<xml xmlns=\"https://developers.google.com/blockly/xml\"><variables><variable id=\"=`)h;YQmtv}6uka]9EYT\">predictions</variable><variable id=\"`P)`+jl|;h{.[r}{78q6\">std_clf</variable><variable id=\"_ut$e0PL4OMi4o1MXTpw\">splits</variable></variables><block type=\"variables_set\" id=\"NHw$/HH988vNLbZgn)CM\" x=\"88\" y=\"212\"><field name=\"VAR\" id=\"=`)h;YQmtv}6uka]9EYT\">predictions</field><value name=\"VALUE\"><block type=\"varDoMethod_Python\" id=\"N}3ds6:i%0MtTA:(2im4\"><field name=\"VAR\" id=\"`P)`+jl|;h{.[r}{78q6\">std_clf</field><field name=\"MEMBER\">predict</field><data>std_clf:predict</data><value name=\"INPUT\"><block type=\"lists_create_with\" id=\"3Ru6U*^.a`oD7$bu/I%y\"><mutation items=\"1\"></mutation><value name=\"ADD0\"><block type=\"lists_getIndex\" id=\"@lpyN+:CEcPQ#Q:Svm|9\"><mutation statement=\"false\" at=\"true\"></mutation><field name=\"MODE\">GET</field><field name=\"WHERE\">FROM_START</field><value name=\"VALUE\"><block type=\"variables_get\" id=\"ng))4fZyb@U1|eswo1}:\"><field name=\"VAR\" id=\"_ut$e0PL4OMi4o1MXTpw\">splits</field></block></value><value name=\"AT\"><block type=\"math_number\" id=\"Lo)w=2LL|Tf-L/gkeTdT\"><field name=\"NUM\">2</field></block></value></block></value></block></value></block></value></block><block type=\"variables_get\" id=\"I#4y[,+*#I5s;b;h3o/M\" x=\"75\" y=\"307\"><field name=\"VAR\" id=\"=`)h;YQmtv}6uka]9EYT\">predictions</field></block></xml>"
   ]
  },
  {
   "cell_type": "markdown",
   "metadata": {},
   "source": [
    "## Assessing the model"
   ]
  },
  {
   "cell_type": "markdown",
   "metadata": {},
   "source": [
    "Calculate the RMSE of the predictions."
   ]
  },
  {
   "cell_type": "code",
   "execution_count": 11,
   "metadata": {},
   "outputs": [
    {
     "data": {
      "text/plain": [
       "3.2090514786156152"
      ]
     },
     "execution_count": 11,
     "metadata": {},
     "output_type": "execute_result"
    }
   ],
   "source": [
    "import math\n",
    "\n",
    "math.sqrt(metrics.mean_squared_error(splits[3], predictions))\n",
    "\n",
    "#<xml xmlns=\"https://developers.google.com/blockly/xml\"><variables><variable id=\")}+w@N9iB/j=:+PLkMv8\">metrics</variable><variable id=\"=`)h;YQmtv}6uka]9EYT\">predictions</variable><variable id=\"_ut$e0PL4OMi4o1MXTpw\">splits</variable></variables><block type=\"math_single\" id=\"K+~AfTut!=kX_{{*?zjq\" x=\"76\" y=\"293\"><field name=\"OP\">ROOT</field><value name=\"NUM\"><shadow type=\"math_number\" id=\"TwxVz{fz8[Th0JEpyxPq\"><field name=\"NUM\">9</field></shadow><block type=\"varDoMethod_Python\" id=\"dtb+F,1WedaH`AXMNxY[\"><field name=\"VAR\" id=\")}+w@N9iB/j=:+PLkMv8\">metrics</field><field name=\"MEMBER\">mean_squared_error</field><data>metrics:mean_squared_error</data><value name=\"INPUT\"><block type=\"lists_create_with\" id=\"-=NmFJemtj{-P/.D|`Zg\"><mutation items=\"2\"></mutation><value name=\"ADD0\"><block type=\"lists_getIndex\" id=\"%Q5nelLnQN_U[o);kAqv\"><mutation statement=\"false\" at=\"true\"></mutation><field name=\"MODE\">GET</field><field name=\"WHERE\">FROM_START</field><value name=\"VALUE\"><block type=\"variables_get\" id=\"eCZagv7%IlQ;!+X*/wn7\"><field name=\"VAR\" id=\"_ut$e0PL4OMi4o1MXTpw\">splits</field></block></value><value name=\"AT\"><block type=\"math_number\" id=\"+UoB2X],lB*~xVCJOMRM\"><field name=\"NUM\">4</field></block></value></block></value><value name=\"ADD1\"><block type=\"variables_get\" id=\"Y`5[z@^QpYeXO!b/zuki\"><field name=\"VAR\" id=\"=`)h;YQmtv}6uka]9EYT\">predictions</field></block></value></block></value></block></value></block></xml>"
   ]
  },
  {
   "cell_type": "markdown",
   "metadata": {},
   "source": [
    "**QUESTION:**\n",
    "\n",
    "What was your rmse?\n",
    "If you redo your splits and retrain the model, does it change?\n",
    "Why?"
   ]
  },
  {
   "cell_type": "markdown",
   "metadata": {},
   "source": [
    "**ANSWER: (click here to edit)**\n",
    "\n",
    "*2.57 ; it changes every time; it changes because the splits give us different data each time and sometimes the train/test are more similar, by chance, which makes the rmse lower/better*"
   ]
  },
  {
   "cell_type": "markdown",
   "metadata": {},
   "source": [
    "## Finding the optimal K"
   ]
  },
  {
   "cell_type": "markdown",
   "metadata": {},
   "source": [
    "Find the optimal K for the model by trying K=1, 10, 25, 50, 100, and 250 in a loop."
   ]
  },
  {
   "cell_type": "code",
   "execution_count": 12,
   "metadata": {},
   "outputs": [
    {
     "name": "stdout",
     "output_type": "stream",
     "text": [
      "1:3.4063232340286707\n",
      "10:3.2090514786156152\n",
      "25:3.187005832629616\n",
      "50:3.2423594550023345\n",
      "100:3.754638837154429\n",
      "250:5.808886845846466\n"
     ]
    }
   ],
   "source": [
    "import math\n",
    "\n",
    "for j in [1, 10, 25, 50, 100, 250]:\n",
    "  std_clf = pipe.make_pipeline(pp.StandardScaler(), neighbors.KNeighborsRegressor(n_neighbors = j))\n",
    "  (std_clf.fit(splits[0], np.ravel(splits[2])))\n",
    "  Y_pred_bost = std_clf.predict(splits[1])\n",
    "  rmse = math.sqrt(metrics.mean_squared_error(splits[3], Y_pred_bost))\n",
    "  print(''.join([str(x) for x in [j, ':', rmse]]))\n",
    "\n",
    "#<xml xmlns=\"https://developers.google.com/blockly/xml\"><variables><variable id=\"nr%W_%EA(*n$_f,PuH#c\">j</variable><variable id=\"`P)`+jl|;h{.[r}{78q6\">std_clf</variable><variable id=\"=z9KfSBWpoDS,oj-?yx,\">pipe</variable><variable id=\"UQMlkolcT(3chEGb/#lR\">Y_pred_bost</variable><variable id=\".T`xqZHAu7r0$MQ4s=Yg\">pp</variable><variable id=\"MvUG^P$o3=I*6/67?Rk:\">neighbors</variable><variable id=\"RN+myW;vx){}Q0LuFA9y\">rmse</variable><variable id=\"Zhzp)s*VL?V@ES3(j:*b\">np</variable><variable id=\"_ut$e0PL4OMi4o1MXTpw\">splits</variable><variable id=\")}+w@N9iB/j=:+PLkMv8\">metrics</variable></variables><block type=\"controls_forEach\" id=\"MbWYZ/u3Q#+3*u`TM}ce\" x=\"-3\" y=\"182\"><field name=\"VAR\" id=\"nr%W_%EA(*n$_f,PuH#c\">j</field><value name=\"LIST\"><block type=\"lists_create_with\" id=\"Q6_EXa41T:y(.uy[pm.V\"><mutation items=\"6\"></mutation><value name=\"ADD0\"><block type=\"math_number\" id=\"+BJ@yT0IgJORgO^/))c~\"><field name=\"NUM\">1</field></block></value><value name=\"ADD1\"><block type=\"math_number\" id=\".~r[qy7$p-Jy_g:ACHYr\"><field name=\"NUM\">10</field></block></value><value name=\"ADD2\"><block type=\"math_number\" id=\"w!m`o}C;PB7OhYP5ZTq~\"><field name=\"NUM\">25</field></block></value><value name=\"ADD3\"><block type=\"math_number\" id=\"?!EK)M.j{u~@|;ytL|nd\"><field name=\"NUM\">50</field></block></value><value name=\"ADD4\"><block type=\"math_number\" id=\"cLtaU]#w-;S(sUq8pw/l\"><field name=\"NUM\">100</field></block></value><value name=\"ADD5\"><block type=\"math_number\" id=\"910qY[[4~4nziBPT;K+G\"><field name=\"NUM\">250</field></block></value></block></value><statement name=\"DO\"><block type=\"variables_set\" id=\"8APEX{xGs3Qz/$NzTFrY\"><field name=\"VAR\" id=\"`P)`+jl|;h{.[r}{78q6\">std_clf</field><value name=\"VALUE\"><block type=\"varDoMethod_Python\" id=\"W=ep`rJjDXvsAV^R+NIG\"><field name=\"VAR\" id=\"=z9KfSBWpoDS,oj-?yx,\">pipe</field><field name=\"MEMBER\">make_pipeline</field><data>pipe:make_pipeline</data><value name=\"INPUT\"><block type=\"lists_create_with\" id=\"ed7Q+#-kPzf4R,8)[q_Z\"><mutation items=\"2\"></mutation><value name=\"ADD0\"><block type=\"varCreateObject_Python\" id=\"ME+Z@t~BnN}LL22r%Hxt\"><field name=\"VAR\" id=\".T`xqZHAu7r0$MQ4s=Yg\">pp</field><field name=\"MEMBER\">StandardScaler</field><data>pp:StandardScaler</data></block></value><value name=\"ADD1\"><block type=\"varCreateObject_Python\" id=\"p=kmgsx6gSLD(RSPi]We\"><field name=\"VAR\" id=\"MvUG^P$o3=I*6/67?Rk:\">neighbors</field><field name=\"MEMBER\">KNeighborsRegressor</field><data>neighbors:KNeighborsRegressor</data><value name=\"INPUT\"><block type=\"lists_create_with\" id=\"%{hTJRYu`A$B-B}N|W^|\"><mutation items=\"1\"></mutation><value name=\"ADD0\"><block type=\"dummyOutputCodeBlock_Python\" id=\"4*MO9`pDvGbjv^%|]#Jm\"><field name=\"CODE\">n_neighbors = j</field></block></value></block></value></block></value></block></value></block></value><next><block type=\"valueNoOutputCodeBlock_Python\" id=\"nCe{WO~.SVUJ*REfHN;r\"><field name=\"CODE\"></field><value name=\"INPUT\"><block type=\"varDoMethod_Python\" id=\"Fm%sV]3?)?kc0h:9S9IQ\"><field name=\"VAR\" id=\"`P)`+jl|;h{.[r}{78q6\">std_clf</field><field name=\"MEMBER\">fit</field><data>std_clf:fit</data><value name=\"INPUT\"><block type=\"lists_create_with\" id=\"bkqo.bU~bUHGJR3.PCNj\"><mutation items=\"2\"></mutation><value name=\"ADD0\"><block type=\"lists_getIndex\" id=\"c-OmE5.Qf*x_-O+oEcL(\"><mutation statement=\"false\" at=\"true\"></mutation><field name=\"MODE\">GET</field><field name=\"WHERE\">FROM_START</field><value name=\"VALUE\"><block type=\"variables_get\" id=\"xDX74mH}[mNJlpBTYt{)\"><field name=\"VAR\" id=\"_ut$e0PL4OMi4o1MXTpw\">splits</field></block></value><value name=\"AT\"><block type=\"math_number\" id=\"qrLzq]pv]HBj!dNAu-9i\"><field name=\"NUM\">1</field></block></value></block></value><value name=\"ADD1\"><block type=\"varDoMethod_Python\" id=\"?U(hh`0ZFjUnfsrL}xQK\"><field name=\"VAR\" id=\"Zhzp)s*VL?V@ES3(j:*b\">np</field><field name=\"MEMBER\">ravel</field><data>np:ravel</data><value name=\"INPUT\"><block type=\"lists_create_with\" id=\"(UU{x68[{=A[p}uG##Eq\"><mutation items=\"1\"></mutation><value name=\"ADD0\"><block type=\"lists_getIndex\" id=\"kcy}-[{;=}P{onxAUnZc\"><mutation statement=\"false\" at=\"true\"></mutation><field name=\"MODE\">GET</field><field name=\"WHERE\">FROM_START</field><value name=\"VALUE\"><block type=\"variables_get\" id=\"di`_Ko4qTbeTQ^v!pa2A\"><field name=\"VAR\" id=\"_ut$e0PL4OMi4o1MXTpw\">splits</field></block></value><value name=\"AT\"><block type=\"math_number\" id=\",i2p$Oad~vpnzpz8YDss\"><field name=\"NUM\">3</field></block></value></block></value></block></value></block></value></block></value></block></value><next><block type=\"variables_set\" id=\"t4FH|^O1fvcXbQ/%eX{o\"><field name=\"VAR\" id=\"UQMlkolcT(3chEGb/#lR\">Y_pred_bost</field><value name=\"VALUE\"><block type=\"varDoMethod_Python\" id=\"@~[XlP)bAA[7?k^=6%J2\"><field name=\"VAR\" id=\"`P)`+jl|;h{.[r}{78q6\">std_clf</field><field name=\"MEMBER\">predict</field><data>std_clf:predict</data><value name=\"INPUT\"><block type=\"lists_create_with\" id=\"~`MOj}QguYf}BCZOc7C!\"><mutation items=\"1\"></mutation><value name=\"ADD0\"><block type=\"lists_getIndex\" id=\"h$p4(I@O~CtLDZv)+/nX\"><mutation statement=\"false\" at=\"true\"></mutation><field name=\"MODE\">GET</field><field name=\"WHERE\">FROM_START</field><value name=\"VALUE\"><block type=\"variables_get\" id=\"Kh1qgk~(:R(}S`sfh}?{\"><field name=\"VAR\" id=\"_ut$e0PL4OMi4o1MXTpw\">splits</field></block></value><value name=\"AT\"><block type=\"math_number\" id=\"jyi_*c[[~,{K#t[0Gghj\"><field name=\"NUM\">2</field></block></value></block></value></block></value></block></value><next><block type=\"variables_set\" id=\"6eYPMqa.T*II`(7!/U;_\"><field name=\"VAR\" id=\"RN+myW;vx){}Q0LuFA9y\">rmse</field><value name=\"VALUE\"><block type=\"math_single\" id=\"SI.B#46RorSW7}ZGS{D-\"><field name=\"OP\">ROOT</field><value name=\"NUM\"><shadow type=\"math_number\"><field name=\"NUM\">9</field></shadow><block type=\"varDoMethod_Python\" id=\"7PlC*+UVpHU@Lyq2@_?h\"><field name=\"VAR\" id=\")}+w@N9iB/j=:+PLkMv8\">metrics</field><field name=\"MEMBER\">mean_squared_error</field><data>metrics:mean_squared_error</data><value name=\"INPUT\"><block type=\"lists_create_with\" id=\"ExgoS4A$UNPym77J;1L2\"><mutation items=\"2\"></mutation><value name=\"ADD0\"><block type=\"lists_getIndex\" id=\"JoSeD*7Q$:S1sXw#)5=+\"><mutation statement=\"false\" at=\"true\"></mutation><field name=\"MODE\">GET</field><field name=\"WHERE\">FROM_START</field><value name=\"VALUE\"><block type=\"variables_get\" id=\"OR=]poUbkR)eqh!eV:XW\"><field name=\"VAR\" id=\"_ut$e0PL4OMi4o1MXTpw\">splits</field></block></value><value name=\"AT\"><block type=\"math_number\" id=\"gJ*8#!h/B4O65oy_[TKL\"><field name=\"NUM\">4</field></block></value></block></value><value name=\"ADD1\"><block type=\"variables_get\" id=\"::s[{k@xAHJRWvDND!GY\"><field name=\"VAR\" id=\"UQMlkolcT(3chEGb/#lR\">Y_pred_bost</field></block></value></block></value></block></value></block></value><next><block type=\"text_print\" id=\"qD^5qCGb|~Z/e)-2,/Xe\"><value name=\"TEXT\"><shadow type=\"text\" id=\"jjAd~$4y5!nZc!%qRsJ}\"><field name=\"TEXT\">abc</field></shadow><block type=\"text_join\" id=\"G#,=(,gYP!hQgbLLojMo\"><mutation items=\"3\"></mutation><value name=\"ADD0\"><block type=\"variables_get\" id=\"N0QQN{Ql.g=*FApk}*2b\"><field name=\"VAR\" id=\"nr%W_%EA(*n$_f,PuH#c\">j</field></block></value><value name=\"ADD1\"><block type=\"text\" id=\"`f+]K88}p[|+.2@^Mpb9\"><field name=\"TEXT\">:</field></block></value><value name=\"ADD2\"><block type=\"variables_get\" id=\"5es9)`8wQ`Wh@fitgT3Y\"><field name=\"VAR\" id=\"RN+myW;vx){}Q0LuFA9y\">rmse</field></block></value></block></value></block></next></block></next></block></next></block></next></block></statement></block></xml>"
   ]
  },
  {
   "cell_type": "markdown",
   "metadata": {},
   "source": [
    "**QUESTION:**\n",
    "\n",
    "What was your optimal K?"
   ]
  },
  {
   "cell_type": "markdown",
   "metadata": {},
   "source": [
    "**ANSWER: (click here to edit)**\n",
    "\n",
    "*10*"
   ]
  },
  {
   "cell_type": "markdown",
   "metadata": {},
   "source": [
    "## Plot the predictions for different values of K"
   ]
  },
  {
   "cell_type": "markdown",
   "metadata": {},
   "source": [
    "**This is very challenging and you might not finish!**\n",
    "\n",
    "First import plotly.graph_objects and create an empty figure."
   ]
  },
  {
   "cell_type": "code",
   "execution_count": 13,
   "metadata": {},
   "outputs": [],
   "source": [
    "import plotly.graph_objects as go\n",
    "fig = go.Figure()\n",
    "\n",
    "#<xml xmlns=\"https://developers.google.com/blockly/xml\"><variables><variable id=\"`iml3^SQ8#}M{aSRdsjz\">go</variable><variable id=\"@U5l^JIp,}.H=ECCW?@g\">fig</variable></variables><block type=\"importAs_Python\" id=\"GUc5k[3F^kaH{ibSnb$o\" x=\"46\" y=\"107\"><field name=\"libraryName\">plotly.graph_objects</field><field name=\"libraryAlias\" id=\"`iml3^SQ8#}M{aSRdsjz\">go</field><next><block type=\"variables_set\" id=\"YRwvIfDCNvs=}BMmqLL~\"><field name=\"VAR\" id=\"@U5l^JIp,}.H=ECCW?@g\">fig</field><value name=\"VALUE\"><block type=\"varCreateObject_Python\" id=\"(Mgw,PH[[Pi;j6VEvjza\"><field name=\"VAR\" id=\"`iml3^SQ8#}M{aSRdsjz\">go</field><field name=\"MEMBER\">Figure</field><data>go:Figure</data></block></value></block></next></block></xml>"
   ]
  },
  {
   "cell_type": "markdown",
   "metadata": {},
   "source": [
    "Copy your loop above pasted it below.\n",
    "\n",
    "Then copy your plot blocks where you plotted the data and predictions from the last session and put it inside the loop (adding below the last statement in the loop each time).\n",
    "\n",
    "For your `x=` variable, use `acceleration`.\n",
    "\n",
    "Then add one last block at the bottom of the loop:\n",
    "\n",
    "- Empty freestyle followed by `with fig do show using` (change `fig` to whatever you named your figure variable)\n",
    "\n",
    "This will produce a plot for each of your different levels of K.\n",
    "\n",
    "**Be careful with copy/paste errors - you will need to rename your variables to match `mpg`. See hints for copying blocks between notebooks on #help.**"
   ]
  },
  {
   "cell_type": "code",
   "execution_count": 17,
   "metadata": {},
   "outputs": [
    {
     "data": {
      "application/vnd.plotly.v1+json": {
       "config": {
        "plotlyServerURL": "https://plot.ly"
       },
       "data": [
        {
         "line": {
          "color": "royalblue"
         },
         "mode": "markers",
         "name": "observed",
         "type": "scatter",
         "x": [
          19.5,
          10.5,
          18,
          13.5,
          15.5,
          15,
          12,
          11.3,
          14,
          15.4,
          21,
          14.4,
          21,
          14.7,
          15.7,
          15,
          11.4,
          13.4,
          13.2,
          12.5,
          12.5,
          12.5,
          17,
          19,
          14.7,
          20.7,
          17.4,
          21,
          14.4,
          15.4,
          15,
          14,
          18.7,
          18.7,
          19.5,
          15.5,
          11.1,
          12,
          13,
          19,
          15.5,
          21,
          12.6,
          15.3,
          13.5,
          12.8,
          14.5,
          13,
          18.1,
          22.2,
          14.5,
          16,
          9.5,
          14.4,
          11,
          15.5,
          11.5,
          17.5,
          10,
          17.2,
          17.7,
          15.5,
          16.5,
          14.5,
          13.7,
          15,
          17,
          16.6,
          12.5,
          9.5,
          16.5,
          14.2,
          18.2,
          17,
          16.4,
          13.9,
          16.9,
          16,
          13.2
         ],
         "y": [
          20,
          17,
          22,
          12,
          16,
          24,
          14,
          28.8,
          31.9,
          25.1,
          15,
          36.1,
          18,
          41.5,
          32,
          27.4,
          32.7,
          17.6,
          19.2,
          17.5,
          15,
          12,
          23,
          31,
          22,
          29.9,
          23,
          32,
          35.7,
          21.5,
          18,
          26,
          18.6,
          19.1,
          29,
          19,
          16,
          13,
          13,
          32,
          32.1,
          26,
          25.4,
          29.8,
          19,
          14.5,
          24,
          19,
          26.4,
          23.9,
          14,
          31,
          16,
          33.7,
          12,
          24,
          12,
          25,
          14,
          20.5,
          20,
          14,
          22,
          22,
          15.5,
          13,
          16,
          29.5,
          26,
          15,
          18,
          29,
          20.5,
          38,
          30,
          15.5,
          20.5,
          29,
          33.5
         ]
        },
        {
         "line": {
          "color": "orange"
         },
         "mode": "markers",
         "name": "predicted",
         "type": "scatter",
         "x": [
          19.5,
          10.5,
          18,
          13.5,
          15.5,
          15,
          12,
          11.3,
          14,
          15.4,
          21,
          14.4,
          21,
          14.7,
          15.7,
          15,
          11.4,
          13.4,
          13.2,
          12.5,
          12.5,
          12.5,
          17,
          19,
          14.7,
          20.7,
          17.4,
          21,
          14.4,
          15.4,
          15,
          14,
          18.7,
          18.7,
          19.5,
          15.5,
          11.1,
          12,
          13,
          19,
          15.5,
          21,
          12.6,
          15.3,
          13.5,
          12.8,
          14.5,
          13,
          18.1,
          22.2,
          14.5,
          16,
          9.5,
          14.4,
          11,
          15.5,
          11.5,
          17.5,
          10,
          17.2,
          17.7,
          15.5,
          16.5,
          14.5,
          13.7,
          15,
          17,
          16.6,
          12.5,
          9.5,
          16.5,
          14.2,
          18.2,
          17,
          16.4,
          13.9,
          16.9,
          16,
          13.2
         ],
         "y": [
          19,
          18,
          26,
          13,
          18,
          27,
          14,
          26.8,
          37.3,
          25.5,
          15,
          34.5,
          15,
          37.3,
          38,
          28.4,
          24.2,
          19.4,
          20.2,
          13,
          15,
          13,
          25,
          33,
          25,
          28,
          17,
          31,
          34.5,
          20.6,
          18,
          26,
          19.2,
          20.2,
          27,
          17,
          15.5,
          13,
          13,
          33,
          34.5,
          26,
          24.2,
          37.3,
          18,
          16,
          28,
          18,
          22.3,
          17,
          14,
          26,
          13,
          36,
          13,
          24,
          13,
          25,
          15,
          19.4,
          19,
          16,
          28,
          22,
          17.5,
          15,
          18,
          33.5,
          28,
          15,
          18,
          29,
          19.8,
          20.2,
          33.5,
          15,
          17.5,
          28,
          30
         ]
        }
       ],
       "layout": {
        "autosize": true,
        "template": {
         "data": {
          "bar": [
           {
            "error_x": {
             "color": "#2a3f5f"
            },
            "error_y": {
             "color": "#2a3f5f"
            },
            "marker": {
             "line": {
              "color": "#E5ECF6",
              "width": 0.5
             },
             "pattern": {
              "fillmode": "overlay",
              "size": 10,
              "solidity": 0.2
             }
            },
            "type": "bar"
           }
          ],
          "barpolar": [
           {
            "marker": {
             "line": {
              "color": "#E5ECF6",
              "width": 0.5
             },
             "pattern": {
              "fillmode": "overlay",
              "size": 10,
              "solidity": 0.2
             }
            },
            "type": "barpolar"
           }
          ],
          "carpet": [
           {
            "aaxis": {
             "endlinecolor": "#2a3f5f",
             "gridcolor": "white",
             "linecolor": "white",
             "minorgridcolor": "white",
             "startlinecolor": "#2a3f5f"
            },
            "baxis": {
             "endlinecolor": "#2a3f5f",
             "gridcolor": "white",
             "linecolor": "white",
             "minorgridcolor": "white",
             "startlinecolor": "#2a3f5f"
            },
            "type": "carpet"
           }
          ],
          "choropleth": [
           {
            "colorbar": {
             "outlinewidth": 0,
             "ticks": ""
            },
            "type": "choropleth"
           }
          ],
          "contour": [
           {
            "colorbar": {
             "outlinewidth": 0,
             "ticks": ""
            },
            "colorscale": [
             [
              0,
              "#0d0887"
             ],
             [
              0.1111111111111111,
              "#46039f"
             ],
             [
              0.2222222222222222,
              "#7201a8"
             ],
             [
              0.3333333333333333,
              "#9c179e"
             ],
             [
              0.4444444444444444,
              "#bd3786"
             ],
             [
              0.5555555555555556,
              "#d8576b"
             ],
             [
              0.6666666666666666,
              "#ed7953"
             ],
             [
              0.7777777777777778,
              "#fb9f3a"
             ],
             [
              0.8888888888888888,
              "#fdca26"
             ],
             [
              1,
              "#f0f921"
             ]
            ],
            "type": "contour"
           }
          ],
          "contourcarpet": [
           {
            "colorbar": {
             "outlinewidth": 0,
             "ticks": ""
            },
            "type": "contourcarpet"
           }
          ],
          "heatmap": [
           {
            "colorbar": {
             "outlinewidth": 0,
             "ticks": ""
            },
            "colorscale": [
             [
              0,
              "#0d0887"
             ],
             [
              0.1111111111111111,
              "#46039f"
             ],
             [
              0.2222222222222222,
              "#7201a8"
             ],
             [
              0.3333333333333333,
              "#9c179e"
             ],
             [
              0.4444444444444444,
              "#bd3786"
             ],
             [
              0.5555555555555556,
              "#d8576b"
             ],
             [
              0.6666666666666666,
              "#ed7953"
             ],
             [
              0.7777777777777778,
              "#fb9f3a"
             ],
             [
              0.8888888888888888,
              "#fdca26"
             ],
             [
              1,
              "#f0f921"
             ]
            ],
            "type": "heatmap"
           }
          ],
          "heatmapgl": [
           {
            "colorbar": {
             "outlinewidth": 0,
             "ticks": ""
            },
            "colorscale": [
             [
              0,
              "#0d0887"
             ],
             [
              0.1111111111111111,
              "#46039f"
             ],
             [
              0.2222222222222222,
              "#7201a8"
             ],
             [
              0.3333333333333333,
              "#9c179e"
             ],
             [
              0.4444444444444444,
              "#bd3786"
             ],
             [
              0.5555555555555556,
              "#d8576b"
             ],
             [
              0.6666666666666666,
              "#ed7953"
             ],
             [
              0.7777777777777778,
              "#fb9f3a"
             ],
             [
              0.8888888888888888,
              "#fdca26"
             ],
             [
              1,
              "#f0f921"
             ]
            ],
            "type": "heatmapgl"
           }
          ],
          "histogram": [
           {
            "marker": {
             "pattern": {
              "fillmode": "overlay",
              "size": 10,
              "solidity": 0.2
             }
            },
            "type": "histogram"
           }
          ],
          "histogram2d": [
           {
            "colorbar": {
             "outlinewidth": 0,
             "ticks": ""
            },
            "colorscale": [
             [
              0,
              "#0d0887"
             ],
             [
              0.1111111111111111,
              "#46039f"
             ],
             [
              0.2222222222222222,
              "#7201a8"
             ],
             [
              0.3333333333333333,
              "#9c179e"
             ],
             [
              0.4444444444444444,
              "#bd3786"
             ],
             [
              0.5555555555555556,
              "#d8576b"
             ],
             [
              0.6666666666666666,
              "#ed7953"
             ],
             [
              0.7777777777777778,
              "#fb9f3a"
             ],
             [
              0.8888888888888888,
              "#fdca26"
             ],
             [
              1,
              "#f0f921"
             ]
            ],
            "type": "histogram2d"
           }
          ],
          "histogram2dcontour": [
           {
            "colorbar": {
             "outlinewidth": 0,
             "ticks": ""
            },
            "colorscale": [
             [
              0,
              "#0d0887"
             ],
             [
              0.1111111111111111,
              "#46039f"
             ],
             [
              0.2222222222222222,
              "#7201a8"
             ],
             [
              0.3333333333333333,
              "#9c179e"
             ],
             [
              0.4444444444444444,
              "#bd3786"
             ],
             [
              0.5555555555555556,
              "#d8576b"
             ],
             [
              0.6666666666666666,
              "#ed7953"
             ],
             [
              0.7777777777777778,
              "#fb9f3a"
             ],
             [
              0.8888888888888888,
              "#fdca26"
             ],
             [
              1,
              "#f0f921"
             ]
            ],
            "type": "histogram2dcontour"
           }
          ],
          "mesh3d": [
           {
            "colorbar": {
             "outlinewidth": 0,
             "ticks": ""
            },
            "type": "mesh3d"
           }
          ],
          "parcoords": [
           {
            "line": {
             "colorbar": {
              "outlinewidth": 0,
              "ticks": ""
             }
            },
            "type": "parcoords"
           }
          ],
          "pie": [
           {
            "automargin": true,
            "type": "pie"
           }
          ],
          "scatter": [
           {
            "marker": {
             "colorbar": {
              "outlinewidth": 0,
              "ticks": ""
             }
            },
            "type": "scatter"
           }
          ],
          "scatter3d": [
           {
            "line": {
             "colorbar": {
              "outlinewidth": 0,
              "ticks": ""
             }
            },
            "marker": {
             "colorbar": {
              "outlinewidth": 0,
              "ticks": ""
             }
            },
            "type": "scatter3d"
           }
          ],
          "scattercarpet": [
           {
            "marker": {
             "colorbar": {
              "outlinewidth": 0,
              "ticks": ""
             }
            },
            "type": "scattercarpet"
           }
          ],
          "scattergeo": [
           {
            "marker": {
             "colorbar": {
              "outlinewidth": 0,
              "ticks": ""
             }
            },
            "type": "scattergeo"
           }
          ],
          "scattergl": [
           {
            "marker": {
             "colorbar": {
              "outlinewidth": 0,
              "ticks": ""
             }
            },
            "type": "scattergl"
           }
          ],
          "scattermapbox": [
           {
            "marker": {
             "colorbar": {
              "outlinewidth": 0,
              "ticks": ""
             }
            },
            "type": "scattermapbox"
           }
          ],
          "scatterpolar": [
           {
            "marker": {
             "colorbar": {
              "outlinewidth": 0,
              "ticks": ""
             }
            },
            "type": "scatterpolar"
           }
          ],
          "scatterpolargl": [
           {
            "marker": {
             "colorbar": {
              "outlinewidth": 0,
              "ticks": ""
             }
            },
            "type": "scatterpolargl"
           }
          ],
          "scatterternary": [
           {
            "marker": {
             "colorbar": {
              "outlinewidth": 0,
              "ticks": ""
             }
            },
            "type": "scatterternary"
           }
          ],
          "surface": [
           {
            "colorbar": {
             "outlinewidth": 0,
             "ticks": ""
            },
            "colorscale": [
             [
              0,
              "#0d0887"
             ],
             [
              0.1111111111111111,
              "#46039f"
             ],
             [
              0.2222222222222222,
              "#7201a8"
             ],
             [
              0.3333333333333333,
              "#9c179e"
             ],
             [
              0.4444444444444444,
              "#bd3786"
             ],
             [
              0.5555555555555556,
              "#d8576b"
             ],
             [
              0.6666666666666666,
              "#ed7953"
             ],
             [
              0.7777777777777778,
              "#fb9f3a"
             ],
             [
              0.8888888888888888,
              "#fdca26"
             ],
             [
              1,
              "#f0f921"
             ]
            ],
            "type": "surface"
           }
          ],
          "table": [
           {
            "cells": {
             "fill": {
              "color": "#EBF0F8"
             },
             "line": {
              "color": "white"
             }
            },
            "header": {
             "fill": {
              "color": "#C8D4E3"
             },
             "line": {
              "color": "white"
             }
            },
            "type": "table"
           }
          ]
         },
         "layout": {
          "annotationdefaults": {
           "arrowcolor": "#2a3f5f",
           "arrowhead": 0,
           "arrowwidth": 1
          },
          "autotypenumbers": "strict",
          "coloraxis": {
           "colorbar": {
            "outlinewidth": 0,
            "ticks": ""
           }
          },
          "colorscale": {
           "diverging": [
            [
             0,
             "#8e0152"
            ],
            [
             0.1,
             "#c51b7d"
            ],
            [
             0.2,
             "#de77ae"
            ],
            [
             0.3,
             "#f1b6da"
            ],
            [
             0.4,
             "#fde0ef"
            ],
            [
             0.5,
             "#f7f7f7"
            ],
            [
             0.6,
             "#e6f5d0"
            ],
            [
             0.7,
             "#b8e186"
            ],
            [
             0.8,
             "#7fbc41"
            ],
            [
             0.9,
             "#4d9221"
            ],
            [
             1,
             "#276419"
            ]
           ],
           "sequential": [
            [
             0,
             "#0d0887"
            ],
            [
             0.1111111111111111,
             "#46039f"
            ],
            [
             0.2222222222222222,
             "#7201a8"
            ],
            [
             0.3333333333333333,
             "#9c179e"
            ],
            [
             0.4444444444444444,
             "#bd3786"
            ],
            [
             0.5555555555555556,
             "#d8576b"
            ],
            [
             0.6666666666666666,
             "#ed7953"
            ],
            [
             0.7777777777777778,
             "#fb9f3a"
            ],
            [
             0.8888888888888888,
             "#fdca26"
            ],
            [
             1,
             "#f0f921"
            ]
           ],
           "sequentialminus": [
            [
             0,
             "#0d0887"
            ],
            [
             0.1111111111111111,
             "#46039f"
            ],
            [
             0.2222222222222222,
             "#7201a8"
            ],
            [
             0.3333333333333333,
             "#9c179e"
            ],
            [
             0.4444444444444444,
             "#bd3786"
            ],
            [
             0.5555555555555556,
             "#d8576b"
            ],
            [
             0.6666666666666666,
             "#ed7953"
            ],
            [
             0.7777777777777778,
             "#fb9f3a"
            ],
            [
             0.8888888888888888,
             "#fdca26"
            ],
            [
             1,
             "#f0f921"
            ]
           ]
          },
          "colorway": [
           "#636efa",
           "#EF553B",
           "#00cc96",
           "#ab63fa",
           "#FFA15A",
           "#19d3f3",
           "#FF6692",
           "#B6E880",
           "#FF97FF",
           "#FECB52"
          ],
          "font": {
           "color": "#2a3f5f"
          },
          "geo": {
           "bgcolor": "white",
           "lakecolor": "white",
           "landcolor": "#E5ECF6",
           "showlakes": true,
           "showland": true,
           "subunitcolor": "white"
          },
          "hoverlabel": {
           "align": "left"
          },
          "hovermode": "closest",
          "mapbox": {
           "style": "light"
          },
          "paper_bgcolor": "white",
          "plot_bgcolor": "#E5ECF6",
          "polar": {
           "angularaxis": {
            "gridcolor": "white",
            "linecolor": "white",
            "ticks": ""
           },
           "bgcolor": "#E5ECF6",
           "radialaxis": {
            "gridcolor": "white",
            "linecolor": "white",
            "ticks": ""
           }
          },
          "scene": {
           "xaxis": {
            "backgroundcolor": "#E5ECF6",
            "gridcolor": "white",
            "gridwidth": 2,
            "linecolor": "white",
            "showbackground": true,
            "ticks": "",
            "zerolinecolor": "white"
           },
           "yaxis": {
            "backgroundcolor": "#E5ECF6",
            "gridcolor": "white",
            "gridwidth": 2,
            "linecolor": "white",
            "showbackground": true,
            "ticks": "",
            "zerolinecolor": "white"
           },
           "zaxis": {
            "backgroundcolor": "#E5ECF6",
            "gridcolor": "white",
            "gridwidth": 2,
            "linecolor": "white",
            "showbackground": true,
            "ticks": "",
            "zerolinecolor": "white"
           }
          },
          "shapedefaults": {
           "line": {
            "color": "#2a3f5f"
           }
          },
          "ternary": {
           "aaxis": {
            "gridcolor": "white",
            "linecolor": "white",
            "ticks": ""
           },
           "baxis": {
            "gridcolor": "white",
            "linecolor": "white",
            "ticks": ""
           },
           "bgcolor": "#E5ECF6",
           "caxis": {
            "gridcolor": "white",
            "linecolor": "white",
            "ticks": ""
           }
          },
          "title": {
           "x": 0.05
          },
          "xaxis": {
           "automargin": true,
           "gridcolor": "white",
           "linecolor": "white",
           "ticks": "",
           "title": {
            "standoff": 15
           },
           "zerolinecolor": "white",
           "zerolinewidth": 2
          },
          "yaxis": {
           "automargin": true,
           "gridcolor": "white",
           "linecolor": "white",
           "ticks": "",
           "title": {
            "standoff": 15
           },
           "zerolinecolor": "white",
           "zerolinewidth": 2
          }
         }
        },
        "xaxis": {
         "autorange": true,
         "range": [
          8.63834808259587,
          23.06165191740413
         ],
         "type": "linear"
        },
        "yaxis": {
         "autorange": true,
         "range": [
          9.565533980582524,
          43.93446601941748
         ],
         "type": "linear"
        }
       }
      },
      "image/png": "[encoded data removed]",
      "text/html": [
       "<div>                            <div id=\"0b1b93fe-edae-44ca-b2ab-9fa04ff4feda\" class=\"plotly-graph-div\" style=\"height:525px; width:100%;\"></div>            <script type=\"text/javascript\">                require([\"plotly\"], function(Plotly) {                    window.PLOTLYENV=window.PLOTLYENV || {};                                    if (document.getElementById(\"0b1b93fe-edae-44ca-b2ab-9fa04ff4feda\")) {                    Plotly.newPlot(                        \"0b1b93fe-edae-44ca-b2ab-9fa04ff4feda\",                        [{\"line\":{\"color\":\"royalblue\"},\"mode\":\"markers\",\"name\":\"observed\",\"x\":[19.5,10.5,18.0,13.5,15.5,15.0,12.0,11.3,14.0,15.4,21.0,14.4,21.0,14.7,15.7,15.0,11.4,13.4,13.2,12.5,12.5,12.5,17.0,19.0,14.7,20.7,17.4,21.0,14.4,15.4,15.0,14.0,18.7,18.7,19.5,15.5,11.1,12.0,13.0,19.0,15.5,21.0,12.6,15.3,13.5,12.8,14.5,13.0,18.1,22.2,14.5,16.0,9.5,14.4,11.0,15.5,11.5,17.5,10.0,17.2,17.7,15.5,16.5,14.5,13.7,15.0,17.0,16.6,12.5,9.5,16.5,14.2,18.2,17.0,16.4,13.9,16.9,16.0,13.2],\"y\":[20.0,17.0,22.0,12.0,16.0,24.0,14.0,28.8,31.9,25.1,15.0,36.1,18.0,41.5,32.0,27.4,32.7,17.6,19.2,17.5,15.0,12.0,23.0,31.0,22.0,29.9,23.0,32.0,35.7,21.5,18.0,26.0,18.6,19.1,29.0,19.0,16.0,13.0,13.0,32.0,32.1,26.0,25.4,29.8,19.0,14.5,24.0,19.0,26.4,23.9,14.0,31.0,16.0,33.7,12.0,24.0,12.0,25.0,14.0,20.5,20.0,14.0,22.0,22.0,15.5,13.0,16.0,29.5,26.0,15.0,18.0,29.0,20.5,38.0,30.0,15.5,20.5,29.0,33.5],\"type\":\"scatter\"},{\"line\":{\"color\":\"orange\"},\"mode\":\"markers\",\"name\":\"predicted\",\"x\":[19.5,10.5,18.0,13.5,15.5,15.0,12.0,11.3,14.0,15.4,21.0,14.4,21.0,14.7,15.7,15.0,11.4,13.4,13.2,12.5,12.5,12.5,17.0,19.0,14.7,20.7,17.4,21.0,14.4,15.4,15.0,14.0,18.7,18.7,19.5,15.5,11.1,12.0,13.0,19.0,15.5,21.0,12.6,15.3,13.5,12.8,14.5,13.0,18.1,22.2,14.5,16.0,9.5,14.4,11.0,15.5,11.5,17.5,10.0,17.2,17.7,15.5,16.5,14.5,13.7,15.0,17.0,16.6,12.5,9.5,16.5,14.2,18.2,17.0,16.4,13.9,16.9,16.0,13.2],\"y\":[19.0,18.0,26.0,13.0,18.0,27.0,14.0,26.8,37.3,25.5,15.0,34.5,15.0,37.3,38.0,28.4,24.2,19.4,20.2,13.0,15.0,13.0,25.0,33.0,25.0,28.0,17.0,31.0,34.5,20.6,18.0,26.0,19.2,20.2,27.0,17.0,15.5,13.0,13.0,33.0,34.5,26.0,24.2,37.3,18.0,16.0,28.0,18.0,22.3,17.0,14.0,26.0,13.0,36.0,13.0,24.0,13.0,25.0,15.0,19.4,19.0,16.0,28.0,22.0,17.5,15.0,18.0,33.5,28.0,15.0,18.0,29.0,19.8,20.2,33.5,15.0,17.5,28.0,30.0],\"type\":\"scatter\"}],                        {\"template\":{\"data\":{\"bar\":[{\"error_x\":{\"color\":\"#2a3f5f\"},\"error_y\":{\"color\":\"#2a3f5f\"},\"marker\":{\"line\":{\"color\":\"#E5ECF6\",\"width\":0.5},\"pattern\":{\"fillmode\":\"overlay\",\"size\":10,\"solidity\":0.2}},\"type\":\"bar\"}],\"barpolar\":[{\"marker\":{\"line\":{\"color\":\"#E5ECF6\",\"width\":0.5},\"pattern\":{\"fillmode\":\"overlay\",\"size\":10,\"solidity\":0.2}},\"type\":\"barpolar\"}],\"carpet\":[{\"aaxis\":{\"endlinecolor\":\"#2a3f5f\",\"gridcolor\":\"white\",\"linecolor\":\"white\",\"minorgridcolor\":\"white\",\"startlinecolor\":\"#2a3f5f\"},\"baxis\":{\"endlinecolor\":\"#2a3f5f\",\"gridcolor\":\"white\",\"linecolor\":\"white\",\"minorgridcolor\":\"white\",\"startlinecolor\":\"#2a3f5f\"},\"type\":\"carpet\"}],\"choropleth\":[{\"colorbar\":{\"outlinewidth\":0,\"ticks\":\"\"},\"type\":\"choropleth\"}],\"contour\":[{\"colorbar\":{\"outlinewidth\":0,\"ticks\":\"\"},\"colorscale\":[[0.0,\"#0d0887\"],[0.1111111111111111,\"#46039f\"],[0.2222222222222222,\"#7201a8\"],[0.3333333333333333,\"#9c179e\"],[0.4444444444444444,\"#bd3786\"],[0.5555555555555556,\"#d8576b\"],[0.6666666666666666,\"#ed7953\"],[0.7777777777777778,\"#fb9f3a\"],[0.8888888888888888,\"#fdca26\"],[1.0,\"#f0f921\"]],\"type\":\"contour\"}],\"contourcarpet\":[{\"colorbar\":{\"outlinewidth\":0,\"ticks\":\"\"},\"type\":\"contourcarpet\"}],\"heatmap\":[{\"colorbar\":{\"outlinewidth\":0,\"ticks\":\"\"},\"colorscale\":[[0.0,\"#0d0887\"],[0.1111111111111111,\"#46039f\"],[0.2222222222222222,\"#7201a8\"],[0.3333333333333333,\"#9c179e\"],[0.4444444444444444,\"#bd3786\"],[0.5555555555555556,\"#d8576b\"],[0.6666666666666666,\"#ed7953\"],[0.7777777777777778,\"#fb9f3a\"],[0.8888888888888888,\"#fdca26\"],[1.0,\"#f0f921\"]],\"type\":\"heatmap\"}],\"heatmapgl\":[{\"colorbar\":{\"outlinewidth\":0,\"ticks\":\"\"},\"colorscale\":[[0.0,\"#0d0887\"],[0.1111111111111111,\"#46039f\"],[0.2222222222222222,\"#7201a8\"],[0.3333333333333333,\"#9c179e\"],[0.4444444444444444,\"#bd3786\"],[0.5555555555555556,\"#d8576b\"],[0.6666666666666666,\"#ed7953\"],[0.7777777777777778,\"#fb9f3a\"],[0.8888888888888888,\"#fdca26\"],[1.0,\"#f0f921\"]],\"type\":\"heatmapgl\"}],\"histogram\":[{\"marker\":{\"pattern\":{\"fillmode\":\"overlay\",\"size\":10,\"solidity\":0.2}},\"type\":\"histogram\"}],\"histogram2d\":[{\"colorbar\":{\"outlinewidth\":0,\"ticks\":\"\"},\"colorscale\":[[0.0,\"#0d0887\"],[0.1111111111111111,\"#46039f\"],[0.2222222222222222,\"#7201a8\"],[0.3333333333333333,\"#9c179e\"],[0.4444444444444444,\"#bd3786\"],[0.5555555555555556,\"#d8576b\"],[0.6666666666666666,\"#ed7953\"],[0.7777777777777778,\"#fb9f3a\"],[0.8888888888888888,\"#fdca26\"],[1.0,\"#f0f921\"]],\"type\":\"histogram2d\"}],\"histogram2dcontour\":[{\"colorbar\":{\"outlinewidth\":0,\"ticks\":\"\"},\"colorscale\":[[0.0,\"#0d0887\"],[0.1111111111111111,\"#46039f\"],[0.2222222222222222,\"#7201a8\"],[0.3333333333333333,\"#9c179e\"],[0.4444444444444444,\"#bd3786\"],[0.5555555555555556,\"#d8576b\"],[0.6666666666666666,\"#ed7953\"],[0.7777777777777778,\"#fb9f3a\"],[0.8888888888888888,\"#fdca26\"],[1.0,\"#f0f921\"]],\"type\":\"histogram2dcontour\"}],\"mesh3d\":[{\"colorbar\":{\"outlinewidth\":0,\"ticks\":\"\"},\"type\":\"mesh3d\"}],\"parcoords\":[{\"line\":{\"colorbar\":{\"outlinewidth\":0,\"ticks\":\"\"}},\"type\":\"parcoords\"}],\"pie\":[{\"automargin\":true,\"type\":\"pie\"}],\"scatter\":[{\"marker\":{\"colorbar\":{\"outlinewidth\":0,\"ticks\":\"\"}},\"type\":\"scatter\"}],\"scatter3d\":[{\"line\":{\"colorbar\":{\"outlinewidth\":0,\"ticks\":\"\"}},\"marker\":{\"colorbar\":{\"outlinewidth\":0,\"ticks\":\"\"}},\"type\":\"scatter3d\"}],\"scattercarpet\":[{\"marker\":{\"colorbar\":{\"outlinewidth\":0,\"ticks\":\"\"}},\"type\":\"scattercarpet\"}],\"scattergeo\":[{\"marker\":{\"colorbar\":{\"outlinewidth\":0,\"ticks\":\"\"}},\"type\":\"scattergeo\"}],\"scattergl\":[{\"marker\":{\"colorbar\":{\"outlinewidth\":0,\"ticks\":\"\"}},\"type\":\"scattergl\"}],\"scattermapbox\":[{\"marker\":{\"colorbar\":{\"outlinewidth\":0,\"ticks\":\"\"}},\"type\":\"scattermapbox\"}],\"scatterpolar\":[{\"marker\":{\"colorbar\":{\"outlinewidth\":0,\"ticks\":\"\"}},\"type\":\"scatterpolar\"}],\"scatterpolargl\":[{\"marker\":{\"colorbar\":{\"outlinewidth\":0,\"ticks\":\"\"}},\"type\":\"scatterpolargl\"}],\"scatterternary\":[{\"marker\":{\"colorbar\":{\"outlinewidth\":0,\"ticks\":\"\"}},\"type\":\"scatterternary\"}],\"surface\":[{\"colorbar\":{\"outlinewidth\":0,\"ticks\":\"\"},\"colorscale\":[[0.0,\"#0d0887\"],[0.1111111111111111,\"#46039f\"],[0.2222222222222222,\"#7201a8\"],[0.3333333333333333,\"#9c179e\"],[0.4444444444444444,\"#bd3786\"],[0.5555555555555556,\"#d8576b\"],[0.6666666666666666,\"#ed7953\"],[0.7777777777777778,\"#fb9f3a\"],[0.8888888888888888,\"#fdca26\"],[1.0,\"#f0f921\"]],\"type\":\"surface\"}],\"table\":[{\"cells\":{\"fill\":{\"color\":\"#EBF0F8\"},\"line\":{\"color\":\"white\"}},\"header\":{\"fill\":{\"color\":\"#C8D4E3\"},\"line\":{\"color\":\"white\"}},\"type\":\"table\"}]},\"layout\":{\"annotationdefaults\":{\"arrowcolor\":\"#2a3f5f\",\"arrowhead\":0,\"arrowwidth\":1},\"autotypenumbers\":\"strict\",\"coloraxis\":{\"colorbar\":{\"outlinewidth\":0,\"ticks\":\"\"}},\"colorscale\":{\"diverging\":[[0,\"#8e0152\"],[0.1,\"#c51b7d\"],[0.2,\"#de77ae\"],[0.3,\"#f1b6da\"],[0.4,\"#fde0ef\"],[0.5,\"#f7f7f7\"],[0.6,\"#e6f5d0\"],[0.7,\"#b8e186\"],[0.8,\"#7fbc41\"],[0.9,\"#4d9221\"],[1,\"#276419\"]],\"sequential\":[[0.0,\"#0d0887\"],[0.1111111111111111,\"#46039f\"],[0.2222222222222222,\"#7201a8\"],[0.3333333333333333,\"#9c179e\"],[0.4444444444444444,\"#bd3786\"],[0.5555555555555556,\"#d8576b\"],[0.6666666666666666,\"#ed7953\"],[0.7777777777777778,\"#fb9f3a\"],[0.8888888888888888,\"#fdca26\"],[1.0,\"#f0f921\"]],\"sequentialminus\":[[0.0,\"#0d0887\"],[0.1111111111111111,\"#46039f\"],[0.2222222222222222,\"#7201a8\"],[0.3333333333333333,\"#9c179e\"],[0.4444444444444444,\"#bd3786\"],[0.5555555555555556,\"#d8576b\"],[0.6666666666666666,\"#ed7953\"],[0.7777777777777778,\"#fb9f3a\"],[0.8888888888888888,\"#fdca26\"],[1.0,\"#f0f921\"]]},\"colorway\":[\"#636efa\",\"#EF553B\",\"#00cc96\",\"#ab63fa\",\"#FFA15A\",\"#19d3f3\",\"#FF6692\",\"#B6E880\",\"#FF97FF\",\"#FECB52\"],\"font\":{\"color\":\"#2a3f5f\"},\"geo\":{\"bgcolor\":\"white\",\"lakecolor\":\"white\",\"landcolor\":\"#E5ECF6\",\"showlakes\":true,\"showland\":true,\"subunitcolor\":\"white\"},\"hoverlabel\":{\"align\":\"left\"},\"hovermode\":\"closest\",\"mapbox\":{\"style\":\"light\"},\"paper_bgcolor\":\"white\",\"plot_bgcolor\":\"#E5ECF6\",\"polar\":{\"angularaxis\":{\"gridcolor\":\"white\",\"linecolor\":\"white\",\"ticks\":\"\"},\"bgcolor\":\"#E5ECF6\",\"radialaxis\":{\"gridcolor\":\"white\",\"linecolor\":\"white\",\"ticks\":\"\"}},\"scene\":{\"xaxis\":{\"backgroundcolor\":\"#E5ECF6\",\"gridcolor\":\"white\",\"gridwidth\":2,\"linecolor\":\"white\",\"showbackground\":true,\"ticks\":\"\",\"zerolinecolor\":\"white\"},\"yaxis\":{\"backgroundcolor\":\"#E5ECF6\",\"gridcolor\":\"white\",\"gridwidth\":2,\"linecolor\":\"white\",\"showbackground\":true,\"ticks\":\"\",\"zerolinecolor\":\"white\"},\"zaxis\":{\"backgroundcolor\":\"#E5ECF6\",\"gridcolor\":\"white\",\"gridwidth\":2,\"linecolor\":\"white\",\"showbackground\":true,\"ticks\":\"\",\"zerolinecolor\":\"white\"}},\"shapedefaults\":{\"line\":{\"color\":\"#2a3f5f\"}},\"ternary\":{\"aaxis\":{\"gridcolor\":\"white\",\"linecolor\":\"white\",\"ticks\":\"\"},\"baxis\":{\"gridcolor\":\"white\",\"linecolor\":\"white\",\"ticks\":\"\"},\"bgcolor\":\"#E5ECF6\",\"caxis\":{\"gridcolor\":\"white\",\"linecolor\":\"white\",\"ticks\":\"\"}},\"title\":{\"x\":0.05},\"xaxis\":{\"automargin\":true,\"gridcolor\":\"white\",\"linecolor\":\"white\",\"ticks\":\"\",\"title\":{\"standoff\":15},\"zerolinecolor\":\"white\",\"zerolinewidth\":2},\"yaxis\":{\"automargin\":true,\"gridcolor\":\"white\",\"linecolor\":\"white\",\"ticks\":\"\",\"title\":{\"standoff\":15},\"zerolinecolor\":\"white\",\"zerolinewidth\":2}}}},                        {\"responsive\": true}                    ).then(function(){\n",
       "                            \n",
       "var gd = document.getElementById('0b1b93fe-edae-44ca-b2ab-9fa04ff4feda');\n",
       "var x = new MutationObserver(function (mutations, observer) {{\n",
       "        var display = window.getComputedStyle(gd).display;\n",
       "        if (!display || display === 'none') {{\n",
       "            console.log([gd, 'removed!']);\n",
       "            Plotly.purge(gd);\n",
       "            observer.disconnect();\n",
       "        }}\n",
       "}});\n",
       "\n",
       "// Listen for the removal of the full notebook cells\n",
       "var notebookContainer = gd.closest('#notebook-container');\n",
       "if (notebookContainer) {{\n",
       "    x.observe(notebookContainer, {childList: true});\n",
       "}}\n",
       "\n",
       "// Listen for the clearing of the current output cell\n",
       "var outputEl = gd.closest('.output');\n",
       "if (outputEl) {{\n",
       "    x.observe(outputEl, {childList: true});\n",
       "}}\n",
       "\n",
       "                        })                };                });            </script>        </div>"
      ]
     },
     "metadata": {},
     "output_type": "display_data"
    },
    {
     "data": {
      "application/vnd.plotly.v1+json": {
       "config": {
        "plotlyServerURL": "https://plot.ly"
       },
       "data": [
        {
         "line": {
          "color": "royalblue"
         },
         "mode": "markers",
         "name": "observed",
         "type": "scatter",
         "x": [
          19.5,
          10.5,
          18,
          13.5,
          15.5,
          15,
          12,
          11.3,
          14,
          15.4,
          21,
          14.4,
          21,
          14.7,
          15.7,
          15,
          11.4,
          13.4,
          13.2,
          12.5,
          12.5,
          12.5,
          17,
          19,
          14.7,
          20.7,
          17.4,
          21,
          14.4,
          15.4,
          15,
          14,
          18.7,
          18.7,
          19.5,
          15.5,
          11.1,
          12,
          13,
          19,
          15.5,
          21,
          12.6,
          15.3,
          13.5,
          12.8,
          14.5,
          13,
          18.1,
          22.2,
          14.5,
          16,
          9.5,
          14.4,
          11,
          15.5,
          11.5,
          17.5,
          10,
          17.2,
          17.7,
          15.5,
          16.5,
          14.5,
          13.7,
          15,
          17,
          16.6,
          12.5,
          9.5,
          16.5,
          14.2,
          18.2,
          17,
          16.4,
          13.9,
          16.9,
          16,
          13.2
         ],
         "y": [
          20,
          17,
          22,
          12,
          16,
          24,
          14,
          28.8,
          31.9,
          25.1,
          15,
          36.1,
          18,
          41.5,
          32,
          27.4,
          32.7,
          17.6,
          19.2,
          17.5,
          15,
          12,
          23,
          31,
          22,
          29.9,
          23,
          32,
          35.7,
          21.5,
          18,
          26,
          18.6,
          19.1,
          29,
          19,
          16,
          13,
          13,
          32,
          32.1,
          26,
          25.4,
          29.8,
          19,
          14.5,
          24,
          19,
          26.4,
          23.9,
          14,
          31,
          16,
          33.7,
          12,
          24,
          12,
          25,
          14,
          20.5,
          20,
          14,
          22,
          22,
          15.5,
          13,
          16,
          29.5,
          26,
          15,
          18,
          29,
          20.5,
          38,
          30,
          15.5,
          20.5,
          29,
          33.5
         ]
        },
        {
         "line": {
          "color": "orange"
         },
         "mode": "markers",
         "name": "predicted",
         "type": "scatter",
         "x": [
          19.5,
          10.5,
          18,
          13.5,
          15.5,
          15,
          12,
          11.3,
          14,
          15.4,
          21,
          14.4,
          21,
          14.7,
          15.7,
          15,
          11.4,
          13.4,
          13.2,
          12.5,
          12.5,
          12.5,
          17,
          19,
          14.7,
          20.7,
          17.4,
          21,
          14.4,
          15.4,
          15,
          14,
          18.7,
          18.7,
          19.5,
          15.5,
          11.1,
          12,
          13,
          19,
          15.5,
          21,
          12.6,
          15.3,
          13.5,
          12.8,
          14.5,
          13,
          18.1,
          22.2,
          14.5,
          16,
          9.5,
          14.4,
          11,
          15.5,
          11.5,
          17.5,
          10,
          17.2,
          17.7,
          15.5,
          16.5,
          14.5,
          13.7,
          15,
          17,
          16.6,
          12.5,
          9.5,
          16.5,
          14.2,
          18.2,
          17,
          16.4,
          13.9,
          16.9,
          16,
          13.2
         ],
         "y": [
          23,
          15.7,
          25.6,
          13.9,
          18.9,
          24.9,
          13.9,
          25.8,
          32.31,
          26.119999999999997,
          17.47,
          33.17,
          17.54,
          32.160000000000004,
          36.019999999999996,
          28.139999999999997,
          23.720000000000002,
          17.5,
          17.359999999999996,
          16.46,
          14.5,
          13.75,
          24.330000000000002,
          31.189999999999998,
          21.499999999999996,
          30.410000000000004,
          18.130000000000003,
          31.35,
          32.57,
          20.01,
          19.4,
          25.95,
          18.34,
          19.53,
          28.9,
          19.2,
          14.8,
          13.7,
          13.1,
          30.53,
          33.82000000000001,
          29.060000000000002,
          26.250000000000007,
          32.77,
          24.5,
          14.7,
          24,
          19.3,
          26.5,
          18.630000000000003,
          14.3,
          26.3,
          13.2,
          36.29,
          13.3,
          26.2,
          13,
          25.6,
          13.7,
          19.729999999999997,
          17.5,
          14.4,
          25.1,
          19.27,
          15.940000000000001,
          16.06,
          17.35,
          33.970000000000006,
          23.8,
          14.7,
          18.7,
          28.98,
          20.09,
          20.619999999999997,
          32.44,
          16.16,
          19.56,
          29.15,
          29.07
         ]
        }
       ],
       "layout": {
        "autosize": true,
        "template": {
         "data": {
          "bar": [
           {
            "error_x": {
             "color": "#2a3f5f"
            },
            "error_y": {
             "color": "#2a3f5f"
            },
            "marker": {
             "line": {
              "color": "#E5ECF6",
              "width": 0.5
             },
             "pattern": {
              "fillmode": "overlay",
              "size": 10,
              "solidity": 0.2
             }
            },
            "type": "bar"
           }
          ],
          "barpolar": [
           {
            "marker": {
             "line": {
              "color": "#E5ECF6",
              "width": 0.5
             },
             "pattern": {
              "fillmode": "overlay",
              "size": 10,
              "solidity": 0.2
             }
            },
            "type": "barpolar"
           }
          ],
          "carpet": [
           {
            "aaxis": {
             "endlinecolor": "#2a3f5f",
             "gridcolor": "white",
             "linecolor": "white",
             "minorgridcolor": "white",
             "startlinecolor": "#2a3f5f"
            },
            "baxis": {
             "endlinecolor": "#2a3f5f",
             "gridcolor": "white",
             "linecolor": "white",
             "minorgridcolor": "white",
             "startlinecolor": "#2a3f5f"
            },
            "type": "carpet"
           }
          ],
          "choropleth": [
           {
            "colorbar": {
             "outlinewidth": 0,
             "ticks": ""
            },
            "type": "choropleth"
           }
          ],
          "contour": [
           {
            "colorbar": {
             "outlinewidth": 0,
             "ticks": ""
            },
            "colorscale": [
             [
              0,
              "#0d0887"
             ],
             [
              0.1111111111111111,
              "#46039f"
             ],
             [
              0.2222222222222222,
              "#7201a8"
             ],
             [
              0.3333333333333333,
              "#9c179e"
             ],
             [
              0.4444444444444444,
              "#bd3786"
             ],
             [
              0.5555555555555556,
              "#d8576b"
             ],
             [
              0.6666666666666666,
              "#ed7953"
             ],
             [
              0.7777777777777778,
              "#fb9f3a"
             ],
             [
              0.8888888888888888,
              "#fdca26"
             ],
             [
              1,
              "#f0f921"
             ]
            ],
            "type": "contour"
           }
          ],
          "contourcarpet": [
           {
            "colorbar": {
             "outlinewidth": 0,
             "ticks": ""
            },
            "type": "contourcarpet"
           }
          ],
          "heatmap": [
           {
            "colorbar": {
             "outlinewidth": 0,
             "ticks": ""
            },
            "colorscale": [
             [
              0,
              "#0d0887"
             ],
             [
              0.1111111111111111,
              "#46039f"
             ],
             [
              0.2222222222222222,
              "#7201a8"
             ],
             [
              0.3333333333333333,
              "#9c179e"
             ],
             [
              0.4444444444444444,
              "#bd3786"
             ],
             [
              0.5555555555555556,
              "#d8576b"
             ],
             [
              0.6666666666666666,
              "#ed7953"
             ],
             [
              0.7777777777777778,
              "#fb9f3a"
             ],
             [
              0.8888888888888888,
              "#fdca26"
             ],
             [
              1,
              "#f0f921"
             ]
            ],
            "type": "heatmap"
           }
          ],
          "heatmapgl": [
           {
            "colorbar": {
             "outlinewidth": 0,
             "ticks": ""
            },
            "colorscale": [
             [
              0,
              "#0d0887"
             ],
             [
              0.1111111111111111,
              "#46039f"
             ],
             [
              0.2222222222222222,
              "#7201a8"
             ],
             [
              0.3333333333333333,
              "#9c179e"
             ],
             [
              0.4444444444444444,
              "#bd3786"
             ],
             [
              0.5555555555555556,
              "#d8576b"
             ],
             [
              0.6666666666666666,
              "#ed7953"
             ],
             [
              0.7777777777777778,
              "#fb9f3a"
             ],
             [
              0.8888888888888888,
              "#fdca26"
             ],
             [
              1,
              "#f0f921"
             ]
            ],
            "type": "heatmapgl"
           }
          ],
          "histogram": [
           {
            "marker": {
             "pattern": {
              "fillmode": "overlay",
              "size": 10,
              "solidity": 0.2
             }
            },
            "type": "histogram"
           }
          ],
          "histogram2d": [
           {
            "colorbar": {
             "outlinewidth": 0,
             "ticks": ""
            },
            "colorscale": [
             [
              0,
              "#0d0887"
             ],
             [
              0.1111111111111111,
              "#46039f"
             ],
             [
              0.2222222222222222,
              "#7201a8"
             ],
             [
              0.3333333333333333,
              "#9c179e"
             ],
             [
              0.4444444444444444,
              "#bd3786"
             ],
             [
              0.5555555555555556,
              "#d8576b"
             ],
             [
              0.6666666666666666,
              "#ed7953"
             ],
             [
              0.7777777777777778,
              "#fb9f3a"
             ],
             [
              0.8888888888888888,
              "#fdca26"
             ],
             [
              1,
              "#f0f921"
             ]
            ],
            "type": "histogram2d"
           }
          ],
          "histogram2dcontour": [
           {
            "colorbar": {
             "outlinewidth": 0,
             "ticks": ""
            },
            "colorscale": [
             [
              0,
              "#0d0887"
             ],
             [
              0.1111111111111111,
              "#46039f"
             ],
             [
              0.2222222222222222,
              "#7201a8"
             ],
             [
              0.3333333333333333,
              "#9c179e"
             ],
             [
              0.4444444444444444,
              "#bd3786"
             ],
             [
              0.5555555555555556,
              "#d8576b"
             ],
             [
              0.6666666666666666,
              "#ed7953"
             ],
             [
              0.7777777777777778,
              "#fb9f3a"
             ],
             [
              0.8888888888888888,
              "#fdca26"
             ],
             [
              1,
              "#f0f921"
             ]
            ],
            "type": "histogram2dcontour"
           }
          ],
          "mesh3d": [
           {
            "colorbar": {
             "outlinewidth": 0,
             "ticks": ""
            },
            "type": "mesh3d"
           }
          ],
          "parcoords": [
           {
            "line": {
             "colorbar": {
              "outlinewidth": 0,
              "ticks": ""
             }
            },
            "type": "parcoords"
           }
          ],
          "pie": [
           {
            "automargin": true,
            "type": "pie"
           }
          ],
          "scatter": [
           {
            "marker": {
             "colorbar": {
              "outlinewidth": 0,
              "ticks": ""
             }
            },
            "type": "scatter"
           }
          ],
          "scatter3d": [
           {
            "line": {
             "colorbar": {
              "outlinewidth": 0,
              "ticks": ""
             }
            },
            "marker": {
             "colorbar": {
              "outlinewidth": 0,
              "ticks": ""
             }
            },
            "type": "scatter3d"
           }
          ],
          "scattercarpet": [
           {
            "marker": {
             "colorbar": {
              "outlinewidth": 0,
              "ticks": ""
             }
            },
            "type": "scattercarpet"
           }
          ],
          "scattergeo": [
           {
            "marker": {
             "colorbar": {
              "outlinewidth": 0,
              "ticks": ""
             }
            },
            "type": "scattergeo"
           }
          ],
          "scattergl": [
           {
            "marker": {
             "colorbar": {
              "outlinewidth": 0,
              "ticks": ""
             }
            },
            "type": "scattergl"
           }
          ],
          "scattermapbox": [
           {
            "marker": {
             "colorbar": {
              "outlinewidth": 0,
              "ticks": ""
             }
            },
            "type": "scattermapbox"
           }
          ],
          "scatterpolar": [
           {
            "marker": {
             "colorbar": {
              "outlinewidth": 0,
              "ticks": ""
             }
            },
            "type": "scatterpolar"
           }
          ],
          "scatterpolargl": [
           {
            "marker": {
             "colorbar": {
              "outlinewidth": 0,
              "ticks": ""
             }
            },
            "type": "scatterpolargl"
           }
          ],
          "scatterternary": [
           {
            "marker": {
             "colorbar": {
              "outlinewidth": 0,
              "ticks": ""
             }
            },
            "type": "scatterternary"
           }
          ],
          "surface": [
           {
            "colorbar": {
             "outlinewidth": 0,
             "ticks": ""
            },
            "colorscale": [
             [
              0,
              "#0d0887"
             ],
             [
              0.1111111111111111,
              "#46039f"
             ],
             [
              0.2222222222222222,
              "#7201a8"
             ],
             [
              0.3333333333333333,
              "#9c179e"
             ],
             [
              0.4444444444444444,
              "#bd3786"
             ],
             [
              0.5555555555555556,
              "#d8576b"
             ],
             [
              0.6666666666666666,
              "#ed7953"
             ],
             [
              0.7777777777777778,
              "#fb9f3a"
             ],
             [
              0.8888888888888888,
              "#fdca26"
             ],
             [
              1,
              "#f0f921"
             ]
            ],
            "type": "surface"
           }
          ],
          "table": [
           {
            "cells": {
             "fill": {
              "color": "#EBF0F8"
             },
             "line": {
              "color": "white"
             }
            },
            "header": {
             "fill": {
              "color": "#C8D4E3"
             },
             "line": {
              "color": "white"
             }
            },
            "type": "table"
           }
          ]
         },
         "layout": {
          "annotationdefaults": {
           "arrowcolor": "#2a3f5f",
           "arrowhead": 0,
           "arrowwidth": 1
          },
          "autotypenumbers": "strict",
          "coloraxis": {
           "colorbar": {
            "outlinewidth": 0,
            "ticks": ""
           }
          },
          "colorscale": {
           "diverging": [
            [
             0,
             "#8e0152"
            ],
            [
             0.1,
             "#c51b7d"
            ],
            [
             0.2,
             "#de77ae"
            ],
            [
             0.3,
             "#f1b6da"
            ],
            [
             0.4,
             "#fde0ef"
            ],
            [
             0.5,
             "#f7f7f7"
            ],
            [
             0.6,
             "#e6f5d0"
            ],
            [
             0.7,
             "#b8e186"
            ],
            [
             0.8,
             "#7fbc41"
            ],
            [
             0.9,
             "#4d9221"
            ],
            [
             1,
             "#276419"
            ]
           ],
           "sequential": [
            [
             0,
             "#0d0887"
            ],
            [
             0.1111111111111111,
             "#46039f"
            ],
            [
             0.2222222222222222,
             "#7201a8"
            ],
            [
             0.3333333333333333,
             "#9c179e"
            ],
            [
             0.4444444444444444,
             "#bd3786"
            ],
            [
             0.5555555555555556,
             "#d8576b"
            ],
            [
             0.6666666666666666,
             "#ed7953"
            ],
            [
             0.7777777777777778,
             "#fb9f3a"
            ],
            [
             0.8888888888888888,
             "#fdca26"
            ],
            [
             1,
             "#f0f921"
            ]
           ],
           "sequentialminus": [
            [
             0,
             "#0d0887"
            ],
            [
             0.1111111111111111,
             "#46039f"
            ],
            [
             0.2222222222222222,
             "#7201a8"
            ],
            [
             0.3333333333333333,
             "#9c179e"
            ],
            [
             0.4444444444444444,
             "#bd3786"
            ],
            [
             0.5555555555555556,
             "#d8576b"
            ],
            [
             0.6666666666666666,
             "#ed7953"
            ],
            [
             0.7777777777777778,
             "#fb9f3a"
            ],
            [
             0.8888888888888888,
             "#fdca26"
            ],
            [
             1,
             "#f0f921"
            ]
           ]
          },
          "colorway": [
           "#636efa",
           "#EF553B",
           "#00cc96",
           "#ab63fa",
           "#FFA15A",
           "#19d3f3",
           "#FF6692",
           "#B6E880",
           "#FF97FF",
           "#FECB52"
          ],
          "font": {
           "color": "#2a3f5f"
          },
          "geo": {
           "bgcolor": "white",
           "lakecolor": "white",
           "landcolor": "#E5ECF6",
           "showlakes": true,
           "showland": true,
           "subunitcolor": "white"
          },
          "hoverlabel": {
           "align": "left"
          },
          "hovermode": "closest",
          "mapbox": {
           "style": "light"
          },
          "paper_bgcolor": "white",
          "plot_bgcolor": "#E5ECF6",
          "polar": {
           "angularaxis": {
            "gridcolor": "white",
            "linecolor": "white",
            "ticks": ""
           },
           "bgcolor": "#E5ECF6",
           "radialaxis": {
            "gridcolor": "white",
            "linecolor": "white",
            "ticks": ""
           }
          },
          "scene": {
           "xaxis": {
            "backgroundcolor": "#E5ECF6",
            "gridcolor": "white",
            "gridwidth": 2,
            "linecolor": "white",
            "showbackground": true,
            "ticks": "",
            "zerolinecolor": "white"
           },
           "yaxis": {
            "backgroundcolor": "#E5ECF6",
            "gridcolor": "white",
            "gridwidth": 2,
            "linecolor": "white",
            "showbackground": true,
            "ticks": "",
            "zerolinecolor": "white"
           },
           "zaxis": {
            "backgroundcolor": "#E5ECF6",
            "gridcolor": "white",
            "gridwidth": 2,
            "linecolor": "white",
            "showbackground": true,
            "ticks": "",
            "zerolinecolor": "white"
           }
          },
          "shapedefaults": {
           "line": {
            "color": "#2a3f5f"
           }
          },
          "ternary": {
           "aaxis": {
            "gridcolor": "white",
            "linecolor": "white",
            "ticks": ""
           },
           "baxis": {
            "gridcolor": "white",
            "linecolor": "white",
            "ticks": ""
           },
           "bgcolor": "#E5ECF6",
           "caxis": {
            "gridcolor": "white",
            "linecolor": "white",
            "ticks": ""
           }
          },
          "title": {
           "x": 0.05
          },
          "xaxis": {
           "automargin": true,
           "gridcolor": "white",
           "linecolor": "white",
           "ticks": "",
           "title": {
            "standoff": 15
           },
           "zerolinecolor": "white",
           "zerolinewidth": 2
          },
          "yaxis": {
           "automargin": true,
           "gridcolor": "white",
           "linecolor": "white",
           "ticks": "",
           "title": {
            "standoff": 15
           },
           "zerolinecolor": "white",
           "zerolinewidth": 2
          }
         }
        },
        "xaxis": {
         "autorange": true,
         "range": [
          8.63834808259587,
          23.06165191740413
         ],
         "type": "linear"
        },
        "yaxis": {
         "autorange": true,
         "range": [
          9.565533980582524,
          43.93446601941748
         ],
         "type": "linear"
        }
       }
      },
      "image/png": "[encoded data removed]",
      "text/html": [
       "<div>                            <div id=\"e8acf551-1468-47b4-98bd-041b442a71a5\" class=\"plotly-graph-div\" style=\"height:525px; width:100%;\"></div>            <script type=\"text/javascript\">                require([\"plotly\"], function(Plotly) {                    window.PLOTLYENV=window.PLOTLYENV || {};                                    if (document.getElementById(\"e8acf551-1468-47b4-98bd-041b442a71a5\")) {                    Plotly.newPlot(                        \"e8acf551-1468-47b4-98bd-041b442a71a5\",                        [{\"line\":{\"color\":\"royalblue\"},\"mode\":\"markers\",\"name\":\"observed\",\"x\":[19.5,10.5,18.0,13.5,15.5,15.0,12.0,11.3,14.0,15.4,21.0,14.4,21.0,14.7,15.7,15.0,11.4,13.4,13.2,12.5,12.5,12.5,17.0,19.0,14.7,20.7,17.4,21.0,14.4,15.4,15.0,14.0,18.7,18.7,19.5,15.5,11.1,12.0,13.0,19.0,15.5,21.0,12.6,15.3,13.5,12.8,14.5,13.0,18.1,22.2,14.5,16.0,9.5,14.4,11.0,15.5,11.5,17.5,10.0,17.2,17.7,15.5,16.5,14.5,13.7,15.0,17.0,16.6,12.5,9.5,16.5,14.2,18.2,17.0,16.4,13.9,16.9,16.0,13.2],\"y\":[20.0,17.0,22.0,12.0,16.0,24.0,14.0,28.8,31.9,25.1,15.0,36.1,18.0,41.5,32.0,27.4,32.7,17.6,19.2,17.5,15.0,12.0,23.0,31.0,22.0,29.9,23.0,32.0,35.7,21.5,18.0,26.0,18.6,19.1,29.0,19.0,16.0,13.0,13.0,32.0,32.1,26.0,25.4,29.8,19.0,14.5,24.0,19.0,26.4,23.9,14.0,31.0,16.0,33.7,12.0,24.0,12.0,25.0,14.0,20.5,20.0,14.0,22.0,22.0,15.5,13.0,16.0,29.5,26.0,15.0,18.0,29.0,20.5,38.0,30.0,15.5,20.5,29.0,33.5],\"type\":\"scatter\"},{\"line\":{\"color\":\"orange\"},\"mode\":\"markers\",\"name\":\"predicted\",\"x\":[19.5,10.5,18.0,13.5,15.5,15.0,12.0,11.3,14.0,15.4,21.0,14.4,21.0,14.7,15.7,15.0,11.4,13.4,13.2,12.5,12.5,12.5,17.0,19.0,14.7,20.7,17.4,21.0,14.4,15.4,15.0,14.0,18.7,18.7,19.5,15.5,11.1,12.0,13.0,19.0,15.5,21.0,12.6,15.3,13.5,12.8,14.5,13.0,18.1,22.2,14.5,16.0,9.5,14.4,11.0,15.5,11.5,17.5,10.0,17.2,17.7,15.5,16.5,14.5,13.7,15.0,17.0,16.6,12.5,9.5,16.5,14.2,18.2,17.0,16.4,13.9,16.9,16.0,13.2],\"y\":[23.0,15.7,25.6,13.9,18.9,24.9,13.9,25.8,32.31,26.119999999999997,17.47,33.17,17.54,32.160000000000004,36.019999999999996,28.139999999999997,23.720000000000002,17.5,17.359999999999996,16.46,14.5,13.75,24.330000000000002,31.189999999999998,21.499999999999996,30.410000000000004,18.130000000000003,31.35,32.57,20.01,19.4,25.95,18.34,19.53,28.9,19.2,14.8,13.7,13.1,30.53,33.82000000000001,29.060000000000002,26.250000000000007,32.77,24.5,14.7,24.0,19.3,26.5,18.630000000000003,14.3,26.3,13.2,36.29,13.3,26.2,13.0,25.6,13.7,19.729999999999997,17.5,14.4,25.1,19.27,15.940000000000001,16.06,17.35,33.970000000000006,23.8,14.7,18.7,28.98,20.09,20.619999999999997,32.44,16.16,19.56,29.15,29.07],\"type\":\"scatter\"}],                        {\"template\":{\"data\":{\"bar\":[{\"error_x\":{\"color\":\"#2a3f5f\"},\"error_y\":{\"color\":\"#2a3f5f\"},\"marker\":{\"line\":{\"color\":\"#E5ECF6\",\"width\":0.5},\"pattern\":{\"fillmode\":\"overlay\",\"size\":10,\"solidity\":0.2}},\"type\":\"bar\"}],\"barpolar\":[{\"marker\":{\"line\":{\"color\":\"#E5ECF6\",\"width\":0.5},\"pattern\":{\"fillmode\":\"overlay\",\"size\":10,\"solidity\":0.2}},\"type\":\"barpolar\"}],\"carpet\":[{\"aaxis\":{\"endlinecolor\":\"#2a3f5f\",\"gridcolor\":\"white\",\"linecolor\":\"white\",\"minorgridcolor\":\"white\",\"startlinecolor\":\"#2a3f5f\"},\"baxis\":{\"endlinecolor\":\"#2a3f5f\",\"gridcolor\":\"white\",\"linecolor\":\"white\",\"minorgridcolor\":\"white\",\"startlinecolor\":\"#2a3f5f\"},\"type\":\"carpet\"}],\"choropleth\":[{\"colorbar\":{\"outlinewidth\":0,\"ticks\":\"\"},\"type\":\"choropleth\"}],\"contour\":[{\"colorbar\":{\"outlinewidth\":0,\"ticks\":\"\"},\"colorscale\":[[0.0,\"#0d0887\"],[0.1111111111111111,\"#46039f\"],[0.2222222222222222,\"#7201a8\"],[0.3333333333333333,\"#9c179e\"],[0.4444444444444444,\"#bd3786\"],[0.5555555555555556,\"#d8576b\"],[0.6666666666666666,\"#ed7953\"],[0.7777777777777778,\"#fb9f3a\"],[0.8888888888888888,\"#fdca26\"],[1.0,\"#f0f921\"]],\"type\":\"contour\"}],\"contourcarpet\":[{\"colorbar\":{\"outlinewidth\":0,\"ticks\":\"\"},\"type\":\"contourcarpet\"}],\"heatmap\":[{\"colorbar\":{\"outlinewidth\":0,\"ticks\":\"\"},\"colorscale\":[[0.0,\"#0d0887\"],[0.1111111111111111,\"#46039f\"],[0.2222222222222222,\"#7201a8\"],[0.3333333333333333,\"#9c179e\"],[0.4444444444444444,\"#bd3786\"],[0.5555555555555556,\"#d8576b\"],[0.6666666666666666,\"#ed7953\"],[0.7777777777777778,\"#fb9f3a\"],[0.8888888888888888,\"#fdca26\"],[1.0,\"#f0f921\"]],\"type\":\"heatmap\"}],\"heatmapgl\":[{\"colorbar\":{\"outlinewidth\":0,\"ticks\":\"\"},\"colorscale\":[[0.0,\"#0d0887\"],[0.1111111111111111,\"#46039f\"],[0.2222222222222222,\"#7201a8\"],[0.3333333333333333,\"#9c179e\"],[0.4444444444444444,\"#bd3786\"],[0.5555555555555556,\"#d8576b\"],[0.6666666666666666,\"#ed7953\"],[0.7777777777777778,\"#fb9f3a\"],[0.8888888888888888,\"#fdca26\"],[1.0,\"#f0f921\"]],\"type\":\"heatmapgl\"}],\"histogram\":[{\"marker\":{\"pattern\":{\"fillmode\":\"overlay\",\"size\":10,\"solidity\":0.2}},\"type\":\"histogram\"}],\"histogram2d\":[{\"colorbar\":{\"outlinewidth\":0,\"ticks\":\"\"},\"colorscale\":[[0.0,\"#0d0887\"],[0.1111111111111111,\"#46039f\"],[0.2222222222222222,\"#7201a8\"],[0.3333333333333333,\"#9c179e\"],[0.4444444444444444,\"#bd3786\"],[0.5555555555555556,\"#d8576b\"],[0.6666666666666666,\"#ed7953\"],[0.7777777777777778,\"#fb9f3a\"],[0.8888888888888888,\"#fdca26\"],[1.0,\"#f0f921\"]],\"type\":\"histogram2d\"}],\"histogram2dcontour\":[{\"colorbar\":{\"outlinewidth\":0,\"ticks\":\"\"},\"colorscale\":[[0.0,\"#0d0887\"],[0.1111111111111111,\"#46039f\"],[0.2222222222222222,\"#7201a8\"],[0.3333333333333333,\"#9c179e\"],[0.4444444444444444,\"#bd3786\"],[0.5555555555555556,\"#d8576b\"],[0.6666666666666666,\"#ed7953\"],[0.7777777777777778,\"#fb9f3a\"],[0.8888888888888888,\"#fdca26\"],[1.0,\"#f0f921\"]],\"type\":\"histogram2dcontour\"}],\"mesh3d\":[{\"colorbar\":{\"outlinewidth\":0,\"ticks\":\"\"},\"type\":\"mesh3d\"}],\"parcoords\":[{\"line\":{\"colorbar\":{\"outlinewidth\":0,\"ticks\":\"\"}},\"type\":\"parcoords\"}],\"pie\":[{\"automargin\":true,\"type\":\"pie\"}],\"scatter\":[{\"marker\":{\"colorbar\":{\"outlinewidth\":0,\"ticks\":\"\"}},\"type\":\"scatter\"}],\"scatter3d\":[{\"line\":{\"colorbar\":{\"outlinewidth\":0,\"ticks\":\"\"}},\"marker\":{\"colorbar\":{\"outlinewidth\":0,\"ticks\":\"\"}},\"type\":\"scatter3d\"}],\"scattercarpet\":[{\"marker\":{\"colorbar\":{\"outlinewidth\":0,\"ticks\":\"\"}},\"type\":\"scattercarpet\"}],\"scattergeo\":[{\"marker\":{\"colorbar\":{\"outlinewidth\":0,\"ticks\":\"\"}},\"type\":\"scattergeo\"}],\"scattergl\":[{\"marker\":{\"colorbar\":{\"outlinewidth\":0,\"ticks\":\"\"}},\"type\":\"scattergl\"}],\"scattermapbox\":[{\"marker\":{\"colorbar\":{\"outlinewidth\":0,\"ticks\":\"\"}},\"type\":\"scattermapbox\"}],\"scatterpolar\":[{\"marker\":{\"colorbar\":{\"outlinewidth\":0,\"ticks\":\"\"}},\"type\":\"scatterpolar\"}],\"scatterpolargl\":[{\"marker\":{\"colorbar\":{\"outlinewidth\":0,\"ticks\":\"\"}},\"type\":\"scatterpolargl\"}],\"scatterternary\":[{\"marker\":{\"colorbar\":{\"outlinewidth\":0,\"ticks\":\"\"}},\"type\":\"scatterternary\"}],\"surface\":[{\"colorbar\":{\"outlinewidth\":0,\"ticks\":\"\"},\"colorscale\":[[0.0,\"#0d0887\"],[0.1111111111111111,\"#46039f\"],[0.2222222222222222,\"#7201a8\"],[0.3333333333333333,\"#9c179e\"],[0.4444444444444444,\"#bd3786\"],[0.5555555555555556,\"#d8576b\"],[0.6666666666666666,\"#ed7953\"],[0.7777777777777778,\"#fb9f3a\"],[0.8888888888888888,\"#fdca26\"],[1.0,\"#f0f921\"]],\"type\":\"surface\"}],\"table\":[{\"cells\":{\"fill\":{\"color\":\"#EBF0F8\"},\"line\":{\"color\":\"white\"}},\"header\":{\"fill\":{\"color\":\"#C8D4E3\"},\"line\":{\"color\":\"white\"}},\"type\":\"table\"}]},\"layout\":{\"annotationdefaults\":{\"arrowcolor\":\"#2a3f5f\",\"arrowhead\":0,\"arrowwidth\":1},\"autotypenumbers\":\"strict\",\"coloraxis\":{\"colorbar\":{\"outlinewidth\":0,\"ticks\":\"\"}},\"colorscale\":{\"diverging\":[[0,\"#8e0152\"],[0.1,\"#c51b7d\"],[0.2,\"#de77ae\"],[0.3,\"#f1b6da\"],[0.4,\"#fde0ef\"],[0.5,\"#f7f7f7\"],[0.6,\"#e6f5d0\"],[0.7,\"#b8e186\"],[0.8,\"#7fbc41\"],[0.9,\"#4d9221\"],[1,\"#276419\"]],\"sequential\":[[0.0,\"#0d0887\"],[0.1111111111111111,\"#46039f\"],[0.2222222222222222,\"#7201a8\"],[0.3333333333333333,\"#9c179e\"],[0.4444444444444444,\"#bd3786\"],[0.5555555555555556,\"#d8576b\"],[0.6666666666666666,\"#ed7953\"],[0.7777777777777778,\"#fb9f3a\"],[0.8888888888888888,\"#fdca26\"],[1.0,\"#f0f921\"]],\"sequentialminus\":[[0.0,\"#0d0887\"],[0.1111111111111111,\"#46039f\"],[0.2222222222222222,\"#7201a8\"],[0.3333333333333333,\"#9c179e\"],[0.4444444444444444,\"#bd3786\"],[0.5555555555555556,\"#d8576b\"],[0.6666666666666666,\"#ed7953\"],[0.7777777777777778,\"#fb9f3a\"],[0.8888888888888888,\"#fdca26\"],[1.0,\"#f0f921\"]]},\"colorway\":[\"#636efa\",\"#EF553B\",\"#00cc96\",\"#ab63fa\",\"#FFA15A\",\"#19d3f3\",\"#FF6692\",\"#B6E880\",\"#FF97FF\",\"#FECB52\"],\"font\":{\"color\":\"#2a3f5f\"},\"geo\":{\"bgcolor\":\"white\",\"lakecolor\":\"white\",\"landcolor\":\"#E5ECF6\",\"showlakes\":true,\"showland\":true,\"subunitcolor\":\"white\"},\"hoverlabel\":{\"align\":\"left\"},\"hovermode\":\"closest\",\"mapbox\":{\"style\":\"light\"},\"paper_bgcolor\":\"white\",\"plot_bgcolor\":\"#E5ECF6\",\"polar\":{\"angularaxis\":{\"gridcolor\":\"white\",\"linecolor\":\"white\",\"ticks\":\"\"},\"bgcolor\":\"#E5ECF6\",\"radialaxis\":{\"gridcolor\":\"white\",\"linecolor\":\"white\",\"ticks\":\"\"}},\"scene\":{\"xaxis\":{\"backgroundcolor\":\"#E5ECF6\",\"gridcolor\":\"white\",\"gridwidth\":2,\"linecolor\":\"white\",\"showbackground\":true,\"ticks\":\"\",\"zerolinecolor\":\"white\"},\"yaxis\":{\"backgroundcolor\":\"#E5ECF6\",\"gridcolor\":\"white\",\"gridwidth\":2,\"linecolor\":\"white\",\"showbackground\":true,\"ticks\":\"\",\"zerolinecolor\":\"white\"},\"zaxis\":{\"backgroundcolor\":\"#E5ECF6\",\"gridcolor\":\"white\",\"gridwidth\":2,\"linecolor\":\"white\",\"showbackground\":true,\"ticks\":\"\",\"zerolinecolor\":\"white\"}},\"shapedefaults\":{\"line\":{\"color\":\"#2a3f5f\"}},\"ternary\":{\"aaxis\":{\"gridcolor\":\"white\",\"linecolor\":\"white\",\"ticks\":\"\"},\"baxis\":{\"gridcolor\":\"white\",\"linecolor\":\"white\",\"ticks\":\"\"},\"bgcolor\":\"#E5ECF6\",\"caxis\":{\"gridcolor\":\"white\",\"linecolor\":\"white\",\"ticks\":\"\"}},\"title\":{\"x\":0.05},\"xaxis\":{\"automargin\":true,\"gridcolor\":\"white\",\"linecolor\":\"white\",\"ticks\":\"\",\"title\":{\"standoff\":15},\"zerolinecolor\":\"white\",\"zerolinewidth\":2},\"yaxis\":{\"automargin\":true,\"gridcolor\":\"white\",\"linecolor\":\"white\",\"ticks\":\"\",\"title\":{\"standoff\":15},\"zerolinecolor\":\"white\",\"zerolinewidth\":2}}}},                        {\"responsive\": true}                    ).then(function(){\n",
       "                            \n",
       "var gd = document.getElementById('e8acf551-1468-47b4-98bd-041b442a71a5');\n",
       "var x = new MutationObserver(function (mutations, observer) {{\n",
       "        var display = window.getComputedStyle(gd).display;\n",
       "        if (!display || display === 'none') {{\n",
       "            console.log([gd, 'removed!']);\n",
       "            Plotly.purge(gd);\n",
       "            observer.disconnect();\n",
       "        }}\n",
       "}});\n",
       "\n",
       "// Listen for the removal of the full notebook cells\n",
       "var notebookContainer = gd.closest('#notebook-container');\n",
       "if (notebookContainer) {{\n",
       "    x.observe(notebookContainer, {childList: true});\n",
       "}}\n",
       "\n",
       "// Listen for the clearing of the current output cell\n",
       "var outputEl = gd.closest('.output');\n",
       "if (outputEl) {{\n",
       "    x.observe(outputEl, {childList: true});\n",
       "}}\n",
       "\n",
       "                        })                };                });            </script>        </div>"
      ]
     },
     "metadata": {},
     "output_type": "display_data"
    },
    {
     "data": {
      "application/vnd.plotly.v1+json": {
       "config": {
        "plotlyServerURL": "https://plot.ly"
       },
       "data": [
        {
         "line": {
          "color": "royalblue"
         },
         "mode": "markers",
         "name": "observed",
         "type": "scatter",
         "x": [
          19.5,
          10.5,
          18,
          13.5,
          15.5,
          15,
          12,
          11.3,
          14,
          15.4,
          21,
          14.4,
          21,
          14.7,
          15.7,
          15,
          11.4,
          13.4,
          13.2,
          12.5,
          12.5,
          12.5,
          17,
          19,
          14.7,
          20.7,
          17.4,
          21,
          14.4,
          15.4,
          15,
          14,
          18.7,
          18.7,
          19.5,
          15.5,
          11.1,
          12,
          13,
          19,
          15.5,
          21,
          12.6,
          15.3,
          13.5,
          12.8,
          14.5,
          13,
          18.1,
          22.2,
          14.5,
          16,
          9.5,
          14.4,
          11,
          15.5,
          11.5,
          17.5,
          10,
          17.2,
          17.7,
          15.5,
          16.5,
          14.5,
          13.7,
          15,
          17,
          16.6,
          12.5,
          9.5,
          16.5,
          14.2,
          18.2,
          17,
          16.4,
          13.9,
          16.9,
          16,
          13.2
         ],
         "y": [
          20,
          17,
          22,
          12,
          16,
          24,
          14,
          28.8,
          31.9,
          25.1,
          15,
          36.1,
          18,
          41.5,
          32,
          27.4,
          32.7,
          17.6,
          19.2,
          17.5,
          15,
          12,
          23,
          31,
          22,
          29.9,
          23,
          32,
          35.7,
          21.5,
          18,
          26,
          18.6,
          19.1,
          29,
          19,
          16,
          13,
          13,
          32,
          32.1,
          26,
          25.4,
          29.8,
          19,
          14.5,
          24,
          19,
          26.4,
          23.9,
          14,
          31,
          16,
          33.7,
          12,
          24,
          12,
          25,
          14,
          20.5,
          20,
          14,
          22,
          22,
          15.5,
          13,
          16,
          29.5,
          26,
          15,
          18,
          29,
          20.5,
          38,
          30,
          15.5,
          20.5,
          29,
          33.5
         ]
        },
        {
         "line": {
          "color": "orange"
         },
         "mode": "markers",
         "name": "predicted",
         "type": "scatter",
         "x": [
          19.5,
          10.5,
          18,
          13.5,
          15.5,
          15,
          12,
          11.3,
          14,
          15.4,
          21,
          14.4,
          21,
          14.7,
          15.7,
          15,
          11.4,
          13.4,
          13.2,
          12.5,
          12.5,
          12.5,
          17,
          19,
          14.7,
          20.7,
          17.4,
          21,
          14.4,
          15.4,
          15,
          14,
          18.7,
          18.7,
          19.5,
          15.5,
          11.1,
          12,
          13,
          19,
          15.5,
          21,
          12.6,
          15.3,
          13.5,
          12.8,
          14.5,
          13,
          18.1,
          22.2,
          14.5,
          16,
          9.5,
          14.4,
          11,
          15.5,
          11.5,
          17.5,
          10,
          17.2,
          17.7,
          15.5,
          16.5,
          14.5,
          13.7,
          15,
          17,
          16.6,
          12.5,
          9.5,
          16.5,
          14.2,
          18.2,
          17,
          16.4,
          13.9,
          16.9,
          16,
          13.2
         ],
         "y": [
          25.011999999999997,
          14.44,
          24.68,
          13.76,
          18.88,
          24.84,
          14,
          23.852000000000004,
          31.252,
          27.612000000000002,
          18.612,
          30.764,
          18.572,
          33.596,
          35.796,
          28.288,
          25.864,
          16.74,
          16.703999999999997,
          15.755999999999998,
          14.4,
          13.58,
          25.488000000000003,
          30.555999999999997,
          22.364,
          31.148000000000003,
          17.504,
          31.32,
          30.976,
          20.232,
          19.08,
          25.76,
          18.715999999999998,
          19.632,
          27.544,
          18.88,
          14.2,
          13.94,
          13.82,
          31.04,
          31.208000000000002,
          28.528000000000002,
          26.647999999999996,
          34.708,
          24.38,
          15.136,
          24.56,
          19.8,
          27.144000000000002,
          19.796,
          14.18,
          27.52,
          13.54,
          33.16,
          13.38,
          25.7,
          13.22,
          24.52,
          13.82,
          19.584,
          18.812,
          14.3,
          26.296,
          19.308,
          15.828000000000001,
          16.076,
          18.26,
          33.784,
          24.3,
          14.44,
          19.16,
          28.82,
          19.364,
          21.708000000000002,
          33.296,
          16.116,
          19.184,
          28.072,
          29.34
         ]
        }
       ],
       "layout": {
        "autosize": true,
        "template": {
         "data": {
          "bar": [
           {
            "error_x": {
             "color": "#2a3f5f"
            },
            "error_y": {
             "color": "#2a3f5f"
            },
            "marker": {
             "line": {
              "color": "#E5ECF6",
              "width": 0.5
             },
             "pattern": {
              "fillmode": "overlay",
              "size": 10,
              "solidity": 0.2
             }
            },
            "type": "bar"
           }
          ],
          "barpolar": [
           {
            "marker": {
             "line": {
              "color": "#E5ECF6",
              "width": 0.5
             },
             "pattern": {
              "fillmode": "overlay",
              "size": 10,
              "solidity": 0.2
             }
            },
            "type": "barpolar"
           }
          ],
          "carpet": [
           {
            "aaxis": {
             "endlinecolor": "#2a3f5f",
             "gridcolor": "white",
             "linecolor": "white",
             "minorgridcolor": "white",
             "startlinecolor": "#2a3f5f"
            },
            "baxis": {
             "endlinecolor": "#2a3f5f",
             "gridcolor": "white",
             "linecolor": "white",
             "minorgridcolor": "white",
             "startlinecolor": "#2a3f5f"
            },
            "type": "carpet"
           }
          ],
          "choropleth": [
           {
            "colorbar": {
             "outlinewidth": 0,
             "ticks": ""
            },
            "type": "choropleth"
           }
          ],
          "contour": [
           {
            "colorbar": {
             "outlinewidth": 0,
             "ticks": ""
            },
            "colorscale": [
             [
              0,
              "#0d0887"
             ],
             [
              0.1111111111111111,
              "#46039f"
             ],
             [
              0.2222222222222222,
              "#7201a8"
             ],
             [
              0.3333333333333333,
              "#9c179e"
             ],
             [
              0.4444444444444444,
              "#bd3786"
             ],
             [
              0.5555555555555556,
              "#d8576b"
             ],
             [
              0.6666666666666666,
              "#ed7953"
             ],
             [
              0.7777777777777778,
              "#fb9f3a"
             ],
             [
              0.8888888888888888,
              "#fdca26"
             ],
             [
              1,
              "#f0f921"
             ]
            ],
            "type": "contour"
           }
          ],
          "contourcarpet": [
           {
            "colorbar": {
             "outlinewidth": 0,
             "ticks": ""
            },
            "type": "contourcarpet"
           }
          ],
          "heatmap": [
           {
            "colorbar": {
             "outlinewidth": 0,
             "ticks": ""
            },
            "colorscale": [
             [
              0,
              "#0d0887"
             ],
             [
              0.1111111111111111,
              "#46039f"
             ],
             [
              0.2222222222222222,
              "#7201a8"
             ],
             [
              0.3333333333333333,
              "#9c179e"
             ],
             [
              0.4444444444444444,
              "#bd3786"
             ],
             [
              0.5555555555555556,
              "#d8576b"
             ],
             [
              0.6666666666666666,
              "#ed7953"
             ],
             [
              0.7777777777777778,
              "#fb9f3a"
             ],
             [
              0.8888888888888888,
              "#fdca26"
             ],
             [
              1,
              "#f0f921"
             ]
            ],
            "type": "heatmap"
           }
          ],
          "heatmapgl": [
           {
            "colorbar": {
             "outlinewidth": 0,
             "ticks": ""
            },
            "colorscale": [
             [
              0,
              "#0d0887"
             ],
             [
              0.1111111111111111,
              "#46039f"
             ],
             [
              0.2222222222222222,
              "#7201a8"
             ],
             [
              0.3333333333333333,
              "#9c179e"
             ],
             [
              0.4444444444444444,
              "#bd3786"
             ],
             [
              0.5555555555555556,
              "#d8576b"
             ],
             [
              0.6666666666666666,
              "#ed7953"
             ],
             [
              0.7777777777777778,
              "#fb9f3a"
             ],
             [
              0.8888888888888888,
              "#fdca26"
             ],
             [
              1,
              "#f0f921"
             ]
            ],
            "type": "heatmapgl"
           }
          ],
          "histogram": [
           {
            "marker": {
             "pattern": {
              "fillmode": "overlay",
              "size": 10,
              "solidity": 0.2
             }
            },
            "type": "histogram"
           }
          ],
          "histogram2d": [
           {
            "colorbar": {
             "outlinewidth": 0,
             "ticks": ""
            },
            "colorscale": [
             [
              0,
              "#0d0887"
             ],
             [
              0.1111111111111111,
              "#46039f"
             ],
             [
              0.2222222222222222,
              "#7201a8"
             ],
             [
              0.3333333333333333,
              "#9c179e"
             ],
             [
              0.4444444444444444,
              "#bd3786"
             ],
             [
              0.5555555555555556,
              "#d8576b"
             ],
             [
              0.6666666666666666,
              "#ed7953"
             ],
             [
              0.7777777777777778,
              "#fb9f3a"
             ],
             [
              0.8888888888888888,
              "#fdca26"
             ],
             [
              1,
              "#f0f921"
             ]
            ],
            "type": "histogram2d"
           }
          ],
          "histogram2dcontour": [
           {
            "colorbar": {
             "outlinewidth": 0,
             "ticks": ""
            },
            "colorscale": [
             [
              0,
              "#0d0887"
             ],
             [
              0.1111111111111111,
              "#46039f"
             ],
             [
              0.2222222222222222,
              "#7201a8"
             ],
             [
              0.3333333333333333,
              "#9c179e"
             ],
             [
              0.4444444444444444,
              "#bd3786"
             ],
             [
              0.5555555555555556,
              "#d8576b"
             ],
             [
              0.6666666666666666,
              "#ed7953"
             ],
             [
              0.7777777777777778,
              "#fb9f3a"
             ],
             [
              0.8888888888888888,
              "#fdca26"
             ],
             [
              1,
              "#f0f921"
             ]
            ],
            "type": "histogram2dcontour"
           }
          ],
          "mesh3d": [
           {
            "colorbar": {
             "outlinewidth": 0,
             "ticks": ""
            },
            "type": "mesh3d"
           }
          ],
          "parcoords": [
           {
            "line": {
             "colorbar": {
              "outlinewidth": 0,
              "ticks": ""
             }
            },
            "type": "parcoords"
           }
          ],
          "pie": [
           {
            "automargin": true,
            "type": "pie"
           }
          ],
          "scatter": [
           {
            "marker": {
             "colorbar": {
              "outlinewidth": 0,
              "ticks": ""
             }
            },
            "type": "scatter"
           }
          ],
          "scatter3d": [
           {
            "line": {
             "colorbar": {
              "outlinewidth": 0,
              "ticks": ""
             }
            },
            "marker": {
             "colorbar": {
              "outlinewidth": 0,
              "ticks": ""
             }
            },
            "type": "scatter3d"
           }
          ],
          "scattercarpet": [
           {
            "marker": {
             "colorbar": {
              "outlinewidth": 0,
              "ticks": ""
             }
            },
            "type": "scattercarpet"
           }
          ],
          "scattergeo": [
           {
            "marker": {
             "colorbar": {
              "outlinewidth": 0,
              "ticks": ""
             }
            },
            "type": "scattergeo"
           }
          ],
          "scattergl": [
           {
            "marker": {
             "colorbar": {
              "outlinewidth": 0,
              "ticks": ""
             }
            },
            "type": "scattergl"
           }
          ],
          "scattermapbox": [
           {
            "marker": {
             "colorbar": {
              "outlinewidth": 0,
              "ticks": ""
             }
            },
            "type": "scattermapbox"
           }
          ],
          "scatterpolar": [
           {
            "marker": {
             "colorbar": {
              "outlinewidth": 0,
              "ticks": ""
             }
            },
            "type": "scatterpolar"
           }
          ],
          "scatterpolargl": [
           {
            "marker": {
             "colorbar": {
              "outlinewidth": 0,
              "ticks": ""
             }
            },
            "type": "scatterpolargl"
           }
          ],
          "scatterternary": [
           {
            "marker": {
             "colorbar": {
              "outlinewidth": 0,
              "ticks": ""
             }
            },
            "type": "scatterternary"
           }
          ],
          "surface": [
           {
            "colorbar": {
             "outlinewidth": 0,
             "ticks": ""
            },
            "colorscale": [
             [
              0,
              "#0d0887"
             ],
             [
              0.1111111111111111,
              "#46039f"
             ],
             [
              0.2222222222222222,
              "#7201a8"
             ],
             [
              0.3333333333333333,
              "#9c179e"
             ],
             [
              0.4444444444444444,
              "#bd3786"
             ],
             [
              0.5555555555555556,
              "#d8576b"
             ],
             [
              0.6666666666666666,
              "#ed7953"
             ],
             [
              0.7777777777777778,
              "#fb9f3a"
             ],
             [
              0.8888888888888888,
              "#fdca26"
             ],
             [
              1,
              "#f0f921"
             ]
            ],
            "type": "surface"
           }
          ],
          "table": [
           {
            "cells": {
             "fill": {
              "color": "#EBF0F8"
             },
             "line": {
              "color": "white"
             }
            },
            "header": {
             "fill": {
              "color": "#C8D4E3"
             },
             "line": {
              "color": "white"
             }
            },
            "type": "table"
           }
          ]
         },
         "layout": {
          "annotationdefaults": {
           "arrowcolor": "#2a3f5f",
           "arrowhead": 0,
           "arrowwidth": 1
          },
          "autotypenumbers": "strict",
          "coloraxis": {
           "colorbar": {
            "outlinewidth": 0,
            "ticks": ""
           }
          },
          "colorscale": {
           "diverging": [
            [
             0,
             "#8e0152"
            ],
            [
             0.1,
             "#c51b7d"
            ],
            [
             0.2,
             "#de77ae"
            ],
            [
             0.3,
             "#f1b6da"
            ],
            [
             0.4,
             "#fde0ef"
            ],
            [
             0.5,
             "#f7f7f7"
            ],
            [
             0.6,
             "#e6f5d0"
            ],
            [
             0.7,
             "#b8e186"
            ],
            [
             0.8,
             "#7fbc41"
            ],
            [
             0.9,
             "#4d9221"
            ],
            [
             1,
             "#276419"
            ]
           ],
           "sequential": [
            [
             0,
             "#0d0887"
            ],
            [
             0.1111111111111111,
             "#46039f"
            ],
            [
             0.2222222222222222,
             "#7201a8"
            ],
            [
             0.3333333333333333,
             "#9c179e"
            ],
            [
             0.4444444444444444,
             "#bd3786"
            ],
            [
             0.5555555555555556,
             "#d8576b"
            ],
            [
             0.6666666666666666,
             "#ed7953"
            ],
            [
             0.7777777777777778,
             "#fb9f3a"
            ],
            [
             0.8888888888888888,
             "#fdca26"
            ],
            [
             1,
             "#f0f921"
            ]
           ],
           "sequentialminus": [
            [
             0,
             "#0d0887"
            ],
            [
             0.1111111111111111,
             "#46039f"
            ],
            [
             0.2222222222222222,
             "#7201a8"
            ],
            [
             0.3333333333333333,
             "#9c179e"
            ],
            [
             0.4444444444444444,
             "#bd3786"
            ],
            [
             0.5555555555555556,
             "#d8576b"
            ],
            [
             0.6666666666666666,
             "#ed7953"
            ],
            [
             0.7777777777777778,
             "#fb9f3a"
            ],
            [
             0.8888888888888888,
             "#fdca26"
            ],
            [
             1,
             "#f0f921"
            ]
           ]
          },
          "colorway": [
           "#636efa",
           "#EF553B",
           "#00cc96",
           "#ab63fa",
           "#FFA15A",
           "#19d3f3",
           "#FF6692",
           "#B6E880",
           "#FF97FF",
           "#FECB52"
          ],
          "font": {
           "color": "#2a3f5f"
          },
          "geo": {
           "bgcolor": "white",
           "lakecolor": "white",
           "landcolor": "#E5ECF6",
           "showlakes": true,
           "showland": true,
           "subunitcolor": "white"
          },
          "hoverlabel": {
           "align": "left"
          },
          "hovermode": "closest",
          "mapbox": {
           "style": "light"
          },
          "paper_bgcolor": "white",
          "plot_bgcolor": "#E5ECF6",
          "polar": {
           "angularaxis": {
            "gridcolor": "white",
            "linecolor": "white",
            "ticks": ""
           },
           "bgcolor": "#E5ECF6",
           "radialaxis": {
            "gridcolor": "white",
            "linecolor": "white",
            "ticks": ""
           }
          },
          "scene": {
           "xaxis": {
            "backgroundcolor": "#E5ECF6",
            "gridcolor": "white",
            "gridwidth": 2,
            "linecolor": "white",
            "showbackground": true,
            "ticks": "",
            "zerolinecolor": "white"
           },
           "yaxis": {
            "backgroundcolor": "#E5ECF6",
            "gridcolor": "white",
            "gridwidth": 2,
            "linecolor": "white",
            "showbackground": true,
            "ticks": "",
            "zerolinecolor": "white"
           },
           "zaxis": {
            "backgroundcolor": "#E5ECF6",
            "gridcolor": "white",
            "gridwidth": 2,
            "linecolor": "white",
            "showbackground": true,
            "ticks": "",
            "zerolinecolor": "white"
           }
          },
          "shapedefaults": {
           "line": {
            "color": "#2a3f5f"
           }
          },
          "ternary": {
           "aaxis": {
            "gridcolor": "white",
            "linecolor": "white",
            "ticks": ""
           },
           "baxis": {
            "gridcolor": "white",
            "linecolor": "white",
            "ticks": ""
           },
           "bgcolor": "#E5ECF6",
           "caxis": {
            "gridcolor": "white",
            "linecolor": "white",
            "ticks": ""
           }
          },
          "title": {
           "x": 0.05
          },
          "xaxis": {
           "automargin": true,
           "gridcolor": "white",
           "linecolor": "white",
           "ticks": "",
           "title": {
            "standoff": 15
           },
           "zerolinecolor": "white",
           "zerolinewidth": 2
          },
          "yaxis": {
           "automargin": true,
           "gridcolor": "white",
           "linecolor": "white",
           "ticks": "",
           "title": {
            "standoff": 15
           },
           "zerolinecolor": "white",
           "zerolinewidth": 2
          }
         }
        },
        "xaxis": {
         "autorange": true,
         "range": [
          8.63834808259587,
          23.06165191740413
         ],
         "type": "linear"
        },
        "yaxis": {
         "autorange": true,
         "range": [
          9.565533980582524,
          43.93446601941748
         ],
         "type": "linear"
        }
       }
      },
      "image/png": "[encoded data removed]",
      "text/html": [
       "<div>                            <div id=\"3f5f5bcf-a1d7-4925-b80f-664890c408d3\" class=\"plotly-graph-div\" style=\"height:525px; width:100%;\"></div>            <script type=\"text/javascript\">                require([\"plotly\"], function(Plotly) {                    window.PLOTLYENV=window.PLOTLYENV || {};                                    if (document.getElementById(\"3f5f5bcf-a1d7-4925-b80f-664890c408d3\")) {                    Plotly.newPlot(                        \"3f5f5bcf-a1d7-4925-b80f-664890c408d3\",                        [{\"line\":{\"color\":\"royalblue\"},\"mode\":\"markers\",\"name\":\"observed\",\"x\":[19.5,10.5,18.0,13.5,15.5,15.0,12.0,11.3,14.0,15.4,21.0,14.4,21.0,14.7,15.7,15.0,11.4,13.4,13.2,12.5,12.5,12.5,17.0,19.0,14.7,20.7,17.4,21.0,14.4,15.4,15.0,14.0,18.7,18.7,19.5,15.5,11.1,12.0,13.0,19.0,15.5,21.0,12.6,15.3,13.5,12.8,14.5,13.0,18.1,22.2,14.5,16.0,9.5,14.4,11.0,15.5,11.5,17.5,10.0,17.2,17.7,15.5,16.5,14.5,13.7,15.0,17.0,16.6,12.5,9.5,16.5,14.2,18.2,17.0,16.4,13.9,16.9,16.0,13.2],\"y\":[20.0,17.0,22.0,12.0,16.0,24.0,14.0,28.8,31.9,25.1,15.0,36.1,18.0,41.5,32.0,27.4,32.7,17.6,19.2,17.5,15.0,12.0,23.0,31.0,22.0,29.9,23.0,32.0,35.7,21.5,18.0,26.0,18.6,19.1,29.0,19.0,16.0,13.0,13.0,32.0,32.1,26.0,25.4,29.8,19.0,14.5,24.0,19.0,26.4,23.9,14.0,31.0,16.0,33.7,12.0,24.0,12.0,25.0,14.0,20.5,20.0,14.0,22.0,22.0,15.5,13.0,16.0,29.5,26.0,15.0,18.0,29.0,20.5,38.0,30.0,15.5,20.5,29.0,33.5],\"type\":\"scatter\"},{\"line\":{\"color\":\"orange\"},\"mode\":\"markers\",\"name\":\"predicted\",\"x\":[19.5,10.5,18.0,13.5,15.5,15.0,12.0,11.3,14.0,15.4,21.0,14.4,21.0,14.7,15.7,15.0,11.4,13.4,13.2,12.5,12.5,12.5,17.0,19.0,14.7,20.7,17.4,21.0,14.4,15.4,15.0,14.0,18.7,18.7,19.5,15.5,11.1,12.0,13.0,19.0,15.5,21.0,12.6,15.3,13.5,12.8,14.5,13.0,18.1,22.2,14.5,16.0,9.5,14.4,11.0,15.5,11.5,17.5,10.0,17.2,17.7,15.5,16.5,14.5,13.7,15.0,17.0,16.6,12.5,9.5,16.5,14.2,18.2,17.0,16.4,13.9,16.9,16.0,13.2],\"y\":[25.011999999999997,14.44,24.68,13.76,18.88,24.84,14.0,23.852000000000004,31.252,27.612000000000002,18.612,30.764,18.572,33.596,35.796,28.288,25.864,16.74,16.703999999999997,15.755999999999998,14.4,13.58,25.488000000000003,30.555999999999997,22.364,31.148000000000003,17.504,31.32,30.976,20.232,19.08,25.76,18.715999999999998,19.632,27.544,18.88,14.2,13.94,13.82,31.04,31.208000000000002,28.528000000000002,26.647999999999996,34.708,24.38,15.136,24.56,19.8,27.144000000000002,19.796,14.18,27.52,13.54,33.16,13.38,25.7,13.22,24.52,13.82,19.584,18.812,14.3,26.296,19.308,15.828000000000001,16.076,18.26,33.784,24.3,14.44,19.16,28.82,19.364,21.708000000000002,33.296,16.116,19.184,28.072,29.34],\"type\":\"scatter\"}],                        {\"template\":{\"data\":{\"bar\":[{\"error_x\":{\"color\":\"#2a3f5f\"},\"error_y\":{\"color\":\"#2a3f5f\"},\"marker\":{\"line\":{\"color\":\"#E5ECF6\",\"width\":0.5},\"pattern\":{\"fillmode\":\"overlay\",\"size\":10,\"solidity\":0.2}},\"type\":\"bar\"}],\"barpolar\":[{\"marker\":{\"line\":{\"color\":\"#E5ECF6\",\"width\":0.5},\"pattern\":{\"fillmode\":\"overlay\",\"size\":10,\"solidity\":0.2}},\"type\":\"barpolar\"}],\"carpet\":[{\"aaxis\":{\"endlinecolor\":\"#2a3f5f\",\"gridcolor\":\"white\",\"linecolor\":\"white\",\"minorgridcolor\":\"white\",\"startlinecolor\":\"#2a3f5f\"},\"baxis\":{\"endlinecolor\":\"#2a3f5f\",\"gridcolor\":\"white\",\"linecolor\":\"white\",\"minorgridcolor\":\"white\",\"startlinecolor\":\"#2a3f5f\"},\"type\":\"carpet\"}],\"choropleth\":[{\"colorbar\":{\"outlinewidth\":0,\"ticks\":\"\"},\"type\":\"choropleth\"}],\"contour\":[{\"colorbar\":{\"outlinewidth\":0,\"ticks\":\"\"},\"colorscale\":[[0.0,\"#0d0887\"],[0.1111111111111111,\"#46039f\"],[0.2222222222222222,\"#7201a8\"],[0.3333333333333333,\"#9c179e\"],[0.4444444444444444,\"#bd3786\"],[0.5555555555555556,\"#d8576b\"],[0.6666666666666666,\"#ed7953\"],[0.7777777777777778,\"#fb9f3a\"],[0.8888888888888888,\"#fdca26\"],[1.0,\"#f0f921\"]],\"type\":\"contour\"}],\"contourcarpet\":[{\"colorbar\":{\"outlinewidth\":0,\"ticks\":\"\"},\"type\":\"contourcarpet\"}],\"heatmap\":[{\"colorbar\":{\"outlinewidth\":0,\"ticks\":\"\"},\"colorscale\":[[0.0,\"#0d0887\"],[0.1111111111111111,\"#46039f\"],[0.2222222222222222,\"#7201a8\"],[0.3333333333333333,\"#9c179e\"],[0.4444444444444444,\"#bd3786\"],[0.5555555555555556,\"#d8576b\"],[0.6666666666666666,\"#ed7953\"],[0.7777777777777778,\"#fb9f3a\"],[0.8888888888888888,\"#fdca26\"],[1.0,\"#f0f921\"]],\"type\":\"heatmap\"}],\"heatmapgl\":[{\"colorbar\":{\"outlinewidth\":0,\"ticks\":\"\"},\"colorscale\":[[0.0,\"#0d0887\"],[0.1111111111111111,\"#46039f\"],[0.2222222222222222,\"#7201a8\"],[0.3333333333333333,\"#9c179e\"],[0.4444444444444444,\"#bd3786\"],[0.5555555555555556,\"#d8576b\"],[0.6666666666666666,\"#ed7953\"],[0.7777777777777778,\"#fb9f3a\"],[0.8888888888888888,\"#fdca26\"],[1.0,\"#f0f921\"]],\"type\":\"heatmapgl\"}],\"histogram\":[{\"marker\":{\"pattern\":{\"fillmode\":\"overlay\",\"size\":10,\"solidity\":0.2}},\"type\":\"histogram\"}],\"histogram2d\":[{\"colorbar\":{\"outlinewidth\":0,\"ticks\":\"\"},\"colorscale\":[[0.0,\"#0d0887\"],[0.1111111111111111,\"#46039f\"],[0.2222222222222222,\"#7201a8\"],[0.3333333333333333,\"#9c179e\"],[0.4444444444444444,\"#bd3786\"],[0.5555555555555556,\"#d8576b\"],[0.6666666666666666,\"#ed7953\"],[0.7777777777777778,\"#fb9f3a\"],[0.8888888888888888,\"#fdca26\"],[1.0,\"#f0f921\"]],\"type\":\"histogram2d\"}],\"histogram2dcontour\":[{\"colorbar\":{\"outlinewidth\":0,\"ticks\":\"\"},\"colorscale\":[[0.0,\"#0d0887\"],[0.1111111111111111,\"#46039f\"],[0.2222222222222222,\"#7201a8\"],[0.3333333333333333,\"#9c179e\"],[0.4444444444444444,\"#bd3786\"],[0.5555555555555556,\"#d8576b\"],[0.6666666666666666,\"#ed7953\"],[0.7777777777777778,\"#fb9f3a\"],[0.8888888888888888,\"#fdca26\"],[1.0,\"#f0f921\"]],\"type\":\"histogram2dcontour\"}],\"mesh3d\":[{\"colorbar\":{\"outlinewidth\":0,\"ticks\":\"\"},\"type\":\"mesh3d\"}],\"parcoords\":[{\"line\":{\"colorbar\":{\"outlinewidth\":0,\"ticks\":\"\"}},\"type\":\"parcoords\"}],\"pie\":[{\"automargin\":true,\"type\":\"pie\"}],\"scatter\":[{\"marker\":{\"colorbar\":{\"outlinewidth\":0,\"ticks\":\"\"}},\"type\":\"scatter\"}],\"scatter3d\":[{\"line\":{\"colorbar\":{\"outlinewidth\":0,\"ticks\":\"\"}},\"marker\":{\"colorbar\":{\"outlinewidth\":0,\"ticks\":\"\"}},\"type\":\"scatter3d\"}],\"scattercarpet\":[{\"marker\":{\"colorbar\":{\"outlinewidth\":0,\"ticks\":\"\"}},\"type\":\"scattercarpet\"}],\"scattergeo\":[{\"marker\":{\"colorbar\":{\"outlinewidth\":0,\"ticks\":\"\"}},\"type\":\"scattergeo\"}],\"scattergl\":[{\"marker\":{\"colorbar\":{\"outlinewidth\":0,\"ticks\":\"\"}},\"type\":\"scattergl\"}],\"scattermapbox\":[{\"marker\":{\"colorbar\":{\"outlinewidth\":0,\"ticks\":\"\"}},\"type\":\"scattermapbox\"}],\"scatterpolar\":[{\"marker\":{\"colorbar\":{\"outlinewidth\":0,\"ticks\":\"\"}},\"type\":\"scatterpolar\"}],\"scatterpolargl\":[{\"marker\":{\"colorbar\":{\"outlinewidth\":0,\"ticks\":\"\"}},\"type\":\"scatterpolargl\"}],\"scatterternary\":[{\"marker\":{\"colorbar\":{\"outlinewidth\":0,\"ticks\":\"\"}},\"type\":\"scatterternary\"}],\"surface\":[{\"colorbar\":{\"outlinewidth\":0,\"ticks\":\"\"},\"colorscale\":[[0.0,\"#0d0887\"],[0.1111111111111111,\"#46039f\"],[0.2222222222222222,\"#7201a8\"],[0.3333333333333333,\"#9c179e\"],[0.4444444444444444,\"#bd3786\"],[0.5555555555555556,\"#d8576b\"],[0.6666666666666666,\"#ed7953\"],[0.7777777777777778,\"#fb9f3a\"],[0.8888888888888888,\"#fdca26\"],[1.0,\"#f0f921\"]],\"type\":\"surface\"}],\"table\":[{\"cells\":{\"fill\":{\"color\":\"#EBF0F8\"},\"line\":{\"color\":\"white\"}},\"header\":{\"fill\":{\"color\":\"#C8D4E3\"},\"line\":{\"color\":\"white\"}},\"type\":\"table\"}]},\"layout\":{\"annotationdefaults\":{\"arrowcolor\":\"#2a3f5f\",\"arrowhead\":0,\"arrowwidth\":1},\"autotypenumbers\":\"strict\",\"coloraxis\":{\"colorbar\":{\"outlinewidth\":0,\"ticks\":\"\"}},\"colorscale\":{\"diverging\":[[0,\"#8e0152\"],[0.1,\"#c51b7d\"],[0.2,\"#de77ae\"],[0.3,\"#f1b6da\"],[0.4,\"#fde0ef\"],[0.5,\"#f7f7f7\"],[0.6,\"#e6f5d0\"],[0.7,\"#b8e186\"],[0.8,\"#7fbc41\"],[0.9,\"#4d9221\"],[1,\"#276419\"]],\"sequential\":[[0.0,\"#0d0887\"],[0.1111111111111111,\"#46039f\"],[0.2222222222222222,\"#7201a8\"],[0.3333333333333333,\"#9c179e\"],[0.4444444444444444,\"#bd3786\"],[0.5555555555555556,\"#d8576b\"],[0.6666666666666666,\"#ed7953\"],[0.7777777777777778,\"#fb9f3a\"],[0.8888888888888888,\"#fdca26\"],[1.0,\"#f0f921\"]],\"sequentialminus\":[[0.0,\"#0d0887\"],[0.1111111111111111,\"#46039f\"],[0.2222222222222222,\"#7201a8\"],[0.3333333333333333,\"#9c179e\"],[0.4444444444444444,\"#bd3786\"],[0.5555555555555556,\"#d8576b\"],[0.6666666666666666,\"#ed7953\"],[0.7777777777777778,\"#fb9f3a\"],[0.8888888888888888,\"#fdca26\"],[1.0,\"#f0f921\"]]},\"colorway\":[\"#636efa\",\"#EF553B\",\"#00cc96\",\"#ab63fa\",\"#FFA15A\",\"#19d3f3\",\"#FF6692\",\"#B6E880\",\"#FF97FF\",\"#FECB52\"],\"font\":{\"color\":\"#2a3f5f\"},\"geo\":{\"bgcolor\":\"white\",\"lakecolor\":\"white\",\"landcolor\":\"#E5ECF6\",\"showlakes\":true,\"showland\":true,\"subunitcolor\":\"white\"},\"hoverlabel\":{\"align\":\"left\"},\"hovermode\":\"closest\",\"mapbox\":{\"style\":\"light\"},\"paper_bgcolor\":\"white\",\"plot_bgcolor\":\"#E5ECF6\",\"polar\":{\"angularaxis\":{\"gridcolor\":\"white\",\"linecolor\":\"white\",\"ticks\":\"\"},\"bgcolor\":\"#E5ECF6\",\"radialaxis\":{\"gridcolor\":\"white\",\"linecolor\":\"white\",\"ticks\":\"\"}},\"scene\":{\"xaxis\":{\"backgroundcolor\":\"#E5ECF6\",\"gridcolor\":\"white\",\"gridwidth\":2,\"linecolor\":\"white\",\"showbackground\":true,\"ticks\":\"\",\"zerolinecolor\":\"white\"},\"yaxis\":{\"backgroundcolor\":\"#E5ECF6\",\"gridcolor\":\"white\",\"gridwidth\":2,\"linecolor\":\"white\",\"showbackground\":true,\"ticks\":\"\",\"zerolinecolor\":\"white\"},\"zaxis\":{\"backgroundcolor\":\"#E5ECF6\",\"gridcolor\":\"white\",\"gridwidth\":2,\"linecolor\":\"white\",\"showbackground\":true,\"ticks\":\"\",\"zerolinecolor\":\"white\"}},\"shapedefaults\":{\"line\":{\"color\":\"#2a3f5f\"}},\"ternary\":{\"aaxis\":{\"gridcolor\":\"white\",\"linecolor\":\"white\",\"ticks\":\"\"},\"baxis\":{\"gridcolor\":\"white\",\"linecolor\":\"white\",\"ticks\":\"\"},\"bgcolor\":\"#E5ECF6\",\"caxis\":{\"gridcolor\":\"white\",\"linecolor\":\"white\",\"ticks\":\"\"}},\"title\":{\"x\":0.05},\"xaxis\":{\"automargin\":true,\"gridcolor\":\"white\",\"linecolor\":\"white\",\"ticks\":\"\",\"title\":{\"standoff\":15},\"zerolinecolor\":\"white\",\"zerolinewidth\":2},\"yaxis\":{\"automargin\":true,\"gridcolor\":\"white\",\"linecolor\":\"white\",\"ticks\":\"\",\"title\":{\"standoff\":15},\"zerolinecolor\":\"white\",\"zerolinewidth\":2}}}},                        {\"responsive\": true}                    ).then(function(){\n",
       "                            \n",
       "var gd = document.getElementById('3f5f5bcf-a1d7-4925-b80f-664890c408d3');\n",
       "var x = new MutationObserver(function (mutations, observer) {{\n",
       "        var display = window.getComputedStyle(gd).display;\n",
       "        if (!display || display === 'none') {{\n",
       "            console.log([gd, 'removed!']);\n",
       "            Plotly.purge(gd);\n",
       "            observer.disconnect();\n",
       "        }}\n",
       "}});\n",
       "\n",
       "// Listen for the removal of the full notebook cells\n",
       "var notebookContainer = gd.closest('#notebook-container');\n",
       "if (notebookContainer) {{\n",
       "    x.observe(notebookContainer, {childList: true});\n",
       "}}\n",
       "\n",
       "// Listen for the clearing of the current output cell\n",
       "var outputEl = gd.closest('.output');\n",
       "if (outputEl) {{\n",
       "    x.observe(outputEl, {childList: true});\n",
       "}}\n",
       "\n",
       "                        })                };                });            </script>        </div>"
      ]
     },
     "metadata": {},
     "output_type": "display_data"
    },
    {
     "data": {
      "application/vnd.plotly.v1+json": {
       "config": {
        "plotlyServerURL": "https://plot.ly"
       },
       "data": [
        {
         "line": {
          "color": "royalblue"
         },
         "mode": "markers",
         "name": "observed",
         "type": "scatter",
         "x": [
          19.5,
          10.5,
          18,
          13.5,
          15.5,
          15,
          12,
          11.3,
          14,
          15.4,
          21,
          14.4,
          21,
          14.7,
          15.7,
          15,
          11.4,
          13.4,
          13.2,
          12.5,
          12.5,
          12.5,
          17,
          19,
          14.7,
          20.7,
          17.4,
          21,
          14.4,
          15.4,
          15,
          14,
          18.7,
          18.7,
          19.5,
          15.5,
          11.1,
          12,
          13,
          19,
          15.5,
          21,
          12.6,
          15.3,
          13.5,
          12.8,
          14.5,
          13,
          18.1,
          22.2,
          14.5,
          16,
          9.5,
          14.4,
          11,
          15.5,
          11.5,
          17.5,
          10,
          17.2,
          17.7,
          15.5,
          16.5,
          14.5,
          13.7,
          15,
          17,
          16.6,
          12.5,
          9.5,
          16.5,
          14.2,
          18.2,
          17,
          16.4,
          13.9,
          16.9,
          16,
          13.2
         ],
         "y": [
          20,
          17,
          22,
          12,
          16,
          24,
          14,
          28.8,
          31.9,
          25.1,
          15,
          36.1,
          18,
          41.5,
          32,
          27.4,
          32.7,
          17.6,
          19.2,
          17.5,
          15,
          12,
          23,
          31,
          22,
          29.9,
          23,
          32,
          35.7,
          21.5,
          18,
          26,
          18.6,
          19.1,
          29,
          19,
          16,
          13,
          13,
          32,
          32.1,
          26,
          25.4,
          29.8,
          19,
          14.5,
          24,
          19,
          26.4,
          23.9,
          14,
          31,
          16,
          33.7,
          12,
          24,
          12,
          25,
          14,
          20.5,
          20,
          14,
          22,
          22,
          15.5,
          13,
          16,
          29.5,
          26,
          15,
          18,
          29,
          20.5,
          38,
          30,
          15.5,
          20.5,
          29,
          33.5
         ]
        },
        {
         "line": {
          "color": "orange"
         },
         "mode": "markers",
         "name": "predicted",
         "type": "scatter",
         "x": [
          19.5,
          10.5,
          18,
          13.5,
          15.5,
          15,
          12,
          11.3,
          14,
          15.4,
          21,
          14.4,
          21,
          14.7,
          15.7,
          15,
          11.4,
          13.4,
          13.2,
          12.5,
          12.5,
          12.5,
          17,
          19,
          14.7,
          20.7,
          17.4,
          21,
          14.4,
          15.4,
          15,
          14,
          18.7,
          18.7,
          19.5,
          15.5,
          11.1,
          12,
          13,
          19,
          15.5,
          21,
          12.6,
          15.3,
          13.5,
          12.8,
          14.5,
          13,
          18.1,
          22.2,
          14.5,
          16,
          9.5,
          14.4,
          11,
          15.5,
          11.5,
          17.5,
          10,
          17.2,
          17.7,
          15.5,
          16.5,
          14.5,
          13.7,
          15,
          17,
          16.6,
          12.5,
          9.5,
          16.5,
          14.2,
          18.2,
          17,
          16.4,
          13.9,
          16.9,
          16,
          13.2
         ],
         "y": [
          24.03,
          14.735999999999999,
          25.3,
          13.93,
          18.761999999999997,
          25.574,
          13.98,
          23.734,
          31.638,
          27.316000000000003,
          20.134,
          29.874000000000002,
          20.444,
          31.653999999999996,
          33.734,
          29.434,
          26.977999999999998,
          16.496,
          15.856,
          15.432000000000002,
          14.702,
          13.8,
          24.9,
          30.45,
          22.528000000000002,
          29.656,
          17.28,
          31.415999999999993,
          29.9,
          20.122,
          20.5,
          25.773999999999997,
          19.520000000000003,
          21.088,
          28.028000000000002,
          19.092,
          14.632,
          14.16,
          13.74,
          30.671999999999997,
          29.83,
          28.600000000000005,
          28.151999999999997,
          33.78,
          25.577999999999996,
          14.834000000000001,
          24.87,
          20.572,
          27.249999999999996,
          20.238,
          14.475999999999999,
          27.406,
          13.83,
          33.052,
          13.75,
          25.87,
          13.83,
          24.84,
          13.91,
          19.304000000000002,
          19.054000000000002,
          15.066,
          26.384,
          19,
          15.338000000000001,
          15.802,
          18.556,
          33.32,
          24.48,
          14.16,
          19.328000000000003,
          29.272,
          20.16,
          23.400000000000006,
          32.364000000000004,
          15.64,
          19.068,
          28.776,
          28.538
         ]
        }
       ],
       "layout": {
        "autosize": true,
        "template": {
         "data": {
          "bar": [
           {
            "error_x": {
             "color": "#2a3f5f"
            },
            "error_y": {
             "color": "#2a3f5f"
            },
            "marker": {
             "line": {
              "color": "#E5ECF6",
              "width": 0.5
             },
             "pattern": {
              "fillmode": "overlay",
              "size": 10,
              "solidity": 0.2
             }
            },
            "type": "bar"
           }
          ],
          "barpolar": [
           {
            "marker": {
             "line": {
              "color": "#E5ECF6",
              "width": 0.5
             },
             "pattern": {
              "fillmode": "overlay",
              "size": 10,
              "solidity": 0.2
             }
            },
            "type": "barpolar"
           }
          ],
          "carpet": [
           {
            "aaxis": {
             "endlinecolor": "#2a3f5f",
             "gridcolor": "white",
             "linecolor": "white",
             "minorgridcolor": "white",
             "startlinecolor": "#2a3f5f"
            },
            "baxis": {
             "endlinecolor": "#2a3f5f",
             "gridcolor": "white",
             "linecolor": "white",
             "minorgridcolor": "white",
             "startlinecolor": "#2a3f5f"
            },
            "type": "carpet"
           }
          ],
          "choropleth": [
           {
            "colorbar": {
             "outlinewidth": 0,
             "ticks": ""
            },
            "type": "choropleth"
           }
          ],
          "contour": [
           {
            "colorbar": {
             "outlinewidth": 0,
             "ticks": ""
            },
            "colorscale": [
             [
              0,
              "#0d0887"
             ],
             [
              0.1111111111111111,
              "#46039f"
             ],
             [
              0.2222222222222222,
              "#7201a8"
             ],
             [
              0.3333333333333333,
              "#9c179e"
             ],
             [
              0.4444444444444444,
              "#bd3786"
             ],
             [
              0.5555555555555556,
              "#d8576b"
             ],
             [
              0.6666666666666666,
              "#ed7953"
             ],
             [
              0.7777777777777778,
              "#fb9f3a"
             ],
             [
              0.8888888888888888,
              "#fdca26"
             ],
             [
              1,
              "#f0f921"
             ]
            ],
            "type": "contour"
           }
          ],
          "contourcarpet": [
           {
            "colorbar": {
             "outlinewidth": 0,
             "ticks": ""
            },
            "type": "contourcarpet"
           }
          ],
          "heatmap": [
           {
            "colorbar": {
             "outlinewidth": 0,
             "ticks": ""
            },
            "colorscale": [
             [
              0,
              "#0d0887"
             ],
             [
              0.1111111111111111,
              "#46039f"
             ],
             [
              0.2222222222222222,
              "#7201a8"
             ],
             [
              0.3333333333333333,
              "#9c179e"
             ],
             [
              0.4444444444444444,
              "#bd3786"
             ],
             [
              0.5555555555555556,
              "#d8576b"
             ],
             [
              0.6666666666666666,
              "#ed7953"
             ],
             [
              0.7777777777777778,
              "#fb9f3a"
             ],
             [
              0.8888888888888888,
              "#fdca26"
             ],
             [
              1,
              "#f0f921"
             ]
            ],
            "type": "heatmap"
           }
          ],
          "heatmapgl": [
           {
            "colorbar": {
             "outlinewidth": 0,
             "ticks": ""
            },
            "colorscale": [
             [
              0,
              "#0d0887"
             ],
             [
              0.1111111111111111,
              "#46039f"
             ],
             [
              0.2222222222222222,
              "#7201a8"
             ],
             [
              0.3333333333333333,
              "#9c179e"
             ],
             [
              0.4444444444444444,
              "#bd3786"
             ],
             [
              0.5555555555555556,
              "#d8576b"
             ],
             [
              0.6666666666666666,
              "#ed7953"
             ],
             [
              0.7777777777777778,
              "#fb9f3a"
             ],
             [
              0.8888888888888888,
              "#fdca26"
             ],
             [
              1,
              "#f0f921"
             ]
            ],
            "type": "heatmapgl"
           }
          ],
          "histogram": [
           {
            "marker": {
             "pattern": {
              "fillmode": "overlay",
              "size": 10,
              "solidity": 0.2
             }
            },
            "type": "histogram"
           }
          ],
          "histogram2d": [
           {
            "colorbar": {
             "outlinewidth": 0,
             "ticks": ""
            },
            "colorscale": [
             [
              0,
              "#0d0887"
             ],
             [
              0.1111111111111111,
              "#46039f"
             ],
             [
              0.2222222222222222,
              "#7201a8"
             ],
             [
              0.3333333333333333,
              "#9c179e"
             ],
             [
              0.4444444444444444,
              "#bd3786"
             ],
             [
              0.5555555555555556,
              "#d8576b"
             ],
             [
              0.6666666666666666,
              "#ed7953"
             ],
             [
              0.7777777777777778,
              "#fb9f3a"
             ],
             [
              0.8888888888888888,
              "#fdca26"
             ],
             [
              1,
              "#f0f921"
             ]
            ],
            "type": "histogram2d"
           }
          ],
          "histogram2dcontour": [
           {
            "colorbar": {
             "outlinewidth": 0,
             "ticks": ""
            },
            "colorscale": [
             [
              0,
              "#0d0887"
             ],
             [
              0.1111111111111111,
              "#46039f"
             ],
             [
              0.2222222222222222,
              "#7201a8"
             ],
             [
              0.3333333333333333,
              "#9c179e"
             ],
             [
              0.4444444444444444,
              "#bd3786"
             ],
             [
              0.5555555555555556,
              "#d8576b"
             ],
             [
              0.6666666666666666,
              "#ed7953"
             ],
             [
              0.7777777777777778,
              "#fb9f3a"
             ],
             [
              0.8888888888888888,
              "#fdca26"
             ],
             [
              1,
              "#f0f921"
             ]
            ],
            "type": "histogram2dcontour"
           }
          ],
          "mesh3d": [
           {
            "colorbar": {
             "outlinewidth": 0,
             "ticks": ""
            },
            "type": "mesh3d"
           }
          ],
          "parcoords": [
           {
            "line": {
             "colorbar": {
              "outlinewidth": 0,
              "ticks": ""
             }
            },
            "type": "parcoords"
           }
          ],
          "pie": [
           {
            "automargin": true,
            "type": "pie"
           }
          ],
          "scatter": [
           {
            "marker": {
             "colorbar": {
              "outlinewidth": 0,
              "ticks": ""
             }
            },
            "type": "scatter"
           }
          ],
          "scatter3d": [
           {
            "line": {
             "colorbar": {
              "outlinewidth": 0,
              "ticks": ""
             }
            },
            "marker": {
             "colorbar": {
              "outlinewidth": 0,
              "ticks": ""
             }
            },
            "type": "scatter3d"
           }
          ],
          "scattercarpet": [
           {
            "marker": {
             "colorbar": {
              "outlinewidth": 0,
              "ticks": ""
             }
            },
            "type": "scattercarpet"
           }
          ],
          "scattergeo": [
           {
            "marker": {
             "colorbar": {
              "outlinewidth": 0,
              "ticks": ""
             }
            },
            "type": "scattergeo"
           }
          ],
          "scattergl": [
           {
            "marker": {
             "colorbar": {
              "outlinewidth": 0,
              "ticks": ""
             }
            },
            "type": "scattergl"
           }
          ],
          "scattermapbox": [
           {
            "marker": {
             "colorbar": {
              "outlinewidth": 0,
              "ticks": ""
             }
            },
            "type": "scattermapbox"
           }
          ],
          "scatterpolar": [
           {
            "marker": {
             "colorbar": {
              "outlinewidth": 0,
              "ticks": ""
             }
            },
            "type": "scatterpolar"
           }
          ],
          "scatterpolargl": [
           {
            "marker": {
             "colorbar": {
              "outlinewidth": 0,
              "ticks": ""
             }
            },
            "type": "scatterpolargl"
           }
          ],
          "scatterternary": [
           {
            "marker": {
             "colorbar": {
              "outlinewidth": 0,
              "ticks": ""
             }
            },
            "type": "scatterternary"
           }
          ],
          "surface": [
           {
            "colorbar": {
             "outlinewidth": 0,
             "ticks": ""
            },
            "colorscale": [
             [
              0,
              "#0d0887"
             ],
             [
              0.1111111111111111,
              "#46039f"
             ],
             [
              0.2222222222222222,
              "#7201a8"
             ],
             [
              0.3333333333333333,
              "#9c179e"
             ],
             [
              0.4444444444444444,
              "#bd3786"
             ],
             [
              0.5555555555555556,
              "#d8576b"
             ],
             [
              0.6666666666666666,
              "#ed7953"
             ],
             [
              0.7777777777777778,
              "#fb9f3a"
             ],
             [
              0.8888888888888888,
              "#fdca26"
             ],
             [
              1,
              "#f0f921"
             ]
            ],
            "type": "surface"
           }
          ],
          "table": [
           {
            "cells": {
             "fill": {
              "color": "#EBF0F8"
             },
             "line": {
              "color": "white"
             }
            },
            "header": {
             "fill": {
              "color": "#C8D4E3"
             },
             "line": {
              "color": "white"
             }
            },
            "type": "table"
           }
          ]
         },
         "layout": {
          "annotationdefaults": {
           "arrowcolor": "#2a3f5f",
           "arrowhead": 0,
           "arrowwidth": 1
          },
          "autotypenumbers": "strict",
          "coloraxis": {
           "colorbar": {
            "outlinewidth": 0,
            "ticks": ""
           }
          },
          "colorscale": {
           "diverging": [
            [
             0,
             "#8e0152"
            ],
            [
             0.1,
             "#c51b7d"
            ],
            [
             0.2,
             "#de77ae"
            ],
            [
             0.3,
             "#f1b6da"
            ],
            [
             0.4,
             "#fde0ef"
            ],
            [
             0.5,
             "#f7f7f7"
            ],
            [
             0.6,
             "#e6f5d0"
            ],
            [
             0.7,
             "#b8e186"
            ],
            [
             0.8,
             "#7fbc41"
            ],
            [
             0.9,
             "#4d9221"
            ],
            [
             1,
             "#276419"
            ]
           ],
           "sequential": [
            [
             0,
             "#0d0887"
            ],
            [
             0.1111111111111111,
             "#46039f"
            ],
            [
             0.2222222222222222,
             "#7201a8"
            ],
            [
             0.3333333333333333,
             "#9c179e"
            ],
            [
             0.4444444444444444,
             "#bd3786"
            ],
            [
             0.5555555555555556,
             "#d8576b"
            ],
            [
             0.6666666666666666,
             "#ed7953"
            ],
            [
             0.7777777777777778,
             "#fb9f3a"
            ],
            [
             0.8888888888888888,
             "#fdca26"
            ],
            [
             1,
             "#f0f921"
            ]
           ],
           "sequentialminus": [
            [
             0,
             "#0d0887"
            ],
            [
             0.1111111111111111,
             "#46039f"
            ],
            [
             0.2222222222222222,
             "#7201a8"
            ],
            [
             0.3333333333333333,
             "#9c179e"
            ],
            [
             0.4444444444444444,
             "#bd3786"
            ],
            [
             0.5555555555555556,
             "#d8576b"
            ],
            [
             0.6666666666666666,
             "#ed7953"
            ],
            [
             0.7777777777777778,
             "#fb9f3a"
            ],
            [
             0.8888888888888888,
             "#fdca26"
            ],
            [
             1,
             "#f0f921"
            ]
           ]
          },
          "colorway": [
           "#636efa",
           "#EF553B",
           "#00cc96",
           "#ab63fa",
           "#FFA15A",
           "#19d3f3",
           "#FF6692",
           "#B6E880",
           "#FF97FF",
           "#FECB52"
          ],
          "font": {
           "color": "#2a3f5f"
          },
          "geo": {
           "bgcolor": "white",
           "lakecolor": "white",
           "landcolor": "#E5ECF6",
           "showlakes": true,
           "showland": true,
           "subunitcolor": "white"
          },
          "hoverlabel": {
           "align": "left"
          },
          "hovermode": "closest",
          "mapbox": {
           "style": "light"
          },
          "paper_bgcolor": "white",
          "plot_bgcolor": "#E5ECF6",
          "polar": {
           "angularaxis": {
            "gridcolor": "white",
            "linecolor": "white",
            "ticks": ""
           },
           "bgcolor": "#E5ECF6",
           "radialaxis": {
            "gridcolor": "white",
            "linecolor": "white",
            "ticks": ""
           }
          },
          "scene": {
           "xaxis": {
            "backgroundcolor": "#E5ECF6",
            "gridcolor": "white",
            "gridwidth": 2,
            "linecolor": "white",
            "showbackground": true,
            "ticks": "",
            "zerolinecolor": "white"
           },
           "yaxis": {
            "backgroundcolor": "#E5ECF6",
            "gridcolor": "white",
            "gridwidth": 2,
            "linecolor": "white",
            "showbackground": true,
            "ticks": "",
            "zerolinecolor": "white"
           },
           "zaxis": {
            "backgroundcolor": "#E5ECF6",
            "gridcolor": "white",
            "gridwidth": 2,
            "linecolor": "white",
            "showbackground": true,
            "ticks": "",
            "zerolinecolor": "white"
           }
          },
          "shapedefaults": {
           "line": {
            "color": "#2a3f5f"
           }
          },
          "ternary": {
           "aaxis": {
            "gridcolor": "white",
            "linecolor": "white",
            "ticks": ""
           },
           "baxis": {
            "gridcolor": "white",
            "linecolor": "white",
            "ticks": ""
           },
           "bgcolor": "#E5ECF6",
           "caxis": {
            "gridcolor": "white",
            "linecolor": "white",
            "ticks": ""
           }
          },
          "title": {
           "x": 0.05
          },
          "xaxis": {
           "automargin": true,
           "gridcolor": "white",
           "linecolor": "white",
           "ticks": "",
           "title": {
            "standoff": 15
           },
           "zerolinecolor": "white",
           "zerolinewidth": 2
          },
          "yaxis": {
           "automargin": true,
           "gridcolor": "white",
           "linecolor": "white",
           "ticks": "",
           "title": {
            "standoff": 15
           },
           "zerolinecolor": "white",
           "zerolinewidth": 2
          }
         }
        },
        "xaxis": {
         "autorange": true,
         "range": [
          8.63834808259587,
          23.06165191740413
         ],
         "type": "linear"
        },
        "yaxis": {
         "autorange": true,
         "range": [
          9.565533980582524,
          43.93446601941748
         ],
         "type": "linear"
        }
       }
      },
      "image/png": "[encoded data removed]",
      "text/html": [
       "<div>                            <div id=\"ba712fa5-b551-4858-bb78-f81e2b07de7c\" class=\"plotly-graph-div\" style=\"height:525px; width:100%;\"></div>            <script type=\"text/javascript\">                require([\"plotly\"], function(Plotly) {                    window.PLOTLYENV=window.PLOTLYENV || {};                                    if (document.getElementById(\"ba712fa5-b551-4858-bb78-f81e2b07de7c\")) {                    Plotly.newPlot(                        \"ba712fa5-b551-4858-bb78-f81e2b07de7c\",                        [{\"line\":{\"color\":\"royalblue\"},\"mode\":\"markers\",\"name\":\"observed\",\"x\":[19.5,10.5,18.0,13.5,15.5,15.0,12.0,11.3,14.0,15.4,21.0,14.4,21.0,14.7,15.7,15.0,11.4,13.4,13.2,12.5,12.5,12.5,17.0,19.0,14.7,20.7,17.4,21.0,14.4,15.4,15.0,14.0,18.7,18.7,19.5,15.5,11.1,12.0,13.0,19.0,15.5,21.0,12.6,15.3,13.5,12.8,14.5,13.0,18.1,22.2,14.5,16.0,9.5,14.4,11.0,15.5,11.5,17.5,10.0,17.2,17.7,15.5,16.5,14.5,13.7,15.0,17.0,16.6,12.5,9.5,16.5,14.2,18.2,17.0,16.4,13.9,16.9,16.0,13.2],\"y\":[20.0,17.0,22.0,12.0,16.0,24.0,14.0,28.8,31.9,25.1,15.0,36.1,18.0,41.5,32.0,27.4,32.7,17.6,19.2,17.5,15.0,12.0,23.0,31.0,22.0,29.9,23.0,32.0,35.7,21.5,18.0,26.0,18.6,19.1,29.0,19.0,16.0,13.0,13.0,32.0,32.1,26.0,25.4,29.8,19.0,14.5,24.0,19.0,26.4,23.9,14.0,31.0,16.0,33.7,12.0,24.0,12.0,25.0,14.0,20.5,20.0,14.0,22.0,22.0,15.5,13.0,16.0,29.5,26.0,15.0,18.0,29.0,20.5,38.0,30.0,15.5,20.5,29.0,33.5],\"type\":\"scatter\"},{\"line\":{\"color\":\"orange\"},\"mode\":\"markers\",\"name\":\"predicted\",\"x\":[19.5,10.5,18.0,13.5,15.5,15.0,12.0,11.3,14.0,15.4,21.0,14.4,21.0,14.7,15.7,15.0,11.4,13.4,13.2,12.5,12.5,12.5,17.0,19.0,14.7,20.7,17.4,21.0,14.4,15.4,15.0,14.0,18.7,18.7,19.5,15.5,11.1,12.0,13.0,19.0,15.5,21.0,12.6,15.3,13.5,12.8,14.5,13.0,18.1,22.2,14.5,16.0,9.5,14.4,11.0,15.5,11.5,17.5,10.0,17.2,17.7,15.5,16.5,14.5,13.7,15.0,17.0,16.6,12.5,9.5,16.5,14.2,18.2,17.0,16.4,13.9,16.9,16.0,13.2],\"y\":[24.03,14.735999999999999,25.3,13.93,18.761999999999997,25.574,13.98,23.734,31.638,27.316000000000003,20.134,29.874000000000002,20.444,31.653999999999996,33.734,29.434,26.977999999999998,16.496,15.856,15.432000000000002,14.702,13.8,24.9,30.45,22.528000000000002,29.656,17.28,31.415999999999993,29.9,20.122,20.5,25.773999999999997,19.520000000000003,21.088,28.028000000000002,19.092,14.632,14.16,13.74,30.671999999999997,29.83,28.600000000000005,28.151999999999997,33.78,25.577999999999996,14.834000000000001,24.87,20.572,27.249999999999996,20.238,14.475999999999999,27.406,13.83,33.052,13.75,25.87,13.83,24.84,13.91,19.304000000000002,19.054000000000002,15.066,26.384,19.0,15.338000000000001,15.802,18.556,33.32,24.48,14.16,19.328000000000003,29.272,20.16,23.400000000000006,32.364000000000004,15.64,19.068,28.776,28.538],\"type\":\"scatter\"}],                        {\"template\":{\"data\":{\"bar\":[{\"error_x\":{\"color\":\"#2a3f5f\"},\"error_y\":{\"color\":\"#2a3f5f\"},\"marker\":{\"line\":{\"color\":\"#E5ECF6\",\"width\":0.5},\"pattern\":{\"fillmode\":\"overlay\",\"size\":10,\"solidity\":0.2}},\"type\":\"bar\"}],\"barpolar\":[{\"marker\":{\"line\":{\"color\":\"#E5ECF6\",\"width\":0.5},\"pattern\":{\"fillmode\":\"overlay\",\"size\":10,\"solidity\":0.2}},\"type\":\"barpolar\"}],\"carpet\":[{\"aaxis\":{\"endlinecolor\":\"#2a3f5f\",\"gridcolor\":\"white\",\"linecolor\":\"white\",\"minorgridcolor\":\"white\",\"startlinecolor\":\"#2a3f5f\"},\"baxis\":{\"endlinecolor\":\"#2a3f5f\",\"gridcolor\":\"white\",\"linecolor\":\"white\",\"minorgridcolor\":\"white\",\"startlinecolor\":\"#2a3f5f\"},\"type\":\"carpet\"}],\"choropleth\":[{\"colorbar\":{\"outlinewidth\":0,\"ticks\":\"\"},\"type\":\"choropleth\"}],\"contour\":[{\"colorbar\":{\"outlinewidth\":0,\"ticks\":\"\"},\"colorscale\":[[0.0,\"#0d0887\"],[0.1111111111111111,\"#46039f\"],[0.2222222222222222,\"#7201a8\"],[0.3333333333333333,\"#9c179e\"],[0.4444444444444444,\"#bd3786\"],[0.5555555555555556,\"#d8576b\"],[0.6666666666666666,\"#ed7953\"],[0.7777777777777778,\"#fb9f3a\"],[0.8888888888888888,\"#fdca26\"],[1.0,\"#f0f921\"]],\"type\":\"contour\"}],\"contourcarpet\":[{\"colorbar\":{\"outlinewidth\":0,\"ticks\":\"\"},\"type\":\"contourcarpet\"}],\"heatmap\":[{\"colorbar\":{\"outlinewidth\":0,\"ticks\":\"\"},\"colorscale\":[[0.0,\"#0d0887\"],[0.1111111111111111,\"#46039f\"],[0.2222222222222222,\"#7201a8\"],[0.3333333333333333,\"#9c179e\"],[0.4444444444444444,\"#bd3786\"],[0.5555555555555556,\"#d8576b\"],[0.6666666666666666,\"#ed7953\"],[0.7777777777777778,\"#fb9f3a\"],[0.8888888888888888,\"#fdca26\"],[1.0,\"#f0f921\"]],\"type\":\"heatmap\"}],\"heatmapgl\":[{\"colorbar\":{\"outlinewidth\":0,\"ticks\":\"\"},\"colorscale\":[[0.0,\"#0d0887\"],[0.1111111111111111,\"#46039f\"],[0.2222222222222222,\"#7201a8\"],[0.3333333333333333,\"#9c179e\"],[0.4444444444444444,\"#bd3786\"],[0.5555555555555556,\"#d8576b\"],[0.6666666666666666,\"#ed7953\"],[0.7777777777777778,\"#fb9f3a\"],[0.8888888888888888,\"#fdca26\"],[1.0,\"#f0f921\"]],\"type\":\"heatmapgl\"}],\"histogram\":[{\"marker\":{\"pattern\":{\"fillmode\":\"overlay\",\"size\":10,\"solidity\":0.2}},\"type\":\"histogram\"}],\"histogram2d\":[{\"colorbar\":{\"outlinewidth\":0,\"ticks\":\"\"},\"colorscale\":[[0.0,\"#0d0887\"],[0.1111111111111111,\"#46039f\"],[0.2222222222222222,\"#7201a8\"],[0.3333333333333333,\"#9c179e\"],[0.4444444444444444,\"#bd3786\"],[0.5555555555555556,\"#d8576b\"],[0.6666666666666666,\"#ed7953\"],[0.7777777777777778,\"#fb9f3a\"],[0.8888888888888888,\"#fdca26\"],[1.0,\"#f0f921\"]],\"type\":\"histogram2d\"}],\"histogram2dcontour\":[{\"colorbar\":{\"outlinewidth\":0,\"ticks\":\"\"},\"colorscale\":[[0.0,\"#0d0887\"],[0.1111111111111111,\"#46039f\"],[0.2222222222222222,\"#7201a8\"],[0.3333333333333333,\"#9c179e\"],[0.4444444444444444,\"#bd3786\"],[0.5555555555555556,\"#d8576b\"],[0.6666666666666666,\"#ed7953\"],[0.7777777777777778,\"#fb9f3a\"],[0.8888888888888888,\"#fdca26\"],[1.0,\"#f0f921\"]],\"type\":\"histogram2dcontour\"}],\"mesh3d\":[{\"colorbar\":{\"outlinewidth\":0,\"ticks\":\"\"},\"type\":\"mesh3d\"}],\"parcoords\":[{\"line\":{\"colorbar\":{\"outlinewidth\":0,\"ticks\":\"\"}},\"type\":\"parcoords\"}],\"pie\":[{\"automargin\":true,\"type\":\"pie\"}],\"scatter\":[{\"marker\":{\"colorbar\":{\"outlinewidth\":0,\"ticks\":\"\"}},\"type\":\"scatter\"}],\"scatter3d\":[{\"line\":{\"colorbar\":{\"outlinewidth\":0,\"ticks\":\"\"}},\"marker\":{\"colorbar\":{\"outlinewidth\":0,\"ticks\":\"\"}},\"type\":\"scatter3d\"}],\"scattercarpet\":[{\"marker\":{\"colorbar\":{\"outlinewidth\":0,\"ticks\":\"\"}},\"type\":\"scattercarpet\"}],\"scattergeo\":[{\"marker\":{\"colorbar\":{\"outlinewidth\":0,\"ticks\":\"\"}},\"type\":\"scattergeo\"}],\"scattergl\":[{\"marker\":{\"colorbar\":{\"outlinewidth\":0,\"ticks\":\"\"}},\"type\":\"scattergl\"}],\"scattermapbox\":[{\"marker\":{\"colorbar\":{\"outlinewidth\":0,\"ticks\":\"\"}},\"type\":\"scattermapbox\"}],\"scatterpolar\":[{\"marker\":{\"colorbar\":{\"outlinewidth\":0,\"ticks\":\"\"}},\"type\":\"scatterpolar\"}],\"scatterpolargl\":[{\"marker\":{\"colorbar\":{\"outlinewidth\":0,\"ticks\":\"\"}},\"type\":\"scatterpolargl\"}],\"scatterternary\":[{\"marker\":{\"colorbar\":{\"outlinewidth\":0,\"ticks\":\"\"}},\"type\":\"scatterternary\"}],\"surface\":[{\"colorbar\":{\"outlinewidth\":0,\"ticks\":\"\"},\"colorscale\":[[0.0,\"#0d0887\"],[0.1111111111111111,\"#46039f\"],[0.2222222222222222,\"#7201a8\"],[0.3333333333333333,\"#9c179e\"],[0.4444444444444444,\"#bd3786\"],[0.5555555555555556,\"#d8576b\"],[0.6666666666666666,\"#ed7953\"],[0.7777777777777778,\"#fb9f3a\"],[0.8888888888888888,\"#fdca26\"],[1.0,\"#f0f921\"]],\"type\":\"surface\"}],\"table\":[{\"cells\":{\"fill\":{\"color\":\"#EBF0F8\"},\"line\":{\"color\":\"white\"}},\"header\":{\"fill\":{\"color\":\"#C8D4E3\"},\"line\":{\"color\":\"white\"}},\"type\":\"table\"}]},\"layout\":{\"annotationdefaults\":{\"arrowcolor\":\"#2a3f5f\",\"arrowhead\":0,\"arrowwidth\":1},\"autotypenumbers\":\"strict\",\"coloraxis\":{\"colorbar\":{\"outlinewidth\":0,\"ticks\":\"\"}},\"colorscale\":{\"diverging\":[[0,\"#8e0152\"],[0.1,\"#c51b7d\"],[0.2,\"#de77ae\"],[0.3,\"#f1b6da\"],[0.4,\"#fde0ef\"],[0.5,\"#f7f7f7\"],[0.6,\"#e6f5d0\"],[0.7,\"#b8e186\"],[0.8,\"#7fbc41\"],[0.9,\"#4d9221\"],[1,\"#276419\"]],\"sequential\":[[0.0,\"#0d0887\"],[0.1111111111111111,\"#46039f\"],[0.2222222222222222,\"#7201a8\"],[0.3333333333333333,\"#9c179e\"],[0.4444444444444444,\"#bd3786\"],[0.5555555555555556,\"#d8576b\"],[0.6666666666666666,\"#ed7953\"],[0.7777777777777778,\"#fb9f3a\"],[0.8888888888888888,\"#fdca26\"],[1.0,\"#f0f921\"]],\"sequentialminus\":[[0.0,\"#0d0887\"],[0.1111111111111111,\"#46039f\"],[0.2222222222222222,\"#7201a8\"],[0.3333333333333333,\"#9c179e\"],[0.4444444444444444,\"#bd3786\"],[0.5555555555555556,\"#d8576b\"],[0.6666666666666666,\"#ed7953\"],[0.7777777777777778,\"#fb9f3a\"],[0.8888888888888888,\"#fdca26\"],[1.0,\"#f0f921\"]]},\"colorway\":[\"#636efa\",\"#EF553B\",\"#00cc96\",\"#ab63fa\",\"#FFA15A\",\"#19d3f3\",\"#FF6692\",\"#B6E880\",\"#FF97FF\",\"#FECB52\"],\"font\":{\"color\":\"#2a3f5f\"},\"geo\":{\"bgcolor\":\"white\",\"lakecolor\":\"white\",\"landcolor\":\"#E5ECF6\",\"showlakes\":true,\"showland\":true,\"subunitcolor\":\"white\"},\"hoverlabel\":{\"align\":\"left\"},\"hovermode\":\"closest\",\"mapbox\":{\"style\":\"light\"},\"paper_bgcolor\":\"white\",\"plot_bgcolor\":\"#E5ECF6\",\"polar\":{\"angularaxis\":{\"gridcolor\":\"white\",\"linecolor\":\"white\",\"ticks\":\"\"},\"bgcolor\":\"#E5ECF6\",\"radialaxis\":{\"gridcolor\":\"white\",\"linecolor\":\"white\",\"ticks\":\"\"}},\"scene\":{\"xaxis\":{\"backgroundcolor\":\"#E5ECF6\",\"gridcolor\":\"white\",\"gridwidth\":2,\"linecolor\":\"white\",\"showbackground\":true,\"ticks\":\"\",\"zerolinecolor\":\"white\"},\"yaxis\":{\"backgroundcolor\":\"#E5ECF6\",\"gridcolor\":\"white\",\"gridwidth\":2,\"linecolor\":\"white\",\"showbackground\":true,\"ticks\":\"\",\"zerolinecolor\":\"white\"},\"zaxis\":{\"backgroundcolor\":\"#E5ECF6\",\"gridcolor\":\"white\",\"gridwidth\":2,\"linecolor\":\"white\",\"showbackground\":true,\"ticks\":\"\",\"zerolinecolor\":\"white\"}},\"shapedefaults\":{\"line\":{\"color\":\"#2a3f5f\"}},\"ternary\":{\"aaxis\":{\"gridcolor\":\"white\",\"linecolor\":\"white\",\"ticks\":\"\"},\"baxis\":{\"gridcolor\":\"white\",\"linecolor\":\"white\",\"ticks\":\"\"},\"bgcolor\":\"#E5ECF6\",\"caxis\":{\"gridcolor\":\"white\",\"linecolor\":\"white\",\"ticks\":\"\"}},\"title\":{\"x\":0.05},\"xaxis\":{\"automargin\":true,\"gridcolor\":\"white\",\"linecolor\":\"white\",\"ticks\":\"\",\"title\":{\"standoff\":15},\"zerolinecolor\":\"white\",\"zerolinewidth\":2},\"yaxis\":{\"automargin\":true,\"gridcolor\":\"white\",\"linecolor\":\"white\",\"ticks\":\"\",\"title\":{\"standoff\":15},\"zerolinecolor\":\"white\",\"zerolinewidth\":2}}}},                        {\"responsive\": true}                    ).then(function(){\n",
       "                            \n",
       "var gd = document.getElementById('ba712fa5-b551-4858-bb78-f81e2b07de7c');\n",
       "var x = new MutationObserver(function (mutations, observer) {{\n",
       "        var display = window.getComputedStyle(gd).display;\n",
       "        if (!display || display === 'none') {{\n",
       "            console.log([gd, 'removed!']);\n",
       "            Plotly.purge(gd);\n",
       "            observer.disconnect();\n",
       "        }}\n",
       "}});\n",
       "\n",
       "// Listen for the removal of the full notebook cells\n",
       "var notebookContainer = gd.closest('#notebook-container');\n",
       "if (notebookContainer) {{\n",
       "    x.observe(notebookContainer, {childList: true});\n",
       "}}\n",
       "\n",
       "// Listen for the clearing of the current output cell\n",
       "var outputEl = gd.closest('.output');\n",
       "if (outputEl) {{\n",
       "    x.observe(outputEl, {childList: true});\n",
       "}}\n",
       "\n",
       "                        })                };                });            </script>        </div>"
      ]
     },
     "metadata": {},
     "output_type": "display_data"
    },
    {
     "data": {
      "application/vnd.plotly.v1+json": {
       "config": {
        "plotlyServerURL": "https://plot.ly"
       },
       "data": [
        {
         "line": {
          "color": "royalblue"
         },
         "mode": "markers",
         "name": "observed",
         "type": "scatter",
         "x": [
          19.5,
          10.5,
          18,
          13.5,
          15.5,
          15,
          12,
          11.3,
          14,
          15.4,
          21,
          14.4,
          21,
          14.7,
          15.7,
          15,
          11.4,
          13.4,
          13.2,
          12.5,
          12.5,
          12.5,
          17,
          19,
          14.7,
          20.7,
          17.4,
          21,
          14.4,
          15.4,
          15,
          14,
          18.7,
          18.7,
          19.5,
          15.5,
          11.1,
          12,
          13,
          19,
          15.5,
          21,
          12.6,
          15.3,
          13.5,
          12.8,
          14.5,
          13,
          18.1,
          22.2,
          14.5,
          16,
          9.5,
          14.4,
          11,
          15.5,
          11.5,
          17.5,
          10,
          17.2,
          17.7,
          15.5,
          16.5,
          14.5,
          13.7,
          15,
          17,
          16.6,
          12.5,
          9.5,
          16.5,
          14.2,
          18.2,
          17,
          16.4,
          13.9,
          16.9,
          16,
          13.2
         ],
         "y": [
          20,
          17,
          22,
          12,
          16,
          24,
          14,
          28.8,
          31.9,
          25.1,
          15,
          36.1,
          18,
          41.5,
          32,
          27.4,
          32.7,
          17.6,
          19.2,
          17.5,
          15,
          12,
          23,
          31,
          22,
          29.9,
          23,
          32,
          35.7,
          21.5,
          18,
          26,
          18.6,
          19.1,
          29,
          19,
          16,
          13,
          13,
          32,
          32.1,
          26,
          25.4,
          29.8,
          19,
          14.5,
          24,
          19,
          26.4,
          23.9,
          14,
          31,
          16,
          33.7,
          12,
          24,
          12,
          25,
          14,
          20.5,
          20,
          14,
          22,
          22,
          15.5,
          13,
          16,
          29.5,
          26,
          15,
          18,
          29,
          20.5,
          38,
          30,
          15.5,
          20.5,
          29,
          33.5
         ]
        },
        {
         "line": {
          "color": "orange"
         },
         "mode": "markers",
         "name": "predicted",
         "type": "scatter",
         "x": [
          19.5,
          10.5,
          18,
          13.5,
          15.5,
          15,
          12,
          11.3,
          14,
          15.4,
          21,
          14.4,
          21,
          14.7,
          15.7,
          15,
          11.4,
          13.4,
          13.2,
          12.5,
          12.5,
          12.5,
          17,
          19,
          14.7,
          20.7,
          17.4,
          21,
          14.4,
          15.4,
          15,
          14,
          18.7,
          18.7,
          19.5,
          15.5,
          11.1,
          12,
          13,
          19,
          15.5,
          21,
          12.6,
          15.3,
          13.5,
          12.8,
          14.5,
          13,
          18.1,
          22.2,
          14.5,
          16,
          9.5,
          14.4,
          11,
          15.5,
          11.5,
          17.5,
          10,
          17.2,
          17.7,
          15.5,
          16.5,
          14.5,
          13.7,
          15,
          17,
          16.6,
          12.5,
          9.5,
          16.5,
          14.2,
          18.2,
          17,
          16.4,
          13.9,
          16.9,
          16,
          13.2
         ],
         "y": [
          23.07,
          15.793,
          25.954000000000004,
          15.386999999999999,
          18.921999999999997,
          26.840000000000003,
          15.507,
          24.223000000000003,
          30.101999999999997,
          26.283999999999995,
          22.206,
          27.476999999999993,
          21.788999999999998,
          30.451999999999998,
          31.037,
          26.463,
          26.520000000000003,
          16.950000000000003,
          16.799,
          16.033,
          15.616999999999997,
          15.408000000000001,
          24.593000000000004,
          29.353,
          24.055,
          28.872,
          17.095,
          29.829,
          27.416,
          20.838,
          21.239,
          26.997,
          21.612,
          23.008999999999997,
          28.875,
          19.543,
          15.743999999999998,
          15.482999999999997,
          15.408,
          29.366999999999997,
          27.421999999999993,
          28.929000000000002,
          27.622000000000003,
          31.264,
          28.059,
          15.683,
          24.658,
          20.783,
          26.009,
          21.394000000000002,
          15.578,
          27.405999999999995,
          15.527999999999997,
          30.255,
          15.37,
          26.535999999999998,
          15.407999999999998,
          24.717,
          15.587,
          21.795000000000005,
          20.456,
          15.854000000000001,
          28.416000000000004,
          19.1,
          16.123,
          16.737000000000002,
          18.762999999999998,
          30.054000000000002,
          24.43,
          15.611999999999998,
          20.857,
          28.386,
          22.488000000000003,
          23.983,
          29.796999999999997,
          16.662999999999997,
          20.618000000000002,
          29.416,
          26.234000000000005
         ]
        }
       ],
       "layout": {
        "autosize": true,
        "template": {
         "data": {
          "bar": [
           {
            "error_x": {
             "color": "#2a3f5f"
            },
            "error_y": {
             "color": "#2a3f5f"
            },
            "marker": {
             "line": {
              "color": "#E5ECF6",
              "width": 0.5
             },
             "pattern": {
              "fillmode": "overlay",
              "size": 10,
              "solidity": 0.2
             }
            },
            "type": "bar"
           }
          ],
          "barpolar": [
           {
            "marker": {
             "line": {
              "color": "#E5ECF6",
              "width": 0.5
             },
             "pattern": {
              "fillmode": "overlay",
              "size": 10,
              "solidity": 0.2
             }
            },
            "type": "barpolar"
           }
          ],
          "carpet": [
           {
            "aaxis": {
             "endlinecolor": "#2a3f5f",
             "gridcolor": "white",
             "linecolor": "white",
             "minorgridcolor": "white",
             "startlinecolor": "#2a3f5f"
            },
            "baxis": {
             "endlinecolor": "#2a3f5f",
             "gridcolor": "white",
             "linecolor": "white",
             "minorgridcolor": "white",
             "startlinecolor": "#2a3f5f"
            },
            "type": "carpet"
           }
          ],
          "choropleth": [
           {
            "colorbar": {
             "outlinewidth": 0,
             "ticks": ""
            },
            "type": "choropleth"
           }
          ],
          "contour": [
           {
            "colorbar": {
             "outlinewidth": 0,
             "ticks": ""
            },
            "colorscale": [
             [
              0,
              "#0d0887"
             ],
             [
              0.1111111111111111,
              "#46039f"
             ],
             [
              0.2222222222222222,
              "#7201a8"
             ],
             [
              0.3333333333333333,
              "#9c179e"
             ],
             [
              0.4444444444444444,
              "#bd3786"
             ],
             [
              0.5555555555555556,
              "#d8576b"
             ],
             [
              0.6666666666666666,
              "#ed7953"
             ],
             [
              0.7777777777777778,
              "#fb9f3a"
             ],
             [
              0.8888888888888888,
              "#fdca26"
             ],
             [
              1,
              "#f0f921"
             ]
            ],
            "type": "contour"
           }
          ],
          "contourcarpet": [
           {
            "colorbar": {
             "outlinewidth": 0,
             "ticks": ""
            },
            "type": "contourcarpet"
           }
          ],
          "heatmap": [
           {
            "colorbar": {
             "outlinewidth": 0,
             "ticks": ""
            },
            "colorscale": [
             [
              0,
              "#0d0887"
             ],
             [
              0.1111111111111111,
              "#46039f"
             ],
             [
              0.2222222222222222,
              "#7201a8"
             ],
             [
              0.3333333333333333,
              "#9c179e"
             ],
             [
              0.4444444444444444,
              "#bd3786"
             ],
             [
              0.5555555555555556,
              "#d8576b"
             ],
             [
              0.6666666666666666,
              "#ed7953"
             ],
             [
              0.7777777777777778,
              "#fb9f3a"
             ],
             [
              0.8888888888888888,
              "#fdca26"
             ],
             [
              1,
              "#f0f921"
             ]
            ],
            "type": "heatmap"
           }
          ],
          "heatmapgl": [
           {
            "colorbar": {
             "outlinewidth": 0,
             "ticks": ""
            },
            "colorscale": [
             [
              0,
              "#0d0887"
             ],
             [
              0.1111111111111111,
              "#46039f"
             ],
             [
              0.2222222222222222,
              "#7201a8"
             ],
             [
              0.3333333333333333,
              "#9c179e"
             ],
             [
              0.4444444444444444,
              "#bd3786"
             ],
             [
              0.5555555555555556,
              "#d8576b"
             ],
             [
              0.6666666666666666,
              "#ed7953"
             ],
             [
              0.7777777777777778,
              "#fb9f3a"
             ],
             [
              0.8888888888888888,
              "#fdca26"
             ],
             [
              1,
              "#f0f921"
             ]
            ],
            "type": "heatmapgl"
           }
          ],
          "histogram": [
           {
            "marker": {
             "pattern": {
              "fillmode": "overlay",
              "size": 10,
              "solidity": 0.2
             }
            },
            "type": "histogram"
           }
          ],
          "histogram2d": [
           {
            "colorbar": {
             "outlinewidth": 0,
             "ticks": ""
            },
            "colorscale": [
             [
              0,
              "#0d0887"
             ],
             [
              0.1111111111111111,
              "#46039f"
             ],
             [
              0.2222222222222222,
              "#7201a8"
             ],
             [
              0.3333333333333333,
              "#9c179e"
             ],
             [
              0.4444444444444444,
              "#bd3786"
             ],
             [
              0.5555555555555556,
              "#d8576b"
             ],
             [
              0.6666666666666666,
              "#ed7953"
             ],
             [
              0.7777777777777778,
              "#fb9f3a"
             ],
             [
              0.8888888888888888,
              "#fdca26"
             ],
             [
              1,
              "#f0f921"
             ]
            ],
            "type": "histogram2d"
           }
          ],
          "histogram2dcontour": [
           {
            "colorbar": {
             "outlinewidth": 0,
             "ticks": ""
            },
            "colorscale": [
             [
              0,
              "#0d0887"
             ],
             [
              0.1111111111111111,
              "#46039f"
             ],
             [
              0.2222222222222222,
              "#7201a8"
             ],
             [
              0.3333333333333333,
              "#9c179e"
             ],
             [
              0.4444444444444444,
              "#bd3786"
             ],
             [
              0.5555555555555556,
              "#d8576b"
             ],
             [
              0.6666666666666666,
              "#ed7953"
             ],
             [
              0.7777777777777778,
              "#fb9f3a"
             ],
             [
              0.8888888888888888,
              "#fdca26"
             ],
             [
              1,
              "#f0f921"
             ]
            ],
            "type": "histogram2dcontour"
           }
          ],
          "mesh3d": [
           {
            "colorbar": {
             "outlinewidth": 0,
             "ticks": ""
            },
            "type": "mesh3d"
           }
          ],
          "parcoords": [
           {
            "line": {
             "colorbar": {
              "outlinewidth": 0,
              "ticks": ""
             }
            },
            "type": "parcoords"
           }
          ],
          "pie": [
           {
            "automargin": true,
            "type": "pie"
           }
          ],
          "scatter": [
           {
            "marker": {
             "colorbar": {
              "outlinewidth": 0,
              "ticks": ""
             }
            },
            "type": "scatter"
           }
          ],
          "scatter3d": [
           {
            "line": {
             "colorbar": {
              "outlinewidth": 0,
              "ticks": ""
             }
            },
            "marker": {
             "colorbar": {
              "outlinewidth": 0,
              "ticks": ""
             }
            },
            "type": "scatter3d"
           }
          ],
          "scattercarpet": [
           {
            "marker": {
             "colorbar": {
              "outlinewidth": 0,
              "ticks": ""
             }
            },
            "type": "scattercarpet"
           }
          ],
          "scattergeo": [
           {
            "marker": {
             "colorbar": {
              "outlinewidth": 0,
              "ticks": ""
             }
            },
            "type": "scattergeo"
           }
          ],
          "scattergl": [
           {
            "marker": {
             "colorbar": {
              "outlinewidth": 0,
              "ticks": ""
             }
            },
            "type": "scattergl"
           }
          ],
          "scattermapbox": [
           {
            "marker": {
             "colorbar": {
              "outlinewidth": 0,
              "ticks": ""
             }
            },
            "type": "scattermapbox"
           }
          ],
          "scatterpolar": [
           {
            "marker": {
             "colorbar": {
              "outlinewidth": 0,
              "ticks": ""
             }
            },
            "type": "scatterpolar"
           }
          ],
          "scatterpolargl": [
           {
            "marker": {
             "colorbar": {
              "outlinewidth": 0,
              "ticks": ""
             }
            },
            "type": "scatterpolargl"
           }
          ],
          "scatterternary": [
           {
            "marker": {
             "colorbar": {
              "outlinewidth": 0,
              "ticks": ""
             }
            },
            "type": "scatterternary"
           }
          ],
          "surface": [
           {
            "colorbar": {
             "outlinewidth": 0,
             "ticks": ""
            },
            "colorscale": [
             [
              0,
              "#0d0887"
             ],
             [
              0.1111111111111111,
              "#46039f"
             ],
             [
              0.2222222222222222,
              "#7201a8"
             ],
             [
              0.3333333333333333,
              "#9c179e"
             ],
             [
              0.4444444444444444,
              "#bd3786"
             ],
             [
              0.5555555555555556,
              "#d8576b"
             ],
             [
              0.6666666666666666,
              "#ed7953"
             ],
             [
              0.7777777777777778,
              "#fb9f3a"
             ],
             [
              0.8888888888888888,
              "#fdca26"
             ],
             [
              1,
              "#f0f921"
             ]
            ],
            "type": "surface"
           }
          ],
          "table": [
           {
            "cells": {
             "fill": {
              "color": "#EBF0F8"
             },
             "line": {
              "color": "white"
             }
            },
            "header": {
             "fill": {
              "color": "#C8D4E3"
             },
             "line": {
              "color": "white"
             }
            },
            "type": "table"
           }
          ]
         },
         "layout": {
          "annotationdefaults": {
           "arrowcolor": "#2a3f5f",
           "arrowhead": 0,
           "arrowwidth": 1
          },
          "autotypenumbers": "strict",
          "coloraxis": {
           "colorbar": {
            "outlinewidth": 0,
            "ticks": ""
           }
          },
          "colorscale": {
           "diverging": [
            [
             0,
             "#8e0152"
            ],
            [
             0.1,
             "#c51b7d"
            ],
            [
             0.2,
             "#de77ae"
            ],
            [
             0.3,
             "#f1b6da"
            ],
            [
             0.4,
             "#fde0ef"
            ],
            [
             0.5,
             "#f7f7f7"
            ],
            [
             0.6,
             "#e6f5d0"
            ],
            [
             0.7,
             "#b8e186"
            ],
            [
             0.8,
             "#7fbc41"
            ],
            [
             0.9,
             "#4d9221"
            ],
            [
             1,
             "#276419"
            ]
           ],
           "sequential": [
            [
             0,
             "#0d0887"
            ],
            [
             0.1111111111111111,
             "#46039f"
            ],
            [
             0.2222222222222222,
             "#7201a8"
            ],
            [
             0.3333333333333333,
             "#9c179e"
            ],
            [
             0.4444444444444444,
             "#bd3786"
            ],
            [
             0.5555555555555556,
             "#d8576b"
            ],
            [
             0.6666666666666666,
             "#ed7953"
            ],
            [
             0.7777777777777778,
             "#fb9f3a"
            ],
            [
             0.8888888888888888,
             "#fdca26"
            ],
            [
             1,
             "#f0f921"
            ]
           ],
           "sequentialminus": [
            [
             0,
             "#0d0887"
            ],
            [
             0.1111111111111111,
             "#46039f"
            ],
            [
             0.2222222222222222,
             "#7201a8"
            ],
            [
             0.3333333333333333,
             "#9c179e"
            ],
            [
             0.4444444444444444,
             "#bd3786"
            ],
            [
             0.5555555555555556,
             "#d8576b"
            ],
            [
             0.6666666666666666,
             "#ed7953"
            ],
            [
             0.7777777777777778,
             "#fb9f3a"
            ],
            [
             0.8888888888888888,
             "#fdca26"
            ],
            [
             1,
             "#f0f921"
            ]
           ]
          },
          "colorway": [
           "#636efa",
           "#EF553B",
           "#00cc96",
           "#ab63fa",
           "#FFA15A",
           "#19d3f3",
           "#FF6692",
           "#B6E880",
           "#FF97FF",
           "#FECB52"
          ],
          "font": {
           "color": "#2a3f5f"
          },
          "geo": {
           "bgcolor": "white",
           "lakecolor": "white",
           "landcolor": "#E5ECF6",
           "showlakes": true,
           "showland": true,
           "subunitcolor": "white"
          },
          "hoverlabel": {
           "align": "left"
          },
          "hovermode": "closest",
          "mapbox": {
           "style": "light"
          },
          "paper_bgcolor": "white",
          "plot_bgcolor": "#E5ECF6",
          "polar": {
           "angularaxis": {
            "gridcolor": "white",
            "linecolor": "white",
            "ticks": ""
           },
           "bgcolor": "#E5ECF6",
           "radialaxis": {
            "gridcolor": "white",
            "linecolor": "white",
            "ticks": ""
           }
          },
          "scene": {
           "xaxis": {
            "backgroundcolor": "#E5ECF6",
            "gridcolor": "white",
            "gridwidth": 2,
            "linecolor": "white",
            "showbackground": true,
            "ticks": "",
            "zerolinecolor": "white"
           },
           "yaxis": {
            "backgroundcolor": "#E5ECF6",
            "gridcolor": "white",
            "gridwidth": 2,
            "linecolor": "white",
            "showbackground": true,
            "ticks": "",
            "zerolinecolor": "white"
           },
           "zaxis": {
            "backgroundcolor": "#E5ECF6",
            "gridcolor": "white",
            "gridwidth": 2,
            "linecolor": "white",
            "showbackground": true,
            "ticks": "",
            "zerolinecolor": "white"
           }
          },
          "shapedefaults": {
           "line": {
            "color": "#2a3f5f"
           }
          },
          "ternary": {
           "aaxis": {
            "gridcolor": "white",
            "linecolor": "white",
            "ticks": ""
           },
           "baxis": {
            "gridcolor": "white",
            "linecolor": "white",
            "ticks": ""
           },
           "bgcolor": "#E5ECF6",
           "caxis": {
            "gridcolor": "white",
            "linecolor": "white",
            "ticks": ""
           }
          },
          "title": {
           "x": 0.05
          },
          "xaxis": {
           "automargin": true,
           "gridcolor": "white",
           "linecolor": "white",
           "ticks": "",
           "title": {
            "standoff": 15
           },
           "zerolinecolor": "white",
           "zerolinewidth": 2
          },
          "yaxis": {
           "automargin": true,
           "gridcolor": "white",
           "linecolor": "white",
           "ticks": "",
           "title": {
            "standoff": 15
           },
           "zerolinecolor": "white",
           "zerolinewidth": 2
          }
         }
        },
        "xaxis": {
         "autorange": true,
         "range": [
          8.63834808259587,
          23.06165191740413
         ],
         "type": "linear"
        },
        "yaxis": {
         "autorange": true,
         "range": [
          9.565533980582524,
          43.93446601941748
         ],
         "type": "linear"
        }
       }
      },
      "image/png": "[encoded data removed]",
      "text/html": [
       "<div>                            <div id=\"0aa2058e-8986-43ce-b9c7-039ec7b28755\" class=\"plotly-graph-div\" style=\"height:525px; width:100%;\"></div>            <script type=\"text/javascript\">                require([\"plotly\"], function(Plotly) {                    window.PLOTLYENV=window.PLOTLYENV || {};                                    if (document.getElementById(\"0aa2058e-8986-43ce-b9c7-039ec7b28755\")) {                    Plotly.newPlot(                        \"0aa2058e-8986-43ce-b9c7-039ec7b28755\",                        [{\"line\":{\"color\":\"royalblue\"},\"mode\":\"markers\",\"name\":\"observed\",\"x\":[19.5,10.5,18.0,13.5,15.5,15.0,12.0,11.3,14.0,15.4,21.0,14.4,21.0,14.7,15.7,15.0,11.4,13.4,13.2,12.5,12.5,12.5,17.0,19.0,14.7,20.7,17.4,21.0,14.4,15.4,15.0,14.0,18.7,18.7,19.5,15.5,11.1,12.0,13.0,19.0,15.5,21.0,12.6,15.3,13.5,12.8,14.5,13.0,18.1,22.2,14.5,16.0,9.5,14.4,11.0,15.5,11.5,17.5,10.0,17.2,17.7,15.5,16.5,14.5,13.7,15.0,17.0,16.6,12.5,9.5,16.5,14.2,18.2,17.0,16.4,13.9,16.9,16.0,13.2],\"y\":[20.0,17.0,22.0,12.0,16.0,24.0,14.0,28.8,31.9,25.1,15.0,36.1,18.0,41.5,32.0,27.4,32.7,17.6,19.2,17.5,15.0,12.0,23.0,31.0,22.0,29.9,23.0,32.0,35.7,21.5,18.0,26.0,18.6,19.1,29.0,19.0,16.0,13.0,13.0,32.0,32.1,26.0,25.4,29.8,19.0,14.5,24.0,19.0,26.4,23.9,14.0,31.0,16.0,33.7,12.0,24.0,12.0,25.0,14.0,20.5,20.0,14.0,22.0,22.0,15.5,13.0,16.0,29.5,26.0,15.0,18.0,29.0,20.5,38.0,30.0,15.5,20.5,29.0,33.5],\"type\":\"scatter\"},{\"line\":{\"color\":\"orange\"},\"mode\":\"markers\",\"name\":\"predicted\",\"x\":[19.5,10.5,18.0,13.5,15.5,15.0,12.0,11.3,14.0,15.4,21.0,14.4,21.0,14.7,15.7,15.0,11.4,13.4,13.2,12.5,12.5,12.5,17.0,19.0,14.7,20.7,17.4,21.0,14.4,15.4,15.0,14.0,18.7,18.7,19.5,15.5,11.1,12.0,13.0,19.0,15.5,21.0,12.6,15.3,13.5,12.8,14.5,13.0,18.1,22.2,14.5,16.0,9.5,14.4,11.0,15.5,11.5,17.5,10.0,17.2,17.7,15.5,16.5,14.5,13.7,15.0,17.0,16.6,12.5,9.5,16.5,14.2,18.2,17.0,16.4,13.9,16.9,16.0,13.2],\"y\":[23.07,15.793,25.954000000000004,15.386999999999999,18.921999999999997,26.840000000000003,15.507,24.223000000000003,30.101999999999997,26.283999999999995,22.206,27.476999999999993,21.788999999999998,30.451999999999998,31.037,26.463,26.520000000000003,16.950000000000003,16.799,16.033,15.616999999999997,15.408000000000001,24.593000000000004,29.353,24.055,28.872,17.095,29.829,27.416,20.838,21.239,26.997,21.612,23.008999999999997,28.875,19.543,15.743999999999998,15.482999999999997,15.408,29.366999999999997,27.421999999999993,28.929000000000002,27.622000000000003,31.264,28.059,15.683,24.658,20.783,26.009,21.394000000000002,15.578,27.405999999999995,15.527999999999997,30.255,15.37,26.535999999999998,15.407999999999998,24.717,15.587,21.795000000000005,20.456,15.854000000000001,28.416000000000004,19.1,16.123,16.737000000000002,18.762999999999998,30.054000000000002,24.43,15.611999999999998,20.857,28.386,22.488000000000003,23.983,29.796999999999997,16.662999999999997,20.618000000000002,29.416,26.234000000000005],\"type\":\"scatter\"}],                        {\"template\":{\"data\":{\"bar\":[{\"error_x\":{\"color\":\"#2a3f5f\"},\"error_y\":{\"color\":\"#2a3f5f\"},\"marker\":{\"line\":{\"color\":\"#E5ECF6\",\"width\":0.5},\"pattern\":{\"fillmode\":\"overlay\",\"size\":10,\"solidity\":0.2}},\"type\":\"bar\"}],\"barpolar\":[{\"marker\":{\"line\":{\"color\":\"#E5ECF6\",\"width\":0.5},\"pattern\":{\"fillmode\":\"overlay\",\"size\":10,\"solidity\":0.2}},\"type\":\"barpolar\"}],\"carpet\":[{\"aaxis\":{\"endlinecolor\":\"#2a3f5f\",\"gridcolor\":\"white\",\"linecolor\":\"white\",\"minorgridcolor\":\"white\",\"startlinecolor\":\"#2a3f5f\"},\"baxis\":{\"endlinecolor\":\"#2a3f5f\",\"gridcolor\":\"white\",\"linecolor\":\"white\",\"minorgridcolor\":\"white\",\"startlinecolor\":\"#2a3f5f\"},\"type\":\"carpet\"}],\"choropleth\":[{\"colorbar\":{\"outlinewidth\":0,\"ticks\":\"\"},\"type\":\"choropleth\"}],\"contour\":[{\"colorbar\":{\"outlinewidth\":0,\"ticks\":\"\"},\"colorscale\":[[0.0,\"#0d0887\"],[0.1111111111111111,\"#46039f\"],[0.2222222222222222,\"#7201a8\"],[0.3333333333333333,\"#9c179e\"],[0.4444444444444444,\"#bd3786\"],[0.5555555555555556,\"#d8576b\"],[0.6666666666666666,\"#ed7953\"],[0.7777777777777778,\"#fb9f3a\"],[0.8888888888888888,\"#fdca26\"],[1.0,\"#f0f921\"]],\"type\":\"contour\"}],\"contourcarpet\":[{\"colorbar\":{\"outlinewidth\":0,\"ticks\":\"\"},\"type\":\"contourcarpet\"}],\"heatmap\":[{\"colorbar\":{\"outlinewidth\":0,\"ticks\":\"\"},\"colorscale\":[[0.0,\"#0d0887\"],[0.1111111111111111,\"#46039f\"],[0.2222222222222222,\"#7201a8\"],[0.3333333333333333,\"#9c179e\"],[0.4444444444444444,\"#bd3786\"],[0.5555555555555556,\"#d8576b\"],[0.6666666666666666,\"#ed7953\"],[0.7777777777777778,\"#fb9f3a\"],[0.8888888888888888,\"#fdca26\"],[1.0,\"#f0f921\"]],\"type\":\"heatmap\"}],\"heatmapgl\":[{\"colorbar\":{\"outlinewidth\":0,\"ticks\":\"\"},\"colorscale\":[[0.0,\"#0d0887\"],[0.1111111111111111,\"#46039f\"],[0.2222222222222222,\"#7201a8\"],[0.3333333333333333,\"#9c179e\"],[0.4444444444444444,\"#bd3786\"],[0.5555555555555556,\"#d8576b\"],[0.6666666666666666,\"#ed7953\"],[0.7777777777777778,\"#fb9f3a\"],[0.8888888888888888,\"#fdca26\"],[1.0,\"#f0f921\"]],\"type\":\"heatmapgl\"}],\"histogram\":[{\"marker\":{\"pattern\":{\"fillmode\":\"overlay\",\"size\":10,\"solidity\":0.2}},\"type\":\"histogram\"}],\"histogram2d\":[{\"colorbar\":{\"outlinewidth\":0,\"ticks\":\"\"},\"colorscale\":[[0.0,\"#0d0887\"],[0.1111111111111111,\"#46039f\"],[0.2222222222222222,\"#7201a8\"],[0.3333333333333333,\"#9c179e\"],[0.4444444444444444,\"#bd3786\"],[0.5555555555555556,\"#d8576b\"],[0.6666666666666666,\"#ed7953\"],[0.7777777777777778,\"#fb9f3a\"],[0.8888888888888888,\"#fdca26\"],[1.0,\"#f0f921\"]],\"type\":\"histogram2d\"}],\"histogram2dcontour\":[{\"colorbar\":{\"outlinewidth\":0,\"ticks\":\"\"},\"colorscale\":[[0.0,\"#0d0887\"],[0.1111111111111111,\"#46039f\"],[0.2222222222222222,\"#7201a8\"],[0.3333333333333333,\"#9c179e\"],[0.4444444444444444,\"#bd3786\"],[0.5555555555555556,\"#d8576b\"],[0.6666666666666666,\"#ed7953\"],[0.7777777777777778,\"#fb9f3a\"],[0.8888888888888888,\"#fdca26\"],[1.0,\"#f0f921\"]],\"type\":\"histogram2dcontour\"}],\"mesh3d\":[{\"colorbar\":{\"outlinewidth\":0,\"ticks\":\"\"},\"type\":\"mesh3d\"}],\"parcoords\":[{\"line\":{\"colorbar\":{\"outlinewidth\":0,\"ticks\":\"\"}},\"type\":\"parcoords\"}],\"pie\":[{\"automargin\":true,\"type\":\"pie\"}],\"scatter\":[{\"marker\":{\"colorbar\":{\"outlinewidth\":0,\"ticks\":\"\"}},\"type\":\"scatter\"}],\"scatter3d\":[{\"line\":{\"colorbar\":{\"outlinewidth\":0,\"ticks\":\"\"}},\"marker\":{\"colorbar\":{\"outlinewidth\":0,\"ticks\":\"\"}},\"type\":\"scatter3d\"}],\"scattercarpet\":[{\"marker\":{\"colorbar\":{\"outlinewidth\":0,\"ticks\":\"\"}},\"type\":\"scattercarpet\"}],\"scattergeo\":[{\"marker\":{\"colorbar\":{\"outlinewidth\":0,\"ticks\":\"\"}},\"type\":\"scattergeo\"}],\"scattergl\":[{\"marker\":{\"colorbar\":{\"outlinewidth\":0,\"ticks\":\"\"}},\"type\":\"scattergl\"}],\"scattermapbox\":[{\"marker\":{\"colorbar\":{\"outlinewidth\":0,\"ticks\":\"\"}},\"type\":\"scattermapbox\"}],\"scatterpolar\":[{\"marker\":{\"colorbar\":{\"outlinewidth\":0,\"ticks\":\"\"}},\"type\":\"scatterpolar\"}],\"scatterpolargl\":[{\"marker\":{\"colorbar\":{\"outlinewidth\":0,\"ticks\":\"\"}},\"type\":\"scatterpolargl\"}],\"scatterternary\":[{\"marker\":{\"colorbar\":{\"outlinewidth\":0,\"ticks\":\"\"}},\"type\":\"scatterternary\"}],\"surface\":[{\"colorbar\":{\"outlinewidth\":0,\"ticks\":\"\"},\"colorscale\":[[0.0,\"#0d0887\"],[0.1111111111111111,\"#46039f\"],[0.2222222222222222,\"#7201a8\"],[0.3333333333333333,\"#9c179e\"],[0.4444444444444444,\"#bd3786\"],[0.5555555555555556,\"#d8576b\"],[0.6666666666666666,\"#ed7953\"],[0.7777777777777778,\"#fb9f3a\"],[0.8888888888888888,\"#fdca26\"],[1.0,\"#f0f921\"]],\"type\":\"surface\"}],\"table\":[{\"cells\":{\"fill\":{\"color\":\"#EBF0F8\"},\"line\":{\"color\":\"white\"}},\"header\":{\"fill\":{\"color\":\"#C8D4E3\"},\"line\":{\"color\":\"white\"}},\"type\":\"table\"}]},\"layout\":{\"annotationdefaults\":{\"arrowcolor\":\"#2a3f5f\",\"arrowhead\":0,\"arrowwidth\":1},\"autotypenumbers\":\"strict\",\"coloraxis\":{\"colorbar\":{\"outlinewidth\":0,\"ticks\":\"\"}},\"colorscale\":{\"diverging\":[[0,\"#8e0152\"],[0.1,\"#c51b7d\"],[0.2,\"#de77ae\"],[0.3,\"#f1b6da\"],[0.4,\"#fde0ef\"],[0.5,\"#f7f7f7\"],[0.6,\"#e6f5d0\"],[0.7,\"#b8e186\"],[0.8,\"#7fbc41\"],[0.9,\"#4d9221\"],[1,\"#276419\"]],\"sequential\":[[0.0,\"#0d0887\"],[0.1111111111111111,\"#46039f\"],[0.2222222222222222,\"#7201a8\"],[0.3333333333333333,\"#9c179e\"],[0.4444444444444444,\"#bd3786\"],[0.5555555555555556,\"#d8576b\"],[0.6666666666666666,\"#ed7953\"],[0.7777777777777778,\"#fb9f3a\"],[0.8888888888888888,\"#fdca26\"],[1.0,\"#f0f921\"]],\"sequentialminus\":[[0.0,\"#0d0887\"],[0.1111111111111111,\"#46039f\"],[0.2222222222222222,\"#7201a8\"],[0.3333333333333333,\"#9c179e\"],[0.4444444444444444,\"#bd3786\"],[0.5555555555555556,\"#d8576b\"],[0.6666666666666666,\"#ed7953\"],[0.7777777777777778,\"#fb9f3a\"],[0.8888888888888888,\"#fdca26\"],[1.0,\"#f0f921\"]]},\"colorway\":[\"#636efa\",\"#EF553B\",\"#00cc96\",\"#ab63fa\",\"#FFA15A\",\"#19d3f3\",\"#FF6692\",\"#B6E880\",\"#FF97FF\",\"#FECB52\"],\"font\":{\"color\":\"#2a3f5f\"},\"geo\":{\"bgcolor\":\"white\",\"lakecolor\":\"white\",\"landcolor\":\"#E5ECF6\",\"showlakes\":true,\"showland\":true,\"subunitcolor\":\"white\"},\"hoverlabel\":{\"align\":\"left\"},\"hovermode\":\"closest\",\"mapbox\":{\"style\":\"light\"},\"paper_bgcolor\":\"white\",\"plot_bgcolor\":\"#E5ECF6\",\"polar\":{\"angularaxis\":{\"gridcolor\":\"white\",\"linecolor\":\"white\",\"ticks\":\"\"},\"bgcolor\":\"#E5ECF6\",\"radialaxis\":{\"gridcolor\":\"white\",\"linecolor\":\"white\",\"ticks\":\"\"}},\"scene\":{\"xaxis\":{\"backgroundcolor\":\"#E5ECF6\",\"gridcolor\":\"white\",\"gridwidth\":2,\"linecolor\":\"white\",\"showbackground\":true,\"ticks\":\"\",\"zerolinecolor\":\"white\"},\"yaxis\":{\"backgroundcolor\":\"#E5ECF6\",\"gridcolor\":\"white\",\"gridwidth\":2,\"linecolor\":\"white\",\"showbackground\":true,\"ticks\":\"\",\"zerolinecolor\":\"white\"},\"zaxis\":{\"backgroundcolor\":\"#E5ECF6\",\"gridcolor\":\"white\",\"gridwidth\":2,\"linecolor\":\"white\",\"showbackground\":true,\"ticks\":\"\",\"zerolinecolor\":\"white\"}},\"shapedefaults\":{\"line\":{\"color\":\"#2a3f5f\"}},\"ternary\":{\"aaxis\":{\"gridcolor\":\"white\",\"linecolor\":\"white\",\"ticks\":\"\"},\"baxis\":{\"gridcolor\":\"white\",\"linecolor\":\"white\",\"ticks\":\"\"},\"bgcolor\":\"#E5ECF6\",\"caxis\":{\"gridcolor\":\"white\",\"linecolor\":\"white\",\"ticks\":\"\"}},\"title\":{\"x\":0.05},\"xaxis\":{\"automargin\":true,\"gridcolor\":\"white\",\"linecolor\":\"white\",\"ticks\":\"\",\"title\":{\"standoff\":15},\"zerolinecolor\":\"white\",\"zerolinewidth\":2},\"yaxis\":{\"automargin\":true,\"gridcolor\":\"white\",\"linecolor\":\"white\",\"ticks\":\"\",\"title\":{\"standoff\":15},\"zerolinecolor\":\"white\",\"zerolinewidth\":2}}}},                        {\"responsive\": true}                    ).then(function(){\n",
       "                            \n",
       "var gd = document.getElementById('0aa2058e-8986-43ce-b9c7-039ec7b28755');\n",
       "var x = new MutationObserver(function (mutations, observer) {{\n",
       "        var display = window.getComputedStyle(gd).display;\n",
       "        if (!display || display === 'none') {{\n",
       "            console.log([gd, 'removed!']);\n",
       "            Plotly.purge(gd);\n",
       "            observer.disconnect();\n",
       "        }}\n",
       "}});\n",
       "\n",
       "// Listen for the removal of the full notebook cells\n",
       "var notebookContainer = gd.closest('#notebook-container');\n",
       "if (notebookContainer) {{\n",
       "    x.observe(notebookContainer, {childList: true});\n",
       "}}\n",
       "\n",
       "// Listen for the clearing of the current output cell\n",
       "var outputEl = gd.closest('.output');\n",
       "if (outputEl) {{\n",
       "    x.observe(outputEl, {childList: true});\n",
       "}}\n",
       "\n",
       "                        })                };                });            </script>        </div>"
      ]
     },
     "metadata": {},
     "output_type": "display_data"
    },
    {
     "data": {
      "application/vnd.plotly.v1+json": {
       "config": {
        "plotlyServerURL": "https://plot.ly"
       },
       "data": [
        {
         "line": {
          "color": "royalblue"
         },
         "mode": "markers",
         "name": "observed",
         "type": "scatter",
         "x": [
          19.5,
          10.5,
          18,
          13.5,
          15.5,
          15,
          12,
          11.3,
          14,
          15.4,
          21,
          14.4,
          21,
          14.7,
          15.7,
          15,
          11.4,
          13.4,
          13.2,
          12.5,
          12.5,
          12.5,
          17,
          19,
          14.7,
          20.7,
          17.4,
          21,
          14.4,
          15.4,
          15,
          14,
          18.7,
          18.7,
          19.5,
          15.5,
          11.1,
          12,
          13,
          19,
          15.5,
          21,
          12.6,
          15.3,
          13.5,
          12.8,
          14.5,
          13,
          18.1,
          22.2,
          14.5,
          16,
          9.5,
          14.4,
          11,
          15.5,
          11.5,
          17.5,
          10,
          17.2,
          17.7,
          15.5,
          16.5,
          14.5,
          13.7,
          15,
          17,
          16.6,
          12.5,
          9.5,
          16.5,
          14.2,
          18.2,
          17,
          16.4,
          13.9,
          16.9,
          16,
          13.2
         ],
         "y": [
          20,
          17,
          22,
          12,
          16,
          24,
          14,
          28.8,
          31.9,
          25.1,
          15,
          36.1,
          18,
          41.5,
          32,
          27.4,
          32.7,
          17.6,
          19.2,
          17.5,
          15,
          12,
          23,
          31,
          22,
          29.9,
          23,
          32,
          35.7,
          21.5,
          18,
          26,
          18.6,
          19.1,
          29,
          19,
          16,
          13,
          13,
          32,
          32.1,
          26,
          25.4,
          29.8,
          19,
          14.5,
          24,
          19,
          26.4,
          23.9,
          14,
          31,
          16,
          33.7,
          12,
          24,
          12,
          25,
          14,
          20.5,
          20,
          14,
          22,
          22,
          15.5,
          13,
          16,
          29.5,
          26,
          15,
          18,
          29,
          20.5,
          38,
          30,
          15.5,
          20.5,
          29,
          33.5
         ]
        },
        {
         "line": {
          "color": "orange"
         },
         "mode": "markers",
         "name": "predicted",
         "type": "scatter",
         "x": [
          19.5,
          10.5,
          18,
          13.5,
          15.5,
          15,
          12,
          11.3,
          14,
          15.4,
          21,
          14.4,
          21,
          14.7,
          15.7,
          15,
          11.4,
          13.4,
          13.2,
          12.5,
          12.5,
          12.5,
          17,
          19,
          14.7,
          20.7,
          17.4,
          21,
          14.4,
          15.4,
          15,
          14,
          18.7,
          18.7,
          19.5,
          15.5,
          11.1,
          12,
          13,
          19,
          15.5,
          21,
          12.6,
          15.3,
          13.5,
          12.8,
          14.5,
          13,
          18.1,
          22.2,
          14.5,
          16,
          9.5,
          14.4,
          11,
          15.5,
          11.5,
          17.5,
          10,
          17.2,
          17.7,
          15.5,
          16.5,
          14.5,
          13.7,
          15,
          17,
          16.6,
          12.5,
          9.5,
          16.5,
          14.2,
          18.2,
          17,
          16.4,
          13.9,
          16.9,
          16,
          13.2
         ],
         "y": [
          25.997199999999996,
          21.182800000000004,
          25.9468,
          21.171200000000002,
          21.5192,
          25.83,
          21.130800000000004,
          23.1792,
          26.064,
          25.92,
          24.304399999999998,
          26.054,
          24.092,
          26.074,
          26.074,
          26.082,
          24.608,
          21.5628,
          21.5136,
          21.4248,
          21.2108,
          21.171200000000002,
          26.0276,
          26.022,
          23.8968,
          26.057599999999997,
          21.5424,
          26.006,
          26.064,
          22.787200000000002,
          22.38,
          25.836,
          23.401199999999996,
          24.9404,
          26.022,
          21.8752,
          21.4004,
          21.1308,
          21.1872,
          26.022,
          26.074,
          25.9972,
          25.0856,
          26.074,
          25.8712,
          21.3008,
          25.659599999999998,
          22.022,
          26.074,
          23.7716,
          21.167199999999998,
          26.0136,
          21.196,
          26.074,
          21.164,
          25.983199999999997,
          21.1312,
          25.934,
          21.12,
          23.433199999999996,
          22.851599999999998,
          21.2228,
          25.9796,
          22.188399999999998,
          21.3448,
          21.3868,
          21.8624,
          26.066,
          25.160400000000003,
          21.1784,
          22.8308,
          26.005599999999998,
          24.653599999999997,
          24.9748,
          26.066,
          21.3628,
          22.85,
          26.013600000000004,
          25.545199999999998
         ]
        }
       ],
       "layout": {
        "autosize": true,
        "template": {
         "data": {
          "bar": [
           {
            "error_x": {
             "color": "#2a3f5f"
            },
            "error_y": {
             "color": "#2a3f5f"
            },
            "marker": {
             "line": {
              "color": "#E5ECF6",
              "width": 0.5
             },
             "pattern": {
              "fillmode": "overlay",
              "size": 10,
              "solidity": 0.2
             }
            },
            "type": "bar"
           }
          ],
          "barpolar": [
           {
            "marker": {
             "line": {
              "color": "#E5ECF6",
              "width": 0.5
             },
             "pattern": {
              "fillmode": "overlay",
              "size": 10,
              "solidity": 0.2
             }
            },
            "type": "barpolar"
           }
          ],
          "carpet": [
           {
            "aaxis": {
             "endlinecolor": "#2a3f5f",
             "gridcolor": "white",
             "linecolor": "white",
             "minorgridcolor": "white",
             "startlinecolor": "#2a3f5f"
            },
            "baxis": {
             "endlinecolor": "#2a3f5f",
             "gridcolor": "white",
             "linecolor": "white",
             "minorgridcolor": "white",
             "startlinecolor": "#2a3f5f"
            },
            "type": "carpet"
           }
          ],
          "choropleth": [
           {
            "colorbar": {
             "outlinewidth": 0,
             "ticks": ""
            },
            "type": "choropleth"
           }
          ],
          "contour": [
           {
            "colorbar": {
             "outlinewidth": 0,
             "ticks": ""
            },
            "colorscale": [
             [
              0,
              "#0d0887"
             ],
             [
              0.1111111111111111,
              "#46039f"
             ],
             [
              0.2222222222222222,
              "#7201a8"
             ],
             [
              0.3333333333333333,
              "#9c179e"
             ],
             [
              0.4444444444444444,
              "#bd3786"
             ],
             [
              0.5555555555555556,
              "#d8576b"
             ],
             [
              0.6666666666666666,
              "#ed7953"
             ],
             [
              0.7777777777777778,
              "#fb9f3a"
             ],
             [
              0.8888888888888888,
              "#fdca26"
             ],
             [
              1,
              "#f0f921"
             ]
            ],
            "type": "contour"
           }
          ],
          "contourcarpet": [
           {
            "colorbar": {
             "outlinewidth": 0,
             "ticks": ""
            },
            "type": "contourcarpet"
           }
          ],
          "heatmap": [
           {
            "colorbar": {
             "outlinewidth": 0,
             "ticks": ""
            },
            "colorscale": [
             [
              0,
              "#0d0887"
             ],
             [
              0.1111111111111111,
              "#46039f"
             ],
             [
              0.2222222222222222,
              "#7201a8"
             ],
             [
              0.3333333333333333,
              "#9c179e"
             ],
             [
              0.4444444444444444,
              "#bd3786"
             ],
             [
              0.5555555555555556,
              "#d8576b"
             ],
             [
              0.6666666666666666,
              "#ed7953"
             ],
             [
              0.7777777777777778,
              "#fb9f3a"
             ],
             [
              0.8888888888888888,
              "#fdca26"
             ],
             [
              1,
              "#f0f921"
             ]
            ],
            "type": "heatmap"
           }
          ],
          "heatmapgl": [
           {
            "colorbar": {
             "outlinewidth": 0,
             "ticks": ""
            },
            "colorscale": [
             [
              0,
              "#0d0887"
             ],
             [
              0.1111111111111111,
              "#46039f"
             ],
             [
              0.2222222222222222,
              "#7201a8"
             ],
             [
              0.3333333333333333,
              "#9c179e"
             ],
             [
              0.4444444444444444,
              "#bd3786"
             ],
             [
              0.5555555555555556,
              "#d8576b"
             ],
             [
              0.6666666666666666,
              "#ed7953"
             ],
             [
              0.7777777777777778,
              "#fb9f3a"
             ],
             [
              0.8888888888888888,
              "#fdca26"
             ],
             [
              1,
              "#f0f921"
             ]
            ],
            "type": "heatmapgl"
           }
          ],
          "histogram": [
           {
            "marker": {
             "pattern": {
              "fillmode": "overlay",
              "size": 10,
              "solidity": 0.2
             }
            },
            "type": "histogram"
           }
          ],
          "histogram2d": [
           {
            "colorbar": {
             "outlinewidth": 0,
             "ticks": ""
            },
            "colorscale": [
             [
              0,
              "#0d0887"
             ],
             [
              0.1111111111111111,
              "#46039f"
             ],
             [
              0.2222222222222222,
              "#7201a8"
             ],
             [
              0.3333333333333333,
              "#9c179e"
             ],
             [
              0.4444444444444444,
              "#bd3786"
             ],
             [
              0.5555555555555556,
              "#d8576b"
             ],
             [
              0.6666666666666666,
              "#ed7953"
             ],
             [
              0.7777777777777778,
              "#fb9f3a"
             ],
             [
              0.8888888888888888,
              "#fdca26"
             ],
             [
              1,
              "#f0f921"
             ]
            ],
            "type": "histogram2d"
           }
          ],
          "histogram2dcontour": [
           {
            "colorbar": {
             "outlinewidth": 0,
             "ticks": ""
            },
            "colorscale": [
             [
              0,
              "#0d0887"
             ],
             [
              0.1111111111111111,
              "#46039f"
             ],
             [
              0.2222222222222222,
              "#7201a8"
             ],
             [
              0.3333333333333333,
              "#9c179e"
             ],
             [
              0.4444444444444444,
              "#bd3786"
             ],
             [
              0.5555555555555556,
              "#d8576b"
             ],
             [
              0.6666666666666666,
              "#ed7953"
             ],
             [
              0.7777777777777778,
              "#fb9f3a"
             ],
             [
              0.8888888888888888,
              "#fdca26"
             ],
             [
              1,
              "#f0f921"
             ]
            ],
            "type": "histogram2dcontour"
           }
          ],
          "mesh3d": [
           {
            "colorbar": {
             "outlinewidth": 0,
             "ticks": ""
            },
            "type": "mesh3d"
           }
          ],
          "parcoords": [
           {
            "line": {
             "colorbar": {
              "outlinewidth": 0,
              "ticks": ""
             }
            },
            "type": "parcoords"
           }
          ],
          "pie": [
           {
            "automargin": true,
            "type": "pie"
           }
          ],
          "scatter": [
           {
            "marker": {
             "colorbar": {
              "outlinewidth": 0,
              "ticks": ""
             }
            },
            "type": "scatter"
           }
          ],
          "scatter3d": [
           {
            "line": {
             "colorbar": {
              "outlinewidth": 0,
              "ticks": ""
             }
            },
            "marker": {
             "colorbar": {
              "outlinewidth": 0,
              "ticks": ""
             }
            },
            "type": "scatter3d"
           }
          ],
          "scattercarpet": [
           {
            "marker": {
             "colorbar": {
              "outlinewidth": 0,
              "ticks": ""
             }
            },
            "type": "scattercarpet"
           }
          ],
          "scattergeo": [
           {
            "marker": {
             "colorbar": {
              "outlinewidth": 0,
              "ticks": ""
             }
            },
            "type": "scattergeo"
           }
          ],
          "scattergl": [
           {
            "marker": {
             "colorbar": {
              "outlinewidth": 0,
              "ticks": ""
             }
            },
            "type": "scattergl"
           }
          ],
          "scattermapbox": [
           {
            "marker": {
             "colorbar": {
              "outlinewidth": 0,
              "ticks": ""
             }
            },
            "type": "scattermapbox"
           }
          ],
          "scatterpolar": [
           {
            "marker": {
             "colorbar": {
              "outlinewidth": 0,
              "ticks": ""
             }
            },
            "type": "scatterpolar"
           }
          ],
          "scatterpolargl": [
           {
            "marker": {
             "colorbar": {
              "outlinewidth": 0,
              "ticks": ""
             }
            },
            "type": "scatterpolargl"
           }
          ],
          "scatterternary": [
           {
            "marker": {
             "colorbar": {
              "outlinewidth": 0,
              "ticks": ""
             }
            },
            "type": "scatterternary"
           }
          ],
          "surface": [
           {
            "colorbar": {
             "outlinewidth": 0,
             "ticks": ""
            },
            "colorscale": [
             [
              0,
              "#0d0887"
             ],
             [
              0.1111111111111111,
              "#46039f"
             ],
             [
              0.2222222222222222,
              "#7201a8"
             ],
             [
              0.3333333333333333,
              "#9c179e"
             ],
             [
              0.4444444444444444,
              "#bd3786"
             ],
             [
              0.5555555555555556,
              "#d8576b"
             ],
             [
              0.6666666666666666,
              "#ed7953"
             ],
             [
              0.7777777777777778,
              "#fb9f3a"
             ],
             [
              0.8888888888888888,
              "#fdca26"
             ],
             [
              1,
              "#f0f921"
             ]
            ],
            "type": "surface"
           }
          ],
          "table": [
           {
            "cells": {
             "fill": {
              "color": "#EBF0F8"
             },
             "line": {
              "color": "white"
             }
            },
            "header": {
             "fill": {
              "color": "#C8D4E3"
             },
             "line": {
              "color": "white"
             }
            },
            "type": "table"
           }
          ]
         },
         "layout": {
          "annotationdefaults": {
           "arrowcolor": "#2a3f5f",
           "arrowhead": 0,
           "arrowwidth": 1
          },
          "autotypenumbers": "strict",
          "coloraxis": {
           "colorbar": {
            "outlinewidth": 0,
            "ticks": ""
           }
          },
          "colorscale": {
           "diverging": [
            [
             0,
             "#8e0152"
            ],
            [
             0.1,
             "#c51b7d"
            ],
            [
             0.2,
             "#de77ae"
            ],
            [
             0.3,
             "#f1b6da"
            ],
            [
             0.4,
             "#fde0ef"
            ],
            [
             0.5,
             "#f7f7f7"
            ],
            [
             0.6,
             "#e6f5d0"
            ],
            [
             0.7,
             "#b8e186"
            ],
            [
             0.8,
             "#7fbc41"
            ],
            [
             0.9,
             "#4d9221"
            ],
            [
             1,
             "#276419"
            ]
           ],
           "sequential": [
            [
             0,
             "#0d0887"
            ],
            [
             0.1111111111111111,
             "#46039f"
            ],
            [
             0.2222222222222222,
             "#7201a8"
            ],
            [
             0.3333333333333333,
             "#9c179e"
            ],
            [
             0.4444444444444444,
             "#bd3786"
            ],
            [
             0.5555555555555556,
             "#d8576b"
            ],
            [
             0.6666666666666666,
             "#ed7953"
            ],
            [
             0.7777777777777778,
             "#fb9f3a"
            ],
            [
             0.8888888888888888,
             "#fdca26"
            ],
            [
             1,
             "#f0f921"
            ]
           ],
           "sequentialminus": [
            [
             0,
             "#0d0887"
            ],
            [
             0.1111111111111111,
             "#46039f"
            ],
            [
             0.2222222222222222,
             "#7201a8"
            ],
            [
             0.3333333333333333,
             "#9c179e"
            ],
            [
             0.4444444444444444,
             "#bd3786"
            ],
            [
             0.5555555555555556,
             "#d8576b"
            ],
            [
             0.6666666666666666,
             "#ed7953"
            ],
            [
             0.7777777777777778,
             "#fb9f3a"
            ],
            [
             0.8888888888888888,
             "#fdca26"
            ],
            [
             1,
             "#f0f921"
            ]
           ]
          },
          "colorway": [
           "#636efa",
           "#EF553B",
           "#00cc96",
           "#ab63fa",
           "#FFA15A",
           "#19d3f3",
           "#FF6692",
           "#B6E880",
           "#FF97FF",
           "#FECB52"
          ],
          "font": {
           "color": "#2a3f5f"
          },
          "geo": {
           "bgcolor": "white",
           "lakecolor": "white",
           "landcolor": "#E5ECF6",
           "showlakes": true,
           "showland": true,
           "subunitcolor": "white"
          },
          "hoverlabel": {
           "align": "left"
          },
          "hovermode": "closest",
          "mapbox": {
           "style": "light"
          },
          "paper_bgcolor": "white",
          "plot_bgcolor": "#E5ECF6",
          "polar": {
           "angularaxis": {
            "gridcolor": "white",
            "linecolor": "white",
            "ticks": ""
           },
           "bgcolor": "#E5ECF6",
           "radialaxis": {
            "gridcolor": "white",
            "linecolor": "white",
            "ticks": ""
           }
          },
          "scene": {
           "xaxis": {
            "backgroundcolor": "#E5ECF6",
            "gridcolor": "white",
            "gridwidth": 2,
            "linecolor": "white",
            "showbackground": true,
            "ticks": "",
            "zerolinecolor": "white"
           },
           "yaxis": {
            "backgroundcolor": "#E5ECF6",
            "gridcolor": "white",
            "gridwidth": 2,
            "linecolor": "white",
            "showbackground": true,
            "ticks": "",
            "zerolinecolor": "white"
           },
           "zaxis": {
            "backgroundcolor": "#E5ECF6",
            "gridcolor": "white",
            "gridwidth": 2,
            "linecolor": "white",
            "showbackground": true,
            "ticks": "",
            "zerolinecolor": "white"
           }
          },
          "shapedefaults": {
           "line": {
            "color": "#2a3f5f"
           }
          },
          "ternary": {
           "aaxis": {
            "gridcolor": "white",
            "linecolor": "white",
            "ticks": ""
           },
           "baxis": {
            "gridcolor": "white",
            "linecolor": "white",
            "ticks": ""
           },
           "bgcolor": "#E5ECF6",
           "caxis": {
            "gridcolor": "white",
            "linecolor": "white",
            "ticks": ""
           }
          },
          "title": {
           "x": 0.05
          },
          "xaxis": {
           "automargin": true,
           "gridcolor": "white",
           "linecolor": "white",
           "ticks": "",
           "title": {
            "standoff": 15
           },
           "zerolinecolor": "white",
           "zerolinewidth": 2
          },
          "yaxis": {
           "automargin": true,
           "gridcolor": "white",
           "linecolor": "white",
           "ticks": "",
           "title": {
            "standoff": 15
           },
           "zerolinecolor": "white",
           "zerolinewidth": 2
          }
         }
        },
        "xaxis": {
         "autorange": true,
         "range": [
          8.63834808259587,
          23.06165191740413
         ],
         "type": "linear"
        },
        "yaxis": {
         "autorange": true,
         "range": [
          9.565533980582524,
          43.93446601941748
         ],
         "type": "linear"
        }
       }
      },
      "image/png": "[encoded data removed]",
      "text/html": [
       "<div>                            <div id=\"6a67c3e1-05cb-484f-8bb2-cbbbcda46a41\" class=\"plotly-graph-div\" style=\"height:525px; width:100%;\"></div>            <script type=\"text/javascript\">                require([\"plotly\"], function(Plotly) {                    window.PLOTLYENV=window.PLOTLYENV || {};                                    if (document.getElementById(\"6a67c3e1-05cb-484f-8bb2-cbbbcda46a41\")) {                    Plotly.newPlot(                        \"6a67c3e1-05cb-484f-8bb2-cbbbcda46a41\",                        [{\"line\":{\"color\":\"royalblue\"},\"mode\":\"markers\",\"name\":\"observed\",\"x\":[19.5,10.5,18.0,13.5,15.5,15.0,12.0,11.3,14.0,15.4,21.0,14.4,21.0,14.7,15.7,15.0,11.4,13.4,13.2,12.5,12.5,12.5,17.0,19.0,14.7,20.7,17.4,21.0,14.4,15.4,15.0,14.0,18.7,18.7,19.5,15.5,11.1,12.0,13.0,19.0,15.5,21.0,12.6,15.3,13.5,12.8,14.5,13.0,18.1,22.2,14.5,16.0,9.5,14.4,11.0,15.5,11.5,17.5,10.0,17.2,17.7,15.5,16.5,14.5,13.7,15.0,17.0,16.6,12.5,9.5,16.5,14.2,18.2,17.0,16.4,13.9,16.9,16.0,13.2],\"y\":[20.0,17.0,22.0,12.0,16.0,24.0,14.0,28.8,31.9,25.1,15.0,36.1,18.0,41.5,32.0,27.4,32.7,17.6,19.2,17.5,15.0,12.0,23.0,31.0,22.0,29.9,23.0,32.0,35.7,21.5,18.0,26.0,18.6,19.1,29.0,19.0,16.0,13.0,13.0,32.0,32.1,26.0,25.4,29.8,19.0,14.5,24.0,19.0,26.4,23.9,14.0,31.0,16.0,33.7,12.0,24.0,12.0,25.0,14.0,20.5,20.0,14.0,22.0,22.0,15.5,13.0,16.0,29.5,26.0,15.0,18.0,29.0,20.5,38.0,30.0,15.5,20.5,29.0,33.5],\"type\":\"scatter\"},{\"line\":{\"color\":\"orange\"},\"mode\":\"markers\",\"name\":\"predicted\",\"x\":[19.5,10.5,18.0,13.5,15.5,15.0,12.0,11.3,14.0,15.4,21.0,14.4,21.0,14.7,15.7,15.0,11.4,13.4,13.2,12.5,12.5,12.5,17.0,19.0,14.7,20.7,17.4,21.0,14.4,15.4,15.0,14.0,18.7,18.7,19.5,15.5,11.1,12.0,13.0,19.0,15.5,21.0,12.6,15.3,13.5,12.8,14.5,13.0,18.1,22.2,14.5,16.0,9.5,14.4,11.0,15.5,11.5,17.5,10.0,17.2,17.7,15.5,16.5,14.5,13.7,15.0,17.0,16.6,12.5,9.5,16.5,14.2,18.2,17.0,16.4,13.9,16.9,16.0,13.2],\"y\":[25.997199999999996,21.182800000000004,25.9468,21.171200000000002,21.5192,25.83,21.130800000000004,23.1792,26.064,25.92,24.304399999999998,26.054,24.092,26.074,26.074,26.082,24.608,21.5628,21.5136,21.4248,21.2108,21.171200000000002,26.0276,26.022,23.8968,26.057599999999997,21.5424,26.006,26.064,22.787200000000002,22.38,25.836,23.401199999999996,24.9404,26.022,21.8752,21.4004,21.1308,21.1872,26.022,26.074,25.9972,25.0856,26.074,25.8712,21.3008,25.659599999999998,22.022,26.074,23.7716,21.167199999999998,26.0136,21.196,26.074,21.164,25.983199999999997,21.1312,25.934,21.12,23.433199999999996,22.851599999999998,21.2228,25.9796,22.188399999999998,21.3448,21.3868,21.8624,26.066,25.160400000000003,21.1784,22.8308,26.005599999999998,24.653599999999997,24.9748,26.066,21.3628,22.85,26.013600000000004,25.545199999999998],\"type\":\"scatter\"}],                        {\"template\":{\"data\":{\"bar\":[{\"error_x\":{\"color\":\"#2a3f5f\"},\"error_y\":{\"color\":\"#2a3f5f\"},\"marker\":{\"line\":{\"color\":\"#E5ECF6\",\"width\":0.5},\"pattern\":{\"fillmode\":\"overlay\",\"size\":10,\"solidity\":0.2}},\"type\":\"bar\"}],\"barpolar\":[{\"marker\":{\"line\":{\"color\":\"#E5ECF6\",\"width\":0.5},\"pattern\":{\"fillmode\":\"overlay\",\"size\":10,\"solidity\":0.2}},\"type\":\"barpolar\"}],\"carpet\":[{\"aaxis\":{\"endlinecolor\":\"#2a3f5f\",\"gridcolor\":\"white\",\"linecolor\":\"white\",\"minorgridcolor\":\"white\",\"startlinecolor\":\"#2a3f5f\"},\"baxis\":{\"endlinecolor\":\"#2a3f5f\",\"gridcolor\":\"white\",\"linecolor\":\"white\",\"minorgridcolor\":\"white\",\"startlinecolor\":\"#2a3f5f\"},\"type\":\"carpet\"}],\"choropleth\":[{\"colorbar\":{\"outlinewidth\":0,\"ticks\":\"\"},\"type\":\"choropleth\"}],\"contour\":[{\"colorbar\":{\"outlinewidth\":0,\"ticks\":\"\"},\"colorscale\":[[0.0,\"#0d0887\"],[0.1111111111111111,\"#46039f\"],[0.2222222222222222,\"#7201a8\"],[0.3333333333333333,\"#9c179e\"],[0.4444444444444444,\"#bd3786\"],[0.5555555555555556,\"#d8576b\"],[0.6666666666666666,\"#ed7953\"],[0.7777777777777778,\"#fb9f3a\"],[0.8888888888888888,\"#fdca26\"],[1.0,\"#f0f921\"]],\"type\":\"contour\"}],\"contourcarpet\":[{\"colorbar\":{\"outlinewidth\":0,\"ticks\":\"\"},\"type\":\"contourcarpet\"}],\"heatmap\":[{\"colorbar\":{\"outlinewidth\":0,\"ticks\":\"\"},\"colorscale\":[[0.0,\"#0d0887\"],[0.1111111111111111,\"#46039f\"],[0.2222222222222222,\"#7201a8\"],[0.3333333333333333,\"#9c179e\"],[0.4444444444444444,\"#bd3786\"],[0.5555555555555556,\"#d8576b\"],[0.6666666666666666,\"#ed7953\"],[0.7777777777777778,\"#fb9f3a\"],[0.8888888888888888,\"#fdca26\"],[1.0,\"#f0f921\"]],\"type\":\"heatmap\"}],\"heatmapgl\":[{\"colorbar\":{\"outlinewidth\":0,\"ticks\":\"\"},\"colorscale\":[[0.0,\"#0d0887\"],[0.1111111111111111,\"#46039f\"],[0.2222222222222222,\"#7201a8\"],[0.3333333333333333,\"#9c179e\"],[0.4444444444444444,\"#bd3786\"],[0.5555555555555556,\"#d8576b\"],[0.6666666666666666,\"#ed7953\"],[0.7777777777777778,\"#fb9f3a\"],[0.8888888888888888,\"#fdca26\"],[1.0,\"#f0f921\"]],\"type\":\"heatmapgl\"}],\"histogram\":[{\"marker\":{\"pattern\":{\"fillmode\":\"overlay\",\"size\":10,\"solidity\":0.2}},\"type\":\"histogram\"}],\"histogram2d\":[{\"colorbar\":{\"outlinewidth\":0,\"ticks\":\"\"},\"colorscale\":[[0.0,\"#0d0887\"],[0.1111111111111111,\"#46039f\"],[0.2222222222222222,\"#7201a8\"],[0.3333333333333333,\"#9c179e\"],[0.4444444444444444,\"#bd3786\"],[0.5555555555555556,\"#d8576b\"],[0.6666666666666666,\"#ed7953\"],[0.7777777777777778,\"#fb9f3a\"],[0.8888888888888888,\"#fdca26\"],[1.0,\"#f0f921\"]],\"type\":\"histogram2d\"}],\"histogram2dcontour\":[{\"colorbar\":{\"outlinewidth\":0,\"ticks\":\"\"},\"colorscale\":[[0.0,\"#0d0887\"],[0.1111111111111111,\"#46039f\"],[0.2222222222222222,\"#7201a8\"],[0.3333333333333333,\"#9c179e\"],[0.4444444444444444,\"#bd3786\"],[0.5555555555555556,\"#d8576b\"],[0.6666666666666666,\"#ed7953\"],[0.7777777777777778,\"#fb9f3a\"],[0.8888888888888888,\"#fdca26\"],[1.0,\"#f0f921\"]],\"type\":\"histogram2dcontour\"}],\"mesh3d\":[{\"colorbar\":{\"outlinewidth\":0,\"ticks\":\"\"},\"type\":\"mesh3d\"}],\"parcoords\":[{\"line\":{\"colorbar\":{\"outlinewidth\":0,\"ticks\":\"\"}},\"type\":\"parcoords\"}],\"pie\":[{\"automargin\":true,\"type\":\"pie\"}],\"scatter\":[{\"marker\":{\"colorbar\":{\"outlinewidth\":0,\"ticks\":\"\"}},\"type\":\"scatter\"}],\"scatter3d\":[{\"line\":{\"colorbar\":{\"outlinewidth\":0,\"ticks\":\"\"}},\"marker\":{\"colorbar\":{\"outlinewidth\":0,\"ticks\":\"\"}},\"type\":\"scatter3d\"}],\"scattercarpet\":[{\"marker\":{\"colorbar\":{\"outlinewidth\":0,\"ticks\":\"\"}},\"type\":\"scattercarpet\"}],\"scattergeo\":[{\"marker\":{\"colorbar\":{\"outlinewidth\":0,\"ticks\":\"\"}},\"type\":\"scattergeo\"}],\"scattergl\":[{\"marker\":{\"colorbar\":{\"outlinewidth\":0,\"ticks\":\"\"}},\"type\":\"scattergl\"}],\"scattermapbox\":[{\"marker\":{\"colorbar\":{\"outlinewidth\":0,\"ticks\":\"\"}},\"type\":\"scattermapbox\"}],\"scatterpolar\":[{\"marker\":{\"colorbar\":{\"outlinewidth\":0,\"ticks\":\"\"}},\"type\":\"scatterpolar\"}],\"scatterpolargl\":[{\"marker\":{\"colorbar\":{\"outlinewidth\":0,\"ticks\":\"\"}},\"type\":\"scatterpolargl\"}],\"scatterternary\":[{\"marker\":{\"colorbar\":{\"outlinewidth\":0,\"ticks\":\"\"}},\"type\":\"scatterternary\"}],\"surface\":[{\"colorbar\":{\"outlinewidth\":0,\"ticks\":\"\"},\"colorscale\":[[0.0,\"#0d0887\"],[0.1111111111111111,\"#46039f\"],[0.2222222222222222,\"#7201a8\"],[0.3333333333333333,\"#9c179e\"],[0.4444444444444444,\"#bd3786\"],[0.5555555555555556,\"#d8576b\"],[0.6666666666666666,\"#ed7953\"],[0.7777777777777778,\"#fb9f3a\"],[0.8888888888888888,\"#fdca26\"],[1.0,\"#f0f921\"]],\"type\":\"surface\"}],\"table\":[{\"cells\":{\"fill\":{\"color\":\"#EBF0F8\"},\"line\":{\"color\":\"white\"}},\"header\":{\"fill\":{\"color\":\"#C8D4E3\"},\"line\":{\"color\":\"white\"}},\"type\":\"table\"}]},\"layout\":{\"annotationdefaults\":{\"arrowcolor\":\"#2a3f5f\",\"arrowhead\":0,\"arrowwidth\":1},\"autotypenumbers\":\"strict\",\"coloraxis\":{\"colorbar\":{\"outlinewidth\":0,\"ticks\":\"\"}},\"colorscale\":{\"diverging\":[[0,\"#8e0152\"],[0.1,\"#c51b7d\"],[0.2,\"#de77ae\"],[0.3,\"#f1b6da\"],[0.4,\"#fde0ef\"],[0.5,\"#f7f7f7\"],[0.6,\"#e6f5d0\"],[0.7,\"#b8e186\"],[0.8,\"#7fbc41\"],[0.9,\"#4d9221\"],[1,\"#276419\"]],\"sequential\":[[0.0,\"#0d0887\"],[0.1111111111111111,\"#46039f\"],[0.2222222222222222,\"#7201a8\"],[0.3333333333333333,\"#9c179e\"],[0.4444444444444444,\"#bd3786\"],[0.5555555555555556,\"#d8576b\"],[0.6666666666666666,\"#ed7953\"],[0.7777777777777778,\"#fb9f3a\"],[0.8888888888888888,\"#fdca26\"],[1.0,\"#f0f921\"]],\"sequentialminus\":[[0.0,\"#0d0887\"],[0.1111111111111111,\"#46039f\"],[0.2222222222222222,\"#7201a8\"],[0.3333333333333333,\"#9c179e\"],[0.4444444444444444,\"#bd3786\"],[0.5555555555555556,\"#d8576b\"],[0.6666666666666666,\"#ed7953\"],[0.7777777777777778,\"#fb9f3a\"],[0.8888888888888888,\"#fdca26\"],[1.0,\"#f0f921\"]]},\"colorway\":[\"#636efa\",\"#EF553B\",\"#00cc96\",\"#ab63fa\",\"#FFA15A\",\"#19d3f3\",\"#FF6692\",\"#B6E880\",\"#FF97FF\",\"#FECB52\"],\"font\":{\"color\":\"#2a3f5f\"},\"geo\":{\"bgcolor\":\"white\",\"lakecolor\":\"white\",\"landcolor\":\"#E5ECF6\",\"showlakes\":true,\"showland\":true,\"subunitcolor\":\"white\"},\"hoverlabel\":{\"align\":\"left\"},\"hovermode\":\"closest\",\"mapbox\":{\"style\":\"light\"},\"paper_bgcolor\":\"white\",\"plot_bgcolor\":\"#E5ECF6\",\"polar\":{\"angularaxis\":{\"gridcolor\":\"white\",\"linecolor\":\"white\",\"ticks\":\"\"},\"bgcolor\":\"#E5ECF6\",\"radialaxis\":{\"gridcolor\":\"white\",\"linecolor\":\"white\",\"ticks\":\"\"}},\"scene\":{\"xaxis\":{\"backgroundcolor\":\"#E5ECF6\",\"gridcolor\":\"white\",\"gridwidth\":2,\"linecolor\":\"white\",\"showbackground\":true,\"ticks\":\"\",\"zerolinecolor\":\"white\"},\"yaxis\":{\"backgroundcolor\":\"#E5ECF6\",\"gridcolor\":\"white\",\"gridwidth\":2,\"linecolor\":\"white\",\"showbackground\":true,\"ticks\":\"\",\"zerolinecolor\":\"white\"},\"zaxis\":{\"backgroundcolor\":\"#E5ECF6\",\"gridcolor\":\"white\",\"gridwidth\":2,\"linecolor\":\"white\",\"showbackground\":true,\"ticks\":\"\",\"zerolinecolor\":\"white\"}},\"shapedefaults\":{\"line\":{\"color\":\"#2a3f5f\"}},\"ternary\":{\"aaxis\":{\"gridcolor\":\"white\",\"linecolor\":\"white\",\"ticks\":\"\"},\"baxis\":{\"gridcolor\":\"white\",\"linecolor\":\"white\",\"ticks\":\"\"},\"bgcolor\":\"#E5ECF6\",\"caxis\":{\"gridcolor\":\"white\",\"linecolor\":\"white\",\"ticks\":\"\"}},\"title\":{\"x\":0.05},\"xaxis\":{\"automargin\":true,\"gridcolor\":\"white\",\"linecolor\":\"white\",\"ticks\":\"\",\"title\":{\"standoff\":15},\"zerolinecolor\":\"white\",\"zerolinewidth\":2},\"yaxis\":{\"automargin\":true,\"gridcolor\":\"white\",\"linecolor\":\"white\",\"ticks\":\"\",\"title\":{\"standoff\":15},\"zerolinecolor\":\"white\",\"zerolinewidth\":2}}}},                        {\"responsive\": true}                    ).then(function(){\n",
       "                            \n",
       "var gd = document.getElementById('6a67c3e1-05cb-484f-8bb2-cbbbcda46a41');\n",
       "var x = new MutationObserver(function (mutations, observer) {{\n",
       "        var display = window.getComputedStyle(gd).display;\n",
       "        if (!display || display === 'none') {{\n",
       "            console.log([gd, 'removed!']);\n",
       "            Plotly.purge(gd);\n",
       "            observer.disconnect();\n",
       "        }}\n",
       "}});\n",
       "\n",
       "// Listen for the removal of the full notebook cells\n",
       "var notebookContainer = gd.closest('#notebook-container');\n",
       "if (notebookContainer) {{\n",
       "    x.observe(notebookContainer, {childList: true});\n",
       "}}\n",
       "\n",
       "// Listen for the clearing of the current output cell\n",
       "var outputEl = gd.closest('.output');\n",
       "if (outputEl) {{\n",
       "    x.observe(outputEl, {childList: true});\n",
       "}}\n",
       "\n",
       "                        })                };                });            </script>        </div>"
      ]
     },
     "metadata": {},
     "output_type": "display_data"
    },
    {
     "data": {
      "application/vnd.plotly.v1+json": {
       "config": {
        "plotlyServerURL": "https://plot.ly"
       },
       "data": [
        {
         "line": {
          "color": "royalblue"
         },
         "mode": "markers",
         "name": "observed",
         "type": "scatter",
         "x": [
          19.5,
          10.5,
          18,
          13.5,
          15.5,
          15,
          12,
          11.3,
          14,
          15.4,
          21,
          14.4,
          21,
          14.7,
          15.7,
          15,
          11.4,
          13.4,
          13.2,
          12.5,
          12.5,
          12.5,
          17,
          19,
          14.7,
          20.7,
          17.4,
          21,
          14.4,
          15.4,
          15,
          14,
          18.7,
          18.7,
          19.5,
          15.5,
          11.1,
          12,
          13,
          19,
          15.5,
          21,
          12.6,
          15.3,
          13.5,
          12.8,
          14.5,
          13,
          18.1,
          22.2,
          14.5,
          16,
          9.5,
          14.4,
          11,
          15.5,
          11.5,
          17.5,
          10,
          17.2,
          17.7,
          15.5,
          16.5,
          14.5,
          13.7,
          15,
          17,
          16.6,
          12.5,
          9.5,
          16.5,
          14.2,
          18.2,
          17,
          16.4,
          13.9,
          16.9,
          16,
          13.2
         ],
         "y": [
          20,
          17,
          22,
          12,
          16,
          24,
          14,
          28.8,
          31.9,
          25.1,
          15,
          36.1,
          18,
          41.5,
          32,
          27.4,
          32.7,
          17.6,
          19.2,
          17.5,
          15,
          12,
          23,
          31,
          22,
          29.9,
          23,
          32,
          35.7,
          21.5,
          18,
          26,
          18.6,
          19.1,
          29,
          19,
          16,
          13,
          13,
          32,
          32.1,
          26,
          25.4,
          29.8,
          19,
          14.5,
          24,
          19,
          26.4,
          23.9,
          14,
          31,
          16,
          33.7,
          12,
          24,
          12,
          25,
          14,
          20.5,
          20,
          14,
          22,
          22,
          15.5,
          13,
          16,
          29.5,
          26,
          15,
          18,
          29,
          20.5,
          38,
          30,
          15.5,
          20.5,
          29,
          33.5
         ]
        },
        {
         "line": {
          "color": "orange"
         },
         "mode": "markers",
         "name": "predicted",
         "type": "scatter",
         "x": [
          19.5,
          10.5,
          18,
          13.5,
          15.5,
          15,
          12,
          11.3,
          14,
          15.4,
          21,
          14.4,
          21,
          14.7,
          15.7,
          15,
          11.4,
          13.4,
          13.2,
          12.5,
          12.5,
          12.5,
          17,
          19,
          14.7,
          20.7,
          17.4,
          21,
          14.4,
          15.4,
          15,
          14,
          18.7,
          18.7,
          19.5,
          15.5,
          11.1,
          12,
          13,
          19,
          15.5,
          21,
          12.6,
          15.3,
          13.5,
          12.8,
          14.5,
          13,
          18.1,
          22.2,
          14.5,
          16,
          9.5,
          14.4,
          11,
          15.5,
          11.5,
          17.5,
          10,
          17.2,
          17.7,
          15.5,
          16.5,
          14.5,
          13.7,
          15,
          17,
          16.6,
          12.5,
          9.5,
          16.5,
          14.2,
          18.2,
          17,
          16.4,
          13.9,
          16.9,
          16,
          13.2
         ],
         "y": [
          23.65782747603834,
          23.65782747603834,
          23.65782747603834,
          23.65782747603834,
          23.65782747603834,
          23.65782747603834,
          23.65782747603834,
          23.65782747603834,
          23.65782747603834,
          23.65782747603834,
          23.65782747603834,
          23.65782747603834,
          23.65782747603834,
          23.657827476038342,
          23.65782747603834,
          23.65782747603834,
          23.65782747603834,
          23.65782747603834,
          23.65782747603834,
          23.657827476038342,
          23.65782747603834,
          23.65782747603834,
          23.65782747603834,
          23.65782747603834,
          23.65782747603834,
          23.65782747603834,
          23.65782747603834,
          23.65782747603834,
          23.65782747603834,
          23.65782747603834,
          23.65782747603834,
          23.65782747603834,
          23.65782747603834,
          23.65782747603834,
          23.65782747603834,
          23.65782747603834,
          23.65782747603834,
          23.65782747603834,
          23.65782747603834,
          23.65782747603834,
          23.65782747603834,
          23.65782747603834,
          23.65782747603834,
          23.65782747603834,
          23.65782747603834,
          23.65782747603834,
          23.65782747603834,
          23.65782747603834,
          23.65782747603834,
          23.65782747603834,
          23.65782747603834,
          23.65782747603834,
          23.65782747603834,
          23.65782747603834,
          23.65782747603834,
          23.65782747603834,
          23.65782747603834,
          23.65782747603834,
          23.65782747603834,
          23.65782747603834,
          23.65782747603834,
          23.65782747603834,
          23.65782747603834,
          23.65782747603834,
          23.65782747603834,
          23.65782747603834,
          23.65782747603834,
          23.65782747603834,
          23.65782747603834,
          23.65782747603834,
          23.65782747603834,
          23.65782747603834,
          23.65782747603834,
          23.65782747603834,
          23.65782747603834,
          23.65782747603834,
          23.65782747603834,
          23.65782747603834,
          23.65782747603834
         ]
        }
       ],
       "layout": {
        "autosize": true,
        "template": {
         "data": {
          "bar": [
           {
            "error_x": {
             "color": "#2a3f5f"
            },
            "error_y": {
             "color": "#2a3f5f"
            },
            "marker": {
             "line": {
              "color": "#E5ECF6",
              "width": 0.5
             },
             "pattern": {
              "fillmode": "overlay",
              "size": 10,
              "solidity": 0.2
             }
            },
            "type": "bar"
           }
          ],
          "barpolar": [
           {
            "marker": {
             "line": {
              "color": "#E5ECF6",
              "width": 0.5
             },
             "pattern": {
              "fillmode": "overlay",
              "size": 10,
              "solidity": 0.2
             }
            },
            "type": "barpolar"
           }
          ],
          "carpet": [
           {
            "aaxis": {
             "endlinecolor": "#2a3f5f",
             "gridcolor": "white",
             "linecolor": "white",
             "minorgridcolor": "white",
             "startlinecolor": "#2a3f5f"
            },
            "baxis": {
             "endlinecolor": "#2a3f5f",
             "gridcolor": "white",
             "linecolor": "white",
             "minorgridcolor": "white",
             "startlinecolor": "#2a3f5f"
            },
            "type": "carpet"
           }
          ],
          "choropleth": [
           {
            "colorbar": {
             "outlinewidth": 0,
             "ticks": ""
            },
            "type": "choropleth"
           }
          ],
          "contour": [
           {
            "colorbar": {
             "outlinewidth": 0,
             "ticks": ""
            },
            "colorscale": [
             [
              0,
              "#0d0887"
             ],
             [
              0.1111111111111111,
              "#46039f"
             ],
             [
              0.2222222222222222,
              "#7201a8"
             ],
             [
              0.3333333333333333,
              "#9c179e"
             ],
             [
              0.4444444444444444,
              "#bd3786"
             ],
             [
              0.5555555555555556,
              "#d8576b"
             ],
             [
              0.6666666666666666,
              "#ed7953"
             ],
             [
              0.7777777777777778,
              "#fb9f3a"
             ],
             [
              0.8888888888888888,
              "#fdca26"
             ],
             [
              1,
              "#f0f921"
             ]
            ],
            "type": "contour"
           }
          ],
          "contourcarpet": [
           {
            "colorbar": {
             "outlinewidth": 0,
             "ticks": ""
            },
            "type": "contourcarpet"
           }
          ],
          "heatmap": [
           {
            "colorbar": {
             "outlinewidth": 0,
             "ticks": ""
            },
            "colorscale": [
             [
              0,
              "#0d0887"
             ],
             [
              0.1111111111111111,
              "#46039f"
             ],
             [
              0.2222222222222222,
              "#7201a8"
             ],
             [
              0.3333333333333333,
              "#9c179e"
             ],
             [
              0.4444444444444444,
              "#bd3786"
             ],
             [
              0.5555555555555556,
              "#d8576b"
             ],
             [
              0.6666666666666666,
              "#ed7953"
             ],
             [
              0.7777777777777778,
              "#fb9f3a"
             ],
             [
              0.8888888888888888,
              "#fdca26"
             ],
             [
              1,
              "#f0f921"
             ]
            ],
            "type": "heatmap"
           }
          ],
          "heatmapgl": [
           {
            "colorbar": {
             "outlinewidth": 0,
             "ticks": ""
            },
            "colorscale": [
             [
              0,
              "#0d0887"
             ],
             [
              0.1111111111111111,
              "#46039f"
             ],
             [
              0.2222222222222222,
              "#7201a8"
             ],
             [
              0.3333333333333333,
              "#9c179e"
             ],
             [
              0.4444444444444444,
              "#bd3786"
             ],
             [
              0.5555555555555556,
              "#d8576b"
             ],
             [
              0.6666666666666666,
              "#ed7953"
             ],
             [
              0.7777777777777778,
              "#fb9f3a"
             ],
             [
              0.8888888888888888,
              "#fdca26"
             ],
             [
              1,
              "#f0f921"
             ]
            ],
            "type": "heatmapgl"
           }
          ],
          "histogram": [
           {
            "marker": {
             "pattern": {
              "fillmode": "overlay",
              "size": 10,
              "solidity": 0.2
             }
            },
            "type": "histogram"
           }
          ],
          "histogram2d": [
           {
            "colorbar": {
             "outlinewidth": 0,
             "ticks": ""
            },
            "colorscale": [
             [
              0,
              "#0d0887"
             ],
             [
              0.1111111111111111,
              "#46039f"
             ],
             [
              0.2222222222222222,
              "#7201a8"
             ],
             [
              0.3333333333333333,
              "#9c179e"
             ],
             [
              0.4444444444444444,
              "#bd3786"
             ],
             [
              0.5555555555555556,
              "#d8576b"
             ],
             [
              0.6666666666666666,
              "#ed7953"
             ],
             [
              0.7777777777777778,
              "#fb9f3a"
             ],
             [
              0.8888888888888888,
              "#fdca26"
             ],
             [
              1,
              "#f0f921"
             ]
            ],
            "type": "histogram2d"
           }
          ],
          "histogram2dcontour": [
           {
            "colorbar": {
             "outlinewidth": 0,
             "ticks": ""
            },
            "colorscale": [
             [
              0,
              "#0d0887"
             ],
             [
              0.1111111111111111,
              "#46039f"
             ],
             [
              0.2222222222222222,
              "#7201a8"
             ],
             [
              0.3333333333333333,
              "#9c179e"
             ],
             [
              0.4444444444444444,
              "#bd3786"
             ],
             [
              0.5555555555555556,
              "#d8576b"
             ],
             [
              0.6666666666666666,
              "#ed7953"
             ],
             [
              0.7777777777777778,
              "#fb9f3a"
             ],
             [
              0.8888888888888888,
              "#fdca26"
             ],
             [
              1,
              "#f0f921"
             ]
            ],
            "type": "histogram2dcontour"
           }
          ],
          "mesh3d": [
           {
            "colorbar": {
             "outlinewidth": 0,
             "ticks": ""
            },
            "type": "mesh3d"
           }
          ],
          "parcoords": [
           {
            "line": {
             "colorbar": {
              "outlinewidth": 0,
              "ticks": ""
             }
            },
            "type": "parcoords"
           }
          ],
          "pie": [
           {
            "automargin": true,
            "type": "pie"
           }
          ],
          "scatter": [
           {
            "marker": {
             "colorbar": {
              "outlinewidth": 0,
              "ticks": ""
             }
            },
            "type": "scatter"
           }
          ],
          "scatter3d": [
           {
            "line": {
             "colorbar": {
              "outlinewidth": 0,
              "ticks": ""
             }
            },
            "marker": {
             "colorbar": {
              "outlinewidth": 0,
              "ticks": ""
             }
            },
            "type": "scatter3d"
           }
          ],
          "scattercarpet": [
           {
            "marker": {
             "colorbar": {
              "outlinewidth": 0,
              "ticks": ""
             }
            },
            "type": "scattercarpet"
           }
          ],
          "scattergeo": [
           {
            "marker": {
             "colorbar": {
              "outlinewidth": 0,
              "ticks": ""
             }
            },
            "type": "scattergeo"
           }
          ],
          "scattergl": [
           {
            "marker": {
             "colorbar": {
              "outlinewidth": 0,
              "ticks": ""
             }
            },
            "type": "scattergl"
           }
          ],
          "scattermapbox": [
           {
            "marker": {
             "colorbar": {
              "outlinewidth": 0,
              "ticks": ""
             }
            },
            "type": "scattermapbox"
           }
          ],
          "scatterpolar": [
           {
            "marker": {
             "colorbar": {
              "outlinewidth": 0,
              "ticks": ""
             }
            },
            "type": "scatterpolar"
           }
          ],
          "scatterpolargl": [
           {
            "marker": {
             "colorbar": {
              "outlinewidth": 0,
              "ticks": ""
             }
            },
            "type": "scatterpolargl"
           }
          ],
          "scatterternary": [
           {
            "marker": {
             "colorbar": {
              "outlinewidth": 0,
              "ticks": ""
             }
            },
            "type": "scatterternary"
           }
          ],
          "surface": [
           {
            "colorbar": {
             "outlinewidth": 0,
             "ticks": ""
            },
            "colorscale": [
             [
              0,
              "#0d0887"
             ],
             [
              0.1111111111111111,
              "#46039f"
             ],
             [
              0.2222222222222222,
              "#7201a8"
             ],
             [
              0.3333333333333333,
              "#9c179e"
             ],
             [
              0.4444444444444444,
              "#bd3786"
             ],
             [
              0.5555555555555556,
              "#d8576b"
             ],
             [
              0.6666666666666666,
              "#ed7953"
             ],
             [
              0.7777777777777778,
              "#fb9f3a"
             ],
             [
              0.8888888888888888,
              "#fdca26"
             ],
             [
              1,
              "#f0f921"
             ]
            ],
            "type": "surface"
           }
          ],
          "table": [
           {
            "cells": {
             "fill": {
              "color": "#EBF0F8"
             },
             "line": {
              "color": "white"
             }
            },
            "header": {
             "fill": {
              "color": "#C8D4E3"
             },
             "line": {
              "color": "white"
             }
            },
            "type": "table"
           }
          ]
         },
         "layout": {
          "annotationdefaults": {
           "arrowcolor": "#2a3f5f",
           "arrowhead": 0,
           "arrowwidth": 1
          },
          "autotypenumbers": "strict",
          "coloraxis": {
           "colorbar": {
            "outlinewidth": 0,
            "ticks": ""
           }
          },
          "colorscale": {
           "diverging": [
            [
             0,
             "#8e0152"
            ],
            [
             0.1,
             "#c51b7d"
            ],
            [
             0.2,
             "#de77ae"
            ],
            [
             0.3,
             "#f1b6da"
            ],
            [
             0.4,
             "#fde0ef"
            ],
            [
             0.5,
             "#f7f7f7"
            ],
            [
             0.6,
             "#e6f5d0"
            ],
            [
             0.7,
             "#b8e186"
            ],
            [
             0.8,
             "#7fbc41"
            ],
            [
             0.9,
             "#4d9221"
            ],
            [
             1,
             "#276419"
            ]
           ],
           "sequential": [
            [
             0,
             "#0d0887"
            ],
            [
             0.1111111111111111,
             "#46039f"
            ],
            [
             0.2222222222222222,
             "#7201a8"
            ],
            [
             0.3333333333333333,
             "#9c179e"
            ],
            [
             0.4444444444444444,
             "#bd3786"
            ],
            [
             0.5555555555555556,
             "#d8576b"
            ],
            [
             0.6666666666666666,
             "#ed7953"
            ],
            [
             0.7777777777777778,
             "#fb9f3a"
            ],
            [
             0.8888888888888888,
             "#fdca26"
            ],
            [
             1,
             "#f0f921"
            ]
           ],
           "sequentialminus": [
            [
             0,
             "#0d0887"
            ],
            [
             0.1111111111111111,
             "#46039f"
            ],
            [
             0.2222222222222222,
             "#7201a8"
            ],
            [
             0.3333333333333333,
             "#9c179e"
            ],
            [
             0.4444444444444444,
             "#bd3786"
            ],
            [
             0.5555555555555556,
             "#d8576b"
            ],
            [
             0.6666666666666666,
             "#ed7953"
            ],
            [
             0.7777777777777778,
             "#fb9f3a"
            ],
            [
             0.8888888888888888,
             "#fdca26"
            ],
            [
             1,
             "#f0f921"
            ]
           ]
          },
          "colorway": [
           "#636efa",
           "#EF553B",
           "#00cc96",
           "#ab63fa",
           "#FFA15A",
           "#19d3f3",
           "#FF6692",
           "#B6E880",
           "#FF97FF",
           "#FECB52"
          ],
          "font": {
           "color": "#2a3f5f"
          },
          "geo": {
           "bgcolor": "white",
           "lakecolor": "white",
           "landcolor": "#E5ECF6",
           "showlakes": true,
           "showland": true,
           "subunitcolor": "white"
          },
          "hoverlabel": {
           "align": "left"
          },
          "hovermode": "closest",
          "mapbox": {
           "style": "light"
          },
          "paper_bgcolor": "white",
          "plot_bgcolor": "#E5ECF6",
          "polar": {
           "angularaxis": {
            "gridcolor": "white",
            "linecolor": "white",
            "ticks": ""
           },
           "bgcolor": "#E5ECF6",
           "radialaxis": {
            "gridcolor": "white",
            "linecolor": "white",
            "ticks": ""
           }
          },
          "scene": {
           "xaxis": {
            "backgroundcolor": "#E5ECF6",
            "gridcolor": "white",
            "gridwidth": 2,
            "linecolor": "white",
            "showbackground": true,
            "ticks": "",
            "zerolinecolor": "white"
           },
           "yaxis": {
            "backgroundcolor": "#E5ECF6",
            "gridcolor": "white",
            "gridwidth": 2,
            "linecolor": "white",
            "showbackground": true,
            "ticks": "",
            "zerolinecolor": "white"
           },
           "zaxis": {
            "backgroundcolor": "#E5ECF6",
            "gridcolor": "white",
            "gridwidth": 2,
            "linecolor": "white",
            "showbackground": true,
            "ticks": "",
            "zerolinecolor": "white"
           }
          },
          "shapedefaults": {
           "line": {
            "color": "#2a3f5f"
           }
          },
          "ternary": {
           "aaxis": {
            "gridcolor": "white",
            "linecolor": "white",
            "ticks": ""
           },
           "baxis": {
            "gridcolor": "white",
            "linecolor": "white",
            "ticks": ""
           },
           "bgcolor": "#E5ECF6",
           "caxis": {
            "gridcolor": "white",
            "linecolor": "white",
            "ticks": ""
           }
          },
          "title": {
           "x": 0.05
          },
          "xaxis": {
           "automargin": true,
           "gridcolor": "white",
           "linecolor": "white",
           "ticks": "",
           "title": {
            "standoff": 15
           },
           "zerolinecolor": "white",
           "zerolinewidth": 2
          },
          "yaxis": {
           "automargin": true,
           "gridcolor": "white",
           "linecolor": "white",
           "ticks": "",
           "title": {
            "standoff": 15
           },
           "zerolinecolor": "white",
           "zerolinewidth": 2
          }
         }
        },
        "xaxis": {
         "autorange": true,
         "range": [
          8.63834808259587,
          23.06165191740413
         ],
         "type": "linear"
        },
        "yaxis": {
         "autorange": true,
         "range": [
          9.565533980582524,
          43.93446601941748
         ],
         "type": "linear"
        }
       }
      },
      "image/png": "[encoded data removed]",
      "text/html": [
       "<div>                            <div id=\"610aa264-c387-46eb-82b3-0a11b18a4ef3\" class=\"plotly-graph-div\" style=\"height:525px; width:100%;\"></div>            <script type=\"text/javascript\">                require([\"plotly\"], function(Plotly) {                    window.PLOTLYENV=window.PLOTLYENV || {};                                    if (document.getElementById(\"610aa264-c387-46eb-82b3-0a11b18a4ef3\")) {                    Plotly.newPlot(                        \"610aa264-c387-46eb-82b3-0a11b18a4ef3\",                        [{\"line\":{\"color\":\"royalblue\"},\"mode\":\"markers\",\"name\":\"observed\",\"x\":[19.5,10.5,18.0,13.5,15.5,15.0,12.0,11.3,14.0,15.4,21.0,14.4,21.0,14.7,15.7,15.0,11.4,13.4,13.2,12.5,12.5,12.5,17.0,19.0,14.7,20.7,17.4,21.0,14.4,15.4,15.0,14.0,18.7,18.7,19.5,15.5,11.1,12.0,13.0,19.0,15.5,21.0,12.6,15.3,13.5,12.8,14.5,13.0,18.1,22.2,14.5,16.0,9.5,14.4,11.0,15.5,11.5,17.5,10.0,17.2,17.7,15.5,16.5,14.5,13.7,15.0,17.0,16.6,12.5,9.5,16.5,14.2,18.2,17.0,16.4,13.9,16.9,16.0,13.2],\"y\":[20.0,17.0,22.0,12.0,16.0,24.0,14.0,28.8,31.9,25.1,15.0,36.1,18.0,41.5,32.0,27.4,32.7,17.6,19.2,17.5,15.0,12.0,23.0,31.0,22.0,29.9,23.0,32.0,35.7,21.5,18.0,26.0,18.6,19.1,29.0,19.0,16.0,13.0,13.0,32.0,32.1,26.0,25.4,29.8,19.0,14.5,24.0,19.0,26.4,23.9,14.0,31.0,16.0,33.7,12.0,24.0,12.0,25.0,14.0,20.5,20.0,14.0,22.0,22.0,15.5,13.0,16.0,29.5,26.0,15.0,18.0,29.0,20.5,38.0,30.0,15.5,20.5,29.0,33.5],\"type\":\"scatter\"},{\"line\":{\"color\":\"orange\"},\"mode\":\"markers\",\"name\":\"predicted\",\"x\":[19.5,10.5,18.0,13.5,15.5,15.0,12.0,11.3,14.0,15.4,21.0,14.4,21.0,14.7,15.7,15.0,11.4,13.4,13.2,12.5,12.5,12.5,17.0,19.0,14.7,20.7,17.4,21.0,14.4,15.4,15.0,14.0,18.7,18.7,19.5,15.5,11.1,12.0,13.0,19.0,15.5,21.0,12.6,15.3,13.5,12.8,14.5,13.0,18.1,22.2,14.5,16.0,9.5,14.4,11.0,15.5,11.5,17.5,10.0,17.2,17.7,15.5,16.5,14.5,13.7,15.0,17.0,16.6,12.5,9.5,16.5,14.2,18.2,17.0,16.4,13.9,16.9,16.0,13.2],\"y\":[23.65782747603834,23.65782747603834,23.65782747603834,23.65782747603834,23.65782747603834,23.65782747603834,23.65782747603834,23.65782747603834,23.65782747603834,23.65782747603834,23.65782747603834,23.65782747603834,23.65782747603834,23.657827476038342,23.65782747603834,23.65782747603834,23.65782747603834,23.65782747603834,23.65782747603834,23.657827476038342,23.65782747603834,23.65782747603834,23.65782747603834,23.65782747603834,23.65782747603834,23.65782747603834,23.65782747603834,23.65782747603834,23.65782747603834,23.65782747603834,23.65782747603834,23.65782747603834,23.65782747603834,23.65782747603834,23.65782747603834,23.65782747603834,23.65782747603834,23.65782747603834,23.65782747603834,23.65782747603834,23.65782747603834,23.65782747603834,23.65782747603834,23.65782747603834,23.65782747603834,23.65782747603834,23.65782747603834,23.65782747603834,23.65782747603834,23.65782747603834,23.65782747603834,23.65782747603834,23.65782747603834,23.65782747603834,23.65782747603834,23.65782747603834,23.65782747603834,23.65782747603834,23.65782747603834,23.65782747603834,23.65782747603834,23.65782747603834,23.65782747603834,23.65782747603834,23.65782747603834,23.65782747603834,23.65782747603834,23.65782747603834,23.65782747603834,23.65782747603834,23.65782747603834,23.65782747603834,23.65782747603834,23.65782747603834,23.65782747603834,23.65782747603834,23.65782747603834,23.65782747603834,23.65782747603834],\"type\":\"scatter\"}],                        {\"template\":{\"data\":{\"bar\":[{\"error_x\":{\"color\":\"#2a3f5f\"},\"error_y\":{\"color\":\"#2a3f5f\"},\"marker\":{\"line\":{\"color\":\"#E5ECF6\",\"width\":0.5},\"pattern\":{\"fillmode\":\"overlay\",\"size\":10,\"solidity\":0.2}},\"type\":\"bar\"}],\"barpolar\":[{\"marker\":{\"line\":{\"color\":\"#E5ECF6\",\"width\":0.5},\"pattern\":{\"fillmode\":\"overlay\",\"size\":10,\"solidity\":0.2}},\"type\":\"barpolar\"}],\"carpet\":[{\"aaxis\":{\"endlinecolor\":\"#2a3f5f\",\"gridcolor\":\"white\",\"linecolor\":\"white\",\"minorgridcolor\":\"white\",\"startlinecolor\":\"#2a3f5f\"},\"baxis\":{\"endlinecolor\":\"#2a3f5f\",\"gridcolor\":\"white\",\"linecolor\":\"white\",\"minorgridcolor\":\"white\",\"startlinecolor\":\"#2a3f5f\"},\"type\":\"carpet\"}],\"choropleth\":[{\"colorbar\":{\"outlinewidth\":0,\"ticks\":\"\"},\"type\":\"choropleth\"}],\"contour\":[{\"colorbar\":{\"outlinewidth\":0,\"ticks\":\"\"},\"colorscale\":[[0.0,\"#0d0887\"],[0.1111111111111111,\"#46039f\"],[0.2222222222222222,\"#7201a8\"],[0.3333333333333333,\"#9c179e\"],[0.4444444444444444,\"#bd3786\"],[0.5555555555555556,\"#d8576b\"],[0.6666666666666666,\"#ed7953\"],[0.7777777777777778,\"#fb9f3a\"],[0.8888888888888888,\"#fdca26\"],[1.0,\"#f0f921\"]],\"type\":\"contour\"}],\"contourcarpet\":[{\"colorbar\":{\"outlinewidth\":0,\"ticks\":\"\"},\"type\":\"contourcarpet\"}],\"heatmap\":[{\"colorbar\":{\"outlinewidth\":0,\"ticks\":\"\"},\"colorscale\":[[0.0,\"#0d0887\"],[0.1111111111111111,\"#46039f\"],[0.2222222222222222,\"#7201a8\"],[0.3333333333333333,\"#9c179e\"],[0.4444444444444444,\"#bd3786\"],[0.5555555555555556,\"#d8576b\"],[0.6666666666666666,\"#ed7953\"],[0.7777777777777778,\"#fb9f3a\"],[0.8888888888888888,\"#fdca26\"],[1.0,\"#f0f921\"]],\"type\":\"heatmap\"}],\"heatmapgl\":[{\"colorbar\":{\"outlinewidth\":0,\"ticks\":\"\"},\"colorscale\":[[0.0,\"#0d0887\"],[0.1111111111111111,\"#46039f\"],[0.2222222222222222,\"#7201a8\"],[0.3333333333333333,\"#9c179e\"],[0.4444444444444444,\"#bd3786\"],[0.5555555555555556,\"#d8576b\"],[0.6666666666666666,\"#ed7953\"],[0.7777777777777778,\"#fb9f3a\"],[0.8888888888888888,\"#fdca26\"],[1.0,\"#f0f921\"]],\"type\":\"heatmapgl\"}],\"histogram\":[{\"marker\":{\"pattern\":{\"fillmode\":\"overlay\",\"size\":10,\"solidity\":0.2}},\"type\":\"histogram\"}],\"histogram2d\":[{\"colorbar\":{\"outlinewidth\":0,\"ticks\":\"\"},\"colorscale\":[[0.0,\"#0d0887\"],[0.1111111111111111,\"#46039f\"],[0.2222222222222222,\"#7201a8\"],[0.3333333333333333,\"#9c179e\"],[0.4444444444444444,\"#bd3786\"],[0.5555555555555556,\"#d8576b\"],[0.6666666666666666,\"#ed7953\"],[0.7777777777777778,\"#fb9f3a\"],[0.8888888888888888,\"#fdca26\"],[1.0,\"#f0f921\"]],\"type\":\"histogram2d\"}],\"histogram2dcontour\":[{\"colorbar\":{\"outlinewidth\":0,\"ticks\":\"\"},\"colorscale\":[[0.0,\"#0d0887\"],[0.1111111111111111,\"#46039f\"],[0.2222222222222222,\"#7201a8\"],[0.3333333333333333,\"#9c179e\"],[0.4444444444444444,\"#bd3786\"],[0.5555555555555556,\"#d8576b\"],[0.6666666666666666,\"#ed7953\"],[0.7777777777777778,\"#fb9f3a\"],[0.8888888888888888,\"#fdca26\"],[1.0,\"#f0f921\"]],\"type\":\"histogram2dcontour\"}],\"mesh3d\":[{\"colorbar\":{\"outlinewidth\":0,\"ticks\":\"\"},\"type\":\"mesh3d\"}],\"parcoords\":[{\"line\":{\"colorbar\":{\"outlinewidth\":0,\"ticks\":\"\"}},\"type\":\"parcoords\"}],\"pie\":[{\"automargin\":true,\"type\":\"pie\"}],\"scatter\":[{\"marker\":{\"colorbar\":{\"outlinewidth\":0,\"ticks\":\"\"}},\"type\":\"scatter\"}],\"scatter3d\":[{\"line\":{\"colorbar\":{\"outlinewidth\":0,\"ticks\":\"\"}},\"marker\":{\"colorbar\":{\"outlinewidth\":0,\"ticks\":\"\"}},\"type\":\"scatter3d\"}],\"scattercarpet\":[{\"marker\":{\"colorbar\":{\"outlinewidth\":0,\"ticks\":\"\"}},\"type\":\"scattercarpet\"}],\"scattergeo\":[{\"marker\":{\"colorbar\":{\"outlinewidth\":0,\"ticks\":\"\"}},\"type\":\"scattergeo\"}],\"scattergl\":[{\"marker\":{\"colorbar\":{\"outlinewidth\":0,\"ticks\":\"\"}},\"type\":\"scattergl\"}],\"scattermapbox\":[{\"marker\":{\"colorbar\":{\"outlinewidth\":0,\"ticks\":\"\"}},\"type\":\"scattermapbox\"}],\"scatterpolar\":[{\"marker\":{\"colorbar\":{\"outlinewidth\":0,\"ticks\":\"\"}},\"type\":\"scatterpolar\"}],\"scatterpolargl\":[{\"marker\":{\"colorbar\":{\"outlinewidth\":0,\"ticks\":\"\"}},\"type\":\"scatterpolargl\"}],\"scatterternary\":[{\"marker\":{\"colorbar\":{\"outlinewidth\":0,\"ticks\":\"\"}},\"type\":\"scatterternary\"}],\"surface\":[{\"colorbar\":{\"outlinewidth\":0,\"ticks\":\"\"},\"colorscale\":[[0.0,\"#0d0887\"],[0.1111111111111111,\"#46039f\"],[0.2222222222222222,\"#7201a8\"],[0.3333333333333333,\"#9c179e\"],[0.4444444444444444,\"#bd3786\"],[0.5555555555555556,\"#d8576b\"],[0.6666666666666666,\"#ed7953\"],[0.7777777777777778,\"#fb9f3a\"],[0.8888888888888888,\"#fdca26\"],[1.0,\"#f0f921\"]],\"type\":\"surface\"}],\"table\":[{\"cells\":{\"fill\":{\"color\":\"#EBF0F8\"},\"line\":{\"color\":\"white\"}},\"header\":{\"fill\":{\"color\":\"#C8D4E3\"},\"line\":{\"color\":\"white\"}},\"type\":\"table\"}]},\"layout\":{\"annotationdefaults\":{\"arrowcolor\":\"#2a3f5f\",\"arrowhead\":0,\"arrowwidth\":1},\"autotypenumbers\":\"strict\",\"coloraxis\":{\"colorbar\":{\"outlinewidth\":0,\"ticks\":\"\"}},\"colorscale\":{\"diverging\":[[0,\"#8e0152\"],[0.1,\"#c51b7d\"],[0.2,\"#de77ae\"],[0.3,\"#f1b6da\"],[0.4,\"#fde0ef\"],[0.5,\"#f7f7f7\"],[0.6,\"#e6f5d0\"],[0.7,\"#b8e186\"],[0.8,\"#7fbc41\"],[0.9,\"#4d9221\"],[1,\"#276419\"]],\"sequential\":[[0.0,\"#0d0887\"],[0.1111111111111111,\"#46039f\"],[0.2222222222222222,\"#7201a8\"],[0.3333333333333333,\"#9c179e\"],[0.4444444444444444,\"#bd3786\"],[0.5555555555555556,\"#d8576b\"],[0.6666666666666666,\"#ed7953\"],[0.7777777777777778,\"#fb9f3a\"],[0.8888888888888888,\"#fdca26\"],[1.0,\"#f0f921\"]],\"sequentialminus\":[[0.0,\"#0d0887\"],[0.1111111111111111,\"#46039f\"],[0.2222222222222222,\"#7201a8\"],[0.3333333333333333,\"#9c179e\"],[0.4444444444444444,\"#bd3786\"],[0.5555555555555556,\"#d8576b\"],[0.6666666666666666,\"#ed7953\"],[0.7777777777777778,\"#fb9f3a\"],[0.8888888888888888,\"#fdca26\"],[1.0,\"#f0f921\"]]},\"colorway\":[\"#636efa\",\"#EF553B\",\"#00cc96\",\"#ab63fa\",\"#FFA15A\",\"#19d3f3\",\"#FF6692\",\"#B6E880\",\"#FF97FF\",\"#FECB52\"],\"font\":{\"color\":\"#2a3f5f\"},\"geo\":{\"bgcolor\":\"white\",\"lakecolor\":\"white\",\"landcolor\":\"#E5ECF6\",\"showlakes\":true,\"showland\":true,\"subunitcolor\":\"white\"},\"hoverlabel\":{\"align\":\"left\"},\"hovermode\":\"closest\",\"mapbox\":{\"style\":\"light\"},\"paper_bgcolor\":\"white\",\"plot_bgcolor\":\"#E5ECF6\",\"polar\":{\"angularaxis\":{\"gridcolor\":\"white\",\"linecolor\":\"white\",\"ticks\":\"\"},\"bgcolor\":\"#E5ECF6\",\"radialaxis\":{\"gridcolor\":\"white\",\"linecolor\":\"white\",\"ticks\":\"\"}},\"scene\":{\"xaxis\":{\"backgroundcolor\":\"#E5ECF6\",\"gridcolor\":\"white\",\"gridwidth\":2,\"linecolor\":\"white\",\"showbackground\":true,\"ticks\":\"\",\"zerolinecolor\":\"white\"},\"yaxis\":{\"backgroundcolor\":\"#E5ECF6\",\"gridcolor\":\"white\",\"gridwidth\":2,\"linecolor\":\"white\",\"showbackground\":true,\"ticks\":\"\",\"zerolinecolor\":\"white\"},\"zaxis\":{\"backgroundcolor\":\"#E5ECF6\",\"gridcolor\":\"white\",\"gridwidth\":2,\"linecolor\":\"white\",\"showbackground\":true,\"ticks\":\"\",\"zerolinecolor\":\"white\"}},\"shapedefaults\":{\"line\":{\"color\":\"#2a3f5f\"}},\"ternary\":{\"aaxis\":{\"gridcolor\":\"white\",\"linecolor\":\"white\",\"ticks\":\"\"},\"baxis\":{\"gridcolor\":\"white\",\"linecolor\":\"white\",\"ticks\":\"\"},\"bgcolor\":\"#E5ECF6\",\"caxis\":{\"gridcolor\":\"white\",\"linecolor\":\"white\",\"ticks\":\"\"}},\"title\":{\"x\":0.05},\"xaxis\":{\"automargin\":true,\"gridcolor\":\"white\",\"linecolor\":\"white\",\"ticks\":\"\",\"title\":{\"standoff\":15},\"zerolinecolor\":\"white\",\"zerolinewidth\":2},\"yaxis\":{\"automargin\":true,\"gridcolor\":\"white\",\"linecolor\":\"white\",\"ticks\":\"\",\"title\":{\"standoff\":15},\"zerolinecolor\":\"white\",\"zerolinewidth\":2}}}},                        {\"responsive\": true}                    ).then(function(){\n",
       "                            \n",
       "var gd = document.getElementById('610aa264-c387-46eb-82b3-0a11b18a4ef3');\n",
       "var x = new MutationObserver(function (mutations, observer) {{\n",
       "        var display = window.getComputedStyle(gd).display;\n",
       "        if (!display || display === 'none') {{\n",
       "            console.log([gd, 'removed!']);\n",
       "            Plotly.purge(gd);\n",
       "            observer.disconnect();\n",
       "        }}\n",
       "}});\n",
       "\n",
       "// Listen for the removal of the full notebook cells\n",
       "var notebookContainer = gd.closest('#notebook-container');\n",
       "if (notebookContainer) {{\n",
       "    x.observe(notebookContainer, {childList: true});\n",
       "}}\n",
       "\n",
       "// Listen for the clearing of the current output cell\n",
       "var outputEl = gd.closest('.output');\n",
       "if (outputEl) {{\n",
       "    x.observe(outputEl, {childList: true});\n",
       "}}\n",
       "\n",
       "                        })                };                });            </script>        </div>"
      ]
     },
     "metadata": {},
     "output_type": "display_data"
    }
   ],
   "source": [
    "import math\n",
    "\n",
    "for j in [1, 10, 25, 50, 100, 250, 313]:\n",
    "  std_clf = pipe.make_pipeline(pp.StandardScaler(), neighbors.KNeighborsRegressor(n_neighbors = j))\n",
    "  (std_clf.fit(splits[0], np.ravel(splits[2])))\n",
    "  predictions = std_clf.predict(splits[1])\n",
    "  rmse = math.sqrt(metrics.mean_squared_error(splits[3], predictions))\n",
    "  fig = go.Figure()\n",
    "  Xtest = splits[1]\n",
    "  acceleration = Xtest[['acceleration']]\n",
    "  (fig.add_scatter(x= (np.ravel(acceleration)), y= (np.ravel(splits[3])), mode=\"markers\", name=\"observed\", line=dict(color='royalblue')))\n",
    "  (fig.add_scatter(x= (np.ravel(acceleration)), y= (np.ravel(predictions)), mode=\"markers\", name=\"predicted\", line=dict(color='orange')))\n",
    "  (fig.show())\n",
    "\n",
    "#<xml xmlns=\"https://developers.google.com/blockly/xml\"><variables><variable id=\"nr%W_%EA(*n$_f,PuH#c\">j</variable><variable id=\"`P)`+jl|;h{.[r}{78q6\">std_clf</variable><variable id=\"=z9KfSBWpoDS,oj-?yx,\">pipe</variable><variable id=\"=`)h;YQmtv}6uka]9EYT\">predictions</variable><variable id=\".T`xqZHAu7r0$MQ4s=Yg\">pp</variable><variable id=\"MvUG^P$o3=I*6/67?Rk:\">neighbors</variable><variable id=\"RN+myW;vx){}Q0LuFA9y\">rmse</variable><variable id=\"Zhzp)s*VL?V@ES3(j:*b\">np</variable><variable id=\"@U5l^JIp,}.H=ECCW?@g\">fig</variable><variable id=\"_ut$e0PL4OMi4o1MXTpw\">splits</variable><variable id=\")}+w@N9iB/j=:+PLkMv8\">metrics</variable><variable id=\"`iml3^SQ8#}M{aSRdsjz\">go</variable><variable id=\"fe.98]:,bU@x*=}zaJ1/\">Xtest</variable><variable id=\"EgaJ]?Hcx@h7lNxxzP4V\">acceleration</variable></variables><block type=\"controls_forEach\" id=\"MbWYZ/u3Q#+3*u`TM}ce\" x=\"243\" y=\"334\"><field name=\"VAR\" id=\"nr%W_%EA(*n$_f,PuH#c\">j</field><value name=\"LIST\"><block type=\"lists_create_with\" id=\"Q6_EXa41T:y(.uy[pm.V\"><mutation items=\"6\"></mutation><value name=\"ADD0\"><block type=\"math_number\" id=\"+BJ@yT0IgJORgO^/))c~\"><field name=\"NUM\">1</field></block></value><value name=\"ADD1\"><block type=\"math_number\" id=\".~r[qy7$p-Jy_g:ACHYr\"><field name=\"NUM\">10</field></block></value><value name=\"ADD2\"><block type=\"math_number\" id=\"w!m`o}C;PB7OhYP5ZTq~\"><field name=\"NUM\">25</field></block></value><value name=\"ADD3\"><block type=\"math_number\" id=\"?!EK)M.j{u~@|;ytL|nd\"><field name=\"NUM\">50</field></block></value><value name=\"ADD4\"><block type=\"math_number\" id=\"cLtaU]#w-;S(sUq8pw/l\"><field name=\"NUM\">100</field></block></value><value name=\"ADD5\"><block type=\"math_number\" id=\"910qY[[4~4nziBPT;K+G\"><field name=\"NUM\">250</field></block></value></block></value><statement name=\"DO\"><block type=\"variables_set\" id=\"8APEX{xGs3Qz/$NzTFrY\"><field name=\"VAR\" id=\"`P)`+jl|;h{.[r}{78q6\">std_clf</field><value name=\"VALUE\"><block type=\"varDoMethod_Python\" id=\"W=ep`rJjDXvsAV^R+NIG\"><field name=\"VAR\" id=\"=z9KfSBWpoDS,oj-?yx,\">pipe</field><field name=\"MEMBER\">make_pipeline</field><data>pipe:make_pipeline</data><value name=\"INPUT\"><block type=\"lists_create_with\" id=\"ed7Q+#-kPzf4R,8)[q_Z\"><mutation items=\"2\"></mutation><value name=\"ADD0\"><block type=\"varCreateObject_Python\" id=\"ME+Z@t~BnN}LL22r%Hxt\"><field name=\"VAR\" id=\".T`xqZHAu7r0$MQ4s=Yg\">pp</field><field name=\"MEMBER\">StandardScaler</field><data>pp:StandardScaler</data></block></value><value name=\"ADD1\"><block type=\"varCreateObject_Python\" id=\"p=kmgsx6gSLD(RSPi]We\"><field name=\"VAR\" id=\"MvUG^P$o3=I*6/67?Rk:\">neighbors</field><field name=\"MEMBER\">KNeighborsRegressor</field><data>neighbors:KNeighborsRegressor</data><value name=\"INPUT\"><block type=\"lists_create_with\" id=\"%{hTJRYu`A$B-B}N|W^|\"><mutation items=\"1\"></mutation><value name=\"ADD0\"><block type=\"dummyOutputCodeBlock_Python\" id=\"4*MO9`pDvGbjv^%|]#Jm\"><field name=\"CODE\">n_neighbors = j</field></block></value></block></value></block></value></block></value></block></value><next><block type=\"valueNoOutputCodeBlock_Python\" id=\"nCe{WO~.SVUJ*REfHN;r\"><field name=\"CODE\"></field><value name=\"INPUT\"><block type=\"varDoMethod_Python\" id=\"Fm%sV]3?)?kc0h:9S9IQ\"><field name=\"VAR\" id=\"`P)`+jl|;h{.[r}{78q6\">std_clf</field><field name=\"MEMBER\">fit</field><data>std_clf:fit</data><value name=\"INPUT\"><block type=\"lists_create_with\" id=\"bkqo.bU~bUHGJR3.PCNj\"><mutation items=\"2\"></mutation><value name=\"ADD0\"><block type=\"lists_getIndex\" id=\"c-OmE5.Qf*x_-O+oEcL(\"><mutation statement=\"false\" at=\"true\"></mutation><field name=\"MODE\">GET</field><field name=\"WHERE\">FROM_START</field><value name=\"VALUE\"><block type=\"variables_get\" id=\"xDX74mH}[mNJlpBTYt{)\"><field name=\"VAR\" id=\"_ut$e0PL4OMi4o1MXTpw\">splits</field></block></value><value name=\"AT\"><block type=\"math_number\" id=\"qrLzq]pv]HBj!dNAu-9i\"><field name=\"NUM\">1</field></block></value></block></value><value name=\"ADD1\"><block type=\"varDoMethod_Python\" id=\"?U(hh`0ZFjUnfsrL}xQK\"><field name=\"VAR\" id=\"Zhzp)s*VL?V@ES3(j:*b\">np</field><field name=\"MEMBER\">ravel</field><data>np:ravel</data><value name=\"INPUT\"><block type=\"lists_create_with\" id=\"(UU{x68[{=A[p}uG##Eq\"><mutation items=\"1\"></mutation><value name=\"ADD0\"><block type=\"lists_getIndex\" id=\"kcy}-[{;=}P{onxAUnZc\"><mutation statement=\"false\" at=\"true\"></mutation><field name=\"MODE\">GET</field><field name=\"WHERE\">FROM_START</field><value name=\"VALUE\"><block type=\"variables_get\" id=\"di`_Ko4qTbeTQ^v!pa2A\"><field name=\"VAR\" id=\"_ut$e0PL4OMi4o1MXTpw\">splits</field></block></value><value name=\"AT\"><block type=\"math_number\" id=\",i2p$Oad~vpnzpz8YDss\"><field name=\"NUM\">3</field></block></value></block></value></block></value></block></value></block></value></block></value><next><block type=\"variables_set\" id=\"t4FH|^O1fvcXbQ/%eX{o\"><field name=\"VAR\" id=\"=`)h;YQmtv}6uka]9EYT\">predictions</field><value name=\"VALUE\"><block type=\"varDoMethod_Python\" id=\"@~[XlP)bAA[7?k^=6%J2\"><field name=\"VAR\" id=\"`P)`+jl|;h{.[r}{78q6\">std_clf</field><field name=\"MEMBER\">predict</field><data>std_clf:predict</data><value name=\"INPUT\"><block type=\"lists_create_with\" id=\"~`MOj}QguYf}BCZOc7C!\"><mutation items=\"1\"></mutation><value name=\"ADD0\"><block type=\"lists_getIndex\" id=\"h$p4(I@O~CtLDZv)+/nX\"><mutation statement=\"false\" at=\"true\"></mutation><field name=\"MODE\">GET</field><field name=\"WHERE\">FROM_START</field><value name=\"VALUE\"><block type=\"variables_get\" id=\"Kh1qgk~(:R(}S`sfh}?{\"><field name=\"VAR\" id=\"_ut$e0PL4OMi4o1MXTpw\">splits</field></block></value><value name=\"AT\"><block type=\"math_number\" id=\"jyi_*c[[~,{K#t[0Gghj\"><field name=\"NUM\">2</field></block></value></block></value></block></value></block></value><next><block type=\"variables_set\" id=\"6eYPMqa.T*II`(7!/U;_\"><field name=\"VAR\" id=\"RN+myW;vx){}Q0LuFA9y\">rmse</field><value name=\"VALUE\"><block type=\"math_single\" id=\"SI.B#46RorSW7}ZGS{D-\"><field name=\"OP\">ROOT</field><value name=\"NUM\"><shadow type=\"math_number\"><field name=\"NUM\">9</field></shadow><block type=\"varDoMethod_Python\" id=\"7PlC*+UVpHU@Lyq2@_?h\"><field name=\"VAR\" id=\")}+w@N9iB/j=:+PLkMv8\">metrics</field><field name=\"MEMBER\">mean_squared_error</field><data>metrics:mean_squared_error</data><value name=\"INPUT\"><block type=\"lists_create_with\" id=\"ExgoS4A$UNPym77J;1L2\"><mutation items=\"2\"></mutation><value name=\"ADD0\"><block type=\"lists_getIndex\" id=\"JoSeD*7Q$:S1sXw#)5=+\"><mutation statement=\"false\" at=\"true\"></mutation><field name=\"MODE\">GET</field><field name=\"WHERE\">FROM_START</field><value name=\"VALUE\"><block type=\"variables_get\" id=\"OR=]poUbkR)eqh!eV:XW\"><field name=\"VAR\" id=\"_ut$e0PL4OMi4o1MXTpw\">splits</field></block></value><value name=\"AT\"><block type=\"math_number\" id=\"gJ*8#!h/B4O65oy_[TKL\"><field name=\"NUM\">4</field></block></value></block></value><value name=\"ADD1\"><block type=\"variables_get\" id=\"::s[{k@xAHJRWvDND!GY\"><field name=\"VAR\" id=\"=`)h;YQmtv}6uka]9EYT\">predictions</field></block></value></block></value></block></value></block></value><next><block type=\"variables_set\" id=\"ly8Y%ii[8GCym5M*XTf}\"><field name=\"VAR\" id=\"@U5l^JIp,}.H=ECCW?@g\">fig</field><value name=\"VALUE\"><block type=\"varCreateObject_Python\" id=\"*$hJU`,ji-A.;_nb@km1\"><field name=\"VAR\" id=\"`iml3^SQ8#}M{aSRdsjz\">go</field><field name=\"MEMBER\">Figure</field><data>go:Figure</data></block></value><next><block type=\"variables_set\" id=\"J,6}A2Mb!EQZOI!{V:9H\"><field name=\"VAR\" id=\"fe.98]:,bU@x*=}zaJ1/\">Xtest</field><value name=\"VALUE\"><block type=\"lists_getIndex\" id=\"VotoH{8,LACPdpr`.Vxw\"><mutation statement=\"false\" at=\"true\"></mutation><field name=\"MODE\">GET</field><field name=\"WHERE\">FROM_START</field><value name=\"VALUE\"><block type=\"variables_get\" id=\"O78X_lz]+16l~O.Ay(4e\"><field name=\"VAR\" id=\"_ut$e0PL4OMi4o1MXTpw\">splits</field></block></value><value name=\"AT\"><block type=\"math_number\" id=\"Agua]uU.:5;nuCEv;N|B\"><field name=\"NUM\">2</field></block></value></block></value><next><block type=\"variables_set\" id=\"PJ}W61Uv8i.i{pv[R2^3\"><field name=\"VAR\" id=\"EgaJ]?Hcx@h7lNxxzP4V\">acceleration</field><value name=\"VALUE\"><block type=\"indexer_Python\" id=\"`U,WtQ-s/ykG-@M*EK]7\"><field name=\"VAR\" id=\"fe.98]:,bU@x*=}zaJ1/\">Xtest</field><value name=\"INDEX\"><block type=\"lists_create_with\" id=\"L.hd1^CnlDB3x!GMGz}=\"><mutation items=\"1\"></mutation><value name=\"ADD0\"><block type=\"text\" id=\"oZKzm-$w[`POLd2qMF]e\"><field name=\"TEXT\">acceleration</field></block></value></block></value></block></value><next><block type=\"valueNoOutputCodeBlock_Python\" id=\"/s$Qh28XukGb2gUj2OWB\"><field name=\"CODE\"></field><value name=\"INPUT\"><block type=\"varDoMethod_Python\" id=\"Y1(!(t5FFL~;23e-;6gJ\"><field name=\"VAR\" id=\"@U5l^JIp,}.H=ECCW?@g\">fig</field><field name=\"MEMBER\">add_scatter</field><data>fig:add_scatter</data><value name=\"INPUT\"><block type=\"lists_create_with\" id=\"a2|.[Q@0L=yJb^s.8$w.\"><mutation items=\"5\"></mutation><value name=\"ADD0\"><block type=\"valueOutputCodeBlock_Python\" id=\"N*q=?9PqN]MO|!!`{Eq`\"><field name=\"CODE\">x=</field><value name=\"INPUT\"><block type=\"varDoMethod_Python\" id=\"hQ+wE5av9_j:u6=FR=?d\"><field name=\"VAR\" id=\"Zhzp)s*VL?V@ES3(j:*b\">np</field><field name=\"MEMBER\">ravel</field><data>np:ravel</data><value name=\"INPUT\"><block type=\"variables_get\" id=\"?[LkY1#}B,-$gkZ2UP-[\"><field name=\"VAR\" id=\"EgaJ]?Hcx@h7lNxxzP4V\">acceleration</field></block></value></block></value></block></value><value name=\"ADD1\"><block type=\"valueOutputCodeBlock_Python\" id=\"ahplOH@}vlb))m4|31QY\"><field name=\"CODE\">y=</field><value name=\"INPUT\"><block type=\"varDoMethod_Python\" id=\"{yJH?z+#EcbC(ao)Pq5:\"><field name=\"VAR\" id=\"Zhzp)s*VL?V@ES3(j:*b\">np</field><field name=\"MEMBER\">ravel</field><data>np:ravel</data><value name=\"INPUT\"><block type=\"lists_create_with\" id=\"`J@:zU3oLv_m/WBQ??V2\"><mutation items=\"1\"></mutation><value name=\"ADD0\"><block type=\"lists_getIndex\" id=\"TfOa2mb)`cudJ37_.#^j\"><mutation statement=\"false\" at=\"true\"></mutation><field name=\"MODE\">GET</field><field name=\"WHERE\">FROM_START</field><value name=\"VALUE\"><block type=\"variables_get\" id=\"z]]tGE^y*u-Yt0`6:E,R\"><field name=\"VAR\" id=\"_ut$e0PL4OMi4o1MXTpw\">splits</field></block></value><value name=\"AT\"><block type=\"math_number\" id=\"j._f*92QG,LQ}i/KYmIX\"><field name=\"NUM\">4</field></block></value></block></value></block></value></block></value></block></value><value name=\"ADD2\"><block type=\"dummyOutputCodeBlock_Python\" id=\"wQNJeKP:stn|%9IUW`Hl\"><field name=\"CODE\">mode=\"markers\"</field></block></value><value name=\"ADD3\"><block type=\"dummyOutputCodeBlock_Python\" id=\"QibO1)jRKxHvM`evVE;X\"><field name=\"CODE\">name=\"observed\"</field></block></value><value name=\"ADD4\"><block type=\"dummyOutputCodeBlock_Python\" id=\"MkeHG0#jErC_$XDy6OrV\"><field name=\"CODE\">line=dict(color='royalblue')</field></block></value></block></value></block></value><next><block type=\"valueNoOutputCodeBlock_Python\" id=\"UJNyljvgb6I@6(}sAHZZ\"><field name=\"CODE\"></field><value name=\"INPUT\"><block type=\"varDoMethod_Python\" id=\"@fek{ap(4wuJsXT@I=6{\"><field name=\"VAR\" id=\"@U5l^JIp,}.H=ECCW?@g\">fig</field><field name=\"MEMBER\">add_scatter</field><data>fig:add_scatter</data><value name=\"INPUT\"><block type=\"lists_create_with\" id=\"J5.TT2`{2@}RHSuDIB0{\"><mutation items=\"5\"></mutation><value name=\"ADD0\"><block type=\"valueOutputCodeBlock_Python\" id=\"55F^eU)]iA?MZjx.rfuZ\"><field name=\"CODE\">x=</field><value name=\"INPUT\"><block type=\"varDoMethod_Python\" id=\"mjwxWM6lf+^zVv1OwljZ\"><field name=\"VAR\" id=\"Zhzp)s*VL?V@ES3(j:*b\">np</field><field name=\"MEMBER\">ravel</field><data>np:ravel</data><value name=\"INPUT\"><block type=\"variables_get\" id=\"z90VdIa4VqKp#tGV7!ZT\"><field name=\"VAR\" id=\"EgaJ]?Hcx@h7lNxxzP4V\">acceleration</field></block></value></block></value></block></value><value name=\"ADD1\"><block type=\"valueOutputCodeBlock_Python\" id=\"1+/b%|a4Pyk~I]ErNF~-\"><field name=\"CODE\">y=</field><value name=\"INPUT\"><block type=\"varDoMethod_Python\" id=\":)IwC?Ls-bfh]_l)cB:`\"><field name=\"VAR\" id=\"Zhzp)s*VL?V@ES3(j:*b\">np</field><field name=\"MEMBER\">ravel</field><data>np:ravel</data><value name=\"INPUT\"><block type=\"variables_get\" id=\"Yj]L(/3RO$fE=(i/jC}*\"><field name=\"VAR\" id=\"=`)h;YQmtv}6uka]9EYT\">predictions</field></block></value></block></value></block></value><value name=\"ADD2\"><block type=\"dummyOutputCodeBlock_Python\" id=\"^m/w9f{hC4hQU7qz}K/0\"><field name=\"CODE\">mode=\"markers\"</field></block></value><value name=\"ADD3\"><block type=\"dummyOutputCodeBlock_Python\" id=\"9OXU9?*]2m8T.hM-Ht(#\"><field name=\"CODE\">name=\"predicted\"</field></block></value><value name=\"ADD4\"><block type=\"dummyOutputCodeBlock_Python\" id=\"|/6Hflsqp-[u9m%x.Bd=\"><field name=\"CODE\">line=dict(color='orange')</field></block></value></block></value></block></value><next><block type=\"valueNoOutputCodeBlock_Python\" id=\"{3:dbaV{zeIgzBQ[cITw\"><field name=\"CODE\"></field><value name=\"INPUT\"><block type=\"varDoMethod_Python\" id=\"d`.PvpHI)X*_f4k7qIb%\"><field name=\"VAR\" id=\"@U5l^JIp,}.H=ECCW?@g\">fig</field><field name=\"MEMBER\">show</field><data>fig:show</data></block></value></block></next></block></next></block></next></block></next></block></next></block></next></block></next></block></next></block></next></block></statement></block></xml>"
   ]
  },
  {
   "cell_type": "markdown",
   "metadata": {},
   "source": [
    "dataframe.describe()"
   ]
  },
  {
   "cell_type": "code",
   "execution_count": 15,
   "metadata": {},
   "outputs": [
    {
     "data": {
      "text/html": [
       "<div>\n",
       "<style scoped>\n",
       "    .dataframe tbody tr th:only-of-type {\n",
       "        vertical-align: middle;\n",
       "    }\n",
       "\n",
       "    .dataframe tbody tr th {\n",
       "        vertical-align: top;\n",
       "    }\n",
       "\n",
       "    .dataframe thead th {\n",
       "        text-align: right;\n",
       "    }\n",
       "</style>\n",
       "<table border=\"1\" class=\"dataframe\">\n",
       "  <thead>\n",
       "    <tr style=\"text-align: right;\">\n",
       "      <th></th>\n",
       "      <th>mpg</th>\n",
       "      <th>cylinders</th>\n",
       "      <th>displacement</th>\n",
       "      <th>horsepower</th>\n",
       "      <th>weight</th>\n",
       "      <th>acceleration</th>\n",
       "      <th>model_year</th>\n",
       "      <th>origin</th>\n",
       "    </tr>\n",
       "  </thead>\n",
       "  <tbody>\n",
       "    <tr>\n",
       "      <th>count</th>\n",
       "      <td>392.000000</td>\n",
       "      <td>392.000000</td>\n",
       "      <td>392.000000</td>\n",
       "      <td>392.000000</td>\n",
       "      <td>392.000000</td>\n",
       "      <td>392.000000</td>\n",
       "      <td>392.000000</td>\n",
       "      <td>392.000000</td>\n",
       "    </tr>\n",
       "    <tr>\n",
       "      <th>mean</th>\n",
       "      <td>23.445918</td>\n",
       "      <td>5.471939</td>\n",
       "      <td>194.411990</td>\n",
       "      <td>104.469388</td>\n",
       "      <td>2977.584184</td>\n",
       "      <td>15.541327</td>\n",
       "      <td>75.979592</td>\n",
       "      <td>1.576531</td>\n",
       "    </tr>\n",
       "    <tr>\n",
       "      <th>std</th>\n",
       "      <td>7.805007</td>\n",
       "      <td>1.705783</td>\n",
       "      <td>104.644004</td>\n",
       "      <td>38.491160</td>\n",
       "      <td>849.402560</td>\n",
       "      <td>2.758864</td>\n",
       "      <td>3.683737</td>\n",
       "      <td>0.805518</td>\n",
       "    </tr>\n",
       "    <tr>\n",
       "      <th>min</th>\n",
       "      <td>9.000000</td>\n",
       "      <td>3.000000</td>\n",
       "      <td>68.000000</td>\n",
       "      <td>46.000000</td>\n",
       "      <td>1613.000000</td>\n",
       "      <td>8.000000</td>\n",
       "      <td>70.000000</td>\n",
       "      <td>1.000000</td>\n",
       "    </tr>\n",
       "    <tr>\n",
       "      <th>25%</th>\n",
       "      <td>17.000000</td>\n",
       "      <td>4.000000</td>\n",
       "      <td>105.000000</td>\n",
       "      <td>75.000000</td>\n",
       "      <td>2225.250000</td>\n",
       "      <td>13.775000</td>\n",
       "      <td>73.000000</td>\n",
       "      <td>1.000000</td>\n",
       "    </tr>\n",
       "    <tr>\n",
       "      <th>50%</th>\n",
       "      <td>22.750000</td>\n",
       "      <td>4.000000</td>\n",
       "      <td>151.000000</td>\n",
       "      <td>93.500000</td>\n",
       "      <td>2803.500000</td>\n",
       "      <td>15.500000</td>\n",
       "      <td>76.000000</td>\n",
       "      <td>1.000000</td>\n",
       "    </tr>\n",
       "    <tr>\n",
       "      <th>75%</th>\n",
       "      <td>29.000000</td>\n",
       "      <td>8.000000</td>\n",
       "      <td>275.750000</td>\n",
       "      <td>126.000000</td>\n",
       "      <td>3614.750000</td>\n",
       "      <td>17.025000</td>\n",
       "      <td>79.000000</td>\n",
       "      <td>2.000000</td>\n",
       "    </tr>\n",
       "    <tr>\n",
       "      <th>max</th>\n",
       "      <td>46.600000</td>\n",
       "      <td>8.000000</td>\n",
       "      <td>455.000000</td>\n",
       "      <td>230.000000</td>\n",
       "      <td>5140.000000</td>\n",
       "      <td>24.800000</td>\n",
       "      <td>82.000000</td>\n",
       "      <td>3.000000</td>\n",
       "    </tr>\n",
       "  </tbody>\n",
       "</table>\n",
       "</div>"
      ],
      "text/plain": [
       "              mpg   cylinders  ...  model_year      origin\n",
       "count  392.000000  392.000000  ...  392.000000  392.000000\n",
       "mean    23.445918    5.471939  ...   75.979592    1.576531\n",
       "std      7.805007    1.705783  ...    3.683737    0.805518\n",
       "min      9.000000    3.000000  ...   70.000000    1.000000\n",
       "25%     17.000000    4.000000  ...   73.000000    1.000000\n",
       "50%     22.750000    4.000000  ...   76.000000    1.000000\n",
       "75%     29.000000    8.000000  ...   79.000000    2.000000\n",
       "max     46.600000    8.000000  ...   82.000000    3.000000\n",
       "\n",
       "[8 rows x 8 columns]"
      ]
     },
     "execution_count": 15,
     "metadata": {},
     "output_type": "execute_result"
    }
   ],
   "source": [
    "dataframe.describe()"
   ]
  },
  {
   "cell_type": "code",
   "execution_count": null,
   "metadata": {},
   "outputs": [],
   "source": []
  }
 ],
 "metadata": {
  "kernelspec": {
   "display_name": "xpython",
   "language": "python",
   "name": "xpython"
  },
  "language_info": {
   "file_extension": ".py",
   "mimetype": "text/x-python",
   "name": "python",
   "version": "3.7.6"
  }
 },
 "nbformat": 4,
 "nbformat_minor": 4
}
