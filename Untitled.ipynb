{
 "cells": [
  {
   "cell_type": "code",
   "execution_count": null,
   "id": "61991098",
   "metadata": {},
   "outputs": [],
   "source": [
    "import pandas as pd2\n",
    "\n",
    "#<xml xmlns=\"https://developers.google.com/blockly/xml\"><variables><variable id=\"*_pXO-[s::%2r;}hA-+R\">pd2</variable></variables><block type=\"importAs_Python\" id=\"]d^{)Qpq`n(:jqhj{Y~Y\" x=\"16\" y=\"10\"><field name=\"libraryName\">pandas</field><field name=\"libraryAlias\" id=\"*_pXO-[s::%2r;}hA-+R\">pd2</field></block></xml>"
   ]
  }
 ],
 "metadata": {
  "kernelspec": {
   "display_name": "xpython",
   "language": "python",
   "name": "xpython"
  },
  "language_info": {
   "file_extension": ".py",
   "mimetype": "text/x-python",
   "name": "python",
   "version": "3.7.6"
  }
 },
 "nbformat": 4,
 "nbformat_minor": 5
}
